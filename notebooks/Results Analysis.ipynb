{
 "cells": [
  {
   "cell_type": "code",
   "execution_count": 2,
   "metadata": {
    "ExecuteTime": {
     "end_time": "2019-01-10T08:28:39.630256Z",
     "start_time": "2019-01-10T08:28:39.201181Z"
    },
    "pycharm": {
     "is_executing": false
    },
    "scrolled": true
   },
   "outputs": [],
   "source": [
    "#%load_ext autoreload\n",
    "#%autoreload 2\n",
    "import project_path\n",
    "from sleep_stages.sleep_stage_config import Config\n",
    "import pandas as pd\n",
    "import pickle\n",
    "from glob import glob\n",
    "import os\n",
    "from scipy.stats import ttest_ind\n",
    "import numpy as np\n",
    "\n",
    "cfg = Config()\n",
    "baselines = [\"stages\", \"always1\", \"always0\", ] # binterval is the \"Manual Annotation alg\" and \"sleep\" is the \"device algo\"\n",
    "defaultml = [\"Random_forest_300\", \"SGD_perceptron\", \"SGD_log\", \"SGD_hinge\"] # \"SGD_huber\"\n",
    "defaultdl = [\"LSTM_20\", \"LSTM_50_raw\", \"LSTM_100_raw\", \"CNN_20_raw\", \"CNN_50_raw\", \"CNN_100_raw\"]\n",
    "period = \"sleep_period\"\n",
    "sub_folder = cfg.ANALYSIS_SUB_FOLDER[period]\n",
    "readable_algs_dict= {\"stages\":\"Ground Truth\",\"always_0\":\"Always wake\", \"always_1\":\"Always sleep\", \"CNN_20_ENMO_HRV\": \"CNN(20)\", \"CNN_50_ENMO_HRV\":\"CNN(50)\", \"CNN_100_ENMO_HRV\":\"CNN(100)\", \"LSTM_20_ENMO_HRV\":\"LSTM(20)\", \"LSTM_50_ENMO_HRV\":\"LSTM(50)\",\"LSTM_100_ENMO_HRV\":\"LSTM(100)\", \"SGD_hinge\":\"Linear SVM\", \"SGD_log\":\"Logistic Regression\", \"SGD_perceptron\":\"Perception\", \"Random_forest_300\": \"Random Forest\"}\n"
   ]
  },
  {
   "cell_type": "code",
   "execution_count": 3,
   "metadata": {
    "pycharm": {
     "is_executing": false
    }
   },
   "outputs": [],
   "source": [
    "def get_group_average(t, metrics):\n",
    "    \"\"\"\n",
    "    calculate the group average from a given data frame\n",
    "    :param t: \n",
    "    :param metrics: \n",
    "    :return: \n",
    "    \"\"\"\n",
    "    for m in metrics:\n",
    "        t[m] = t[m].apply(lambda x: np.float(x.split(\"+-\")[0]))\n",
    "    t = pd.concat((t.mean(), t.std()), axis=1)\n",
    "    t.columns = [\"Mean\", \"Std\"]\n",
    "    t = t.apply(lambda x: \"%.1f +- %.1f\" % (x[\"Mean\"],x[\"Std\"]), axis=1)\n",
    "    return t.to_frame(\"Group Average\").T.to_latex()\n",
    "\n",
    "def pvalue(results, alg1, alg2, metric):\n",
    "    \"\"\"\n",
    "    statistical significance test\n",
    "    :param results: \n",
    "    :param alg1: \n",
    "    :param alg2: \n",
    "    :param metric: \n",
    "    :return: \n",
    "    \"\"\"\n",
    "    return ttest_ind(results[alg1][metric], results[alg2][metric])[1]"
   ]
  },
  {
   "cell_type": "code",
   "execution_count": 20,
   "metadata": {
    "pycharm": {
     "is_executing": false
    }
   },
   "outputs": [],
   "source": [
    "def load_task(sub_folder, num_classes=2, feature_type = \"ENMO_HRV\",  stages_clf_columns=[]):\n",
    "    result_folder = cfg.STAGE_OUTPUT_FOLDER_HRV30s[num_classes]\n",
    "    \n",
    "    minutes_path =  os.path.join(result_folder, sub_folder, \"%d_stages_minutes_summary_%s.csv\"\n",
    "                                % (num_classes, feature_type))\n",
    "    mins_df = pd.read_csv(minutes_path)\n",
    "    mins_df = mins_df.rename(columns={\"Unnamed: 0\": \"algorithms\"})\n",
    "#     mins_df.head()\n",
    "\n",
    "    SUMMARY_FILE = os.path.join(result_folder, sub_folder, \"%d_stages_summary_%s.csv\"\n",
    "                                    % (num_classes, feature_type))\n",
    "    PICKLE_RESULT_FILE = os.path.join(result_folder, sub_folder, \"%d_stages_results_%s.pkl\"\n",
    "                                          % (num_classes, feature_type))\n",
    "    summary = pd.read_csv(SUMMARY_FILE)\n",
    "    print(\"summary csv is loaded\")\n",
    "    summary = summary.rename(columns={summary.columns[0]: \"algs\"})\n",
    "    summary = summary.set_index(\"algs\")\n",
    "\n",
    "    with open(PICKLE_RESULT_FILE, \"rb\") as f:\n",
    "        results = pickle.load(f)\n",
    "    print(\"Pickle file is loaded\")\n",
    "    # metrics = [\"accuracy\", \"specificity\", \"precision\", \"recall\", \"f1-score\"]\n",
    "    summary['algorithms'] = summary.index\n",
    "    summary = summary.reset_index(drop = True)\n",
    "    stages_combined = pd.merge(summary, mins_df, on =['algorithms'])    \n",
    "    stages_combined = stages_combined.reindex(columns=stages_clf_columns)\n",
    "    return stages_combined"
   ]
  },
  {
   "cell_type": "code",
   "execution_count": 5,
   "metadata": {},
   "outputs": [],
   "source": [
    "def ttest(results1, results2, alg1, alg2, metrics):\n",
    "    for metric in metrics:\n",
    "        print(\"T-Test for metric: %s, the p value = %.3f\" % (metric, ttest_ind(results1[alg1][metric], results2[alg2][metric])[1]))"
   ]
  },
  {
   "cell_type": "markdown",
   "metadata": {},
   "source": [
    "## 2 stages 30s hrv_len, with feature ENMO_HRV"
   ]
  },
  {
   "cell_type": "markdown",
   "metadata": {},
   "source": [
    "### load minute prediction"
   ]
  },
  {
   "cell_type": "code",
   "execution_count": 7,
   "metadata": {
    "pycharm": {
     "is_executing": false
    },
    "scrolled": true
   },
   "outputs": [
    {
     "data": {
      "text/html": [
       "<div>\n",
       "<style scoped>\n",
       "    .dataframe tbody tr th:only-of-type {\n",
       "        vertical-align: middle;\n",
       "    }\n",
       "\n",
       "    .dataframe tbody tr th {\n",
       "        vertical-align: top;\n",
       "    }\n",
       "\n",
       "    .dataframe thead th {\n",
       "        text-align: right;\n",
       "    }\n",
       "</style>\n",
       "<table border=\"1\" class=\"dataframe\">\n",
       "  <thead>\n",
       "    <tr style=\"text-align: right;\">\n",
       "      <th></th>\n",
       "      <th>algorithms</th>\n",
       "      <th>Sleep</th>\n",
       "      <th>Wake</th>\n",
       "    </tr>\n",
       "  </thead>\n",
       "  <tbody>\n",
       "    <tr>\n",
       "      <th>0</th>\n",
       "      <td>always_0</td>\n",
       "      <td>-363.5 +- 8.9</td>\n",
       "      <td>363.5 +- 8.9</td>\n",
       "    </tr>\n",
       "    <tr>\n",
       "      <th>1</th>\n",
       "      <td>always_1</td>\n",
       "      <td>88.9 +- 6.6</td>\n",
       "      <td>-88.9 +- 6.6</td>\n",
       "    </tr>\n",
       "    <tr>\n",
       "      <th>2</th>\n",
       "      <td>CNN_20_ENMO_HRV</td>\n",
       "      <td>22.2 +- 5.4</td>\n",
       "      <td>-22.2 +- 5.4</td>\n",
       "    </tr>\n",
       "    <tr>\n",
       "      <th>3</th>\n",
       "      <td>CNN_50_ENMO_HRV</td>\n",
       "      <td>19.6 +- 5.8</td>\n",
       "      <td>-19.6 +- 5.8</td>\n",
       "    </tr>\n",
       "    <tr>\n",
       "      <th>4</th>\n",
       "      <td>CNN_100_ENMO_HRV</td>\n",
       "      <td>17.4 +- 5.9</td>\n",
       "      <td>-17.4 +- 5.9</td>\n",
       "    </tr>\n",
       "  </tbody>\n",
       "</table>\n",
       "</div>"
      ],
      "text/plain": [
       "         algorithms          Sleep          Wake\n",
       "0          always_0  -363.5 +- 8.9  363.5 +- 8.9\n",
       "1          always_1    88.9 +- 6.6  -88.9 +- 6.6\n",
       "2   CNN_20_ENMO_HRV    22.2 +- 5.4  -22.2 +- 5.4\n",
       "3   CNN_50_ENMO_HRV    19.6 +- 5.8  -19.6 +- 5.8\n",
       "4  CNN_100_ENMO_HRV    17.4 +- 5.9  -17.4 +- 5.9"
      ]
     },
     "execution_count": 7,
     "metadata": {},
     "output_type": "execute_result"
    }
   ],
   "source": [
    "num_classes = 2\n",
    "feature_type ='ENMO_HRV'\n",
    "result_folder = cfg.STAGE_OUTPUT_FOLDER_HRV30s[num_classes]\n",
    "minutes_path =  os.path.join(result_folder, sub_folder, \"%d_stages_minutes_summary_%s.csv\"\n",
    "                                % (num_classes, feature_type))\n",
    "mins_df = pd.read_csv(minutes_path)\n",
    "mins_df = mins_df.rename(columns={\"Unnamed: 0\": \"algorithms\"})\n",
    "mins_df.head()"
   ]
  },
  {
   "cell_type": "markdown",
   "metadata": {},
   "source": [
    "### load classifier performance prediction"
   ]
  },
  {
   "cell_type": "code",
   "execution_count": 9,
   "metadata": {
    "pycharm": {
     "is_executing": false
    },
    "scrolled": true
   },
   "outputs": [
    {
     "name": "stdout",
     "output_type": "stream",
     "text": [
      "summary csv is loaded\n",
      "Pickle file is loaded\n"
     ]
    }
   ],
   "source": [
    "SUMMARY_FILE = os.path.join(result_folder, sub_folder, \"%d_stages_summary_%s.csv\"\n",
    "                                % (num_classes, feature_type))\n",
    "PICKLE_RESULT_FILE = os.path.join(result_folder, sub_folder, \"%d_stages_results_%s.pkl\"\n",
    "                                      % (num_classes, feature_type))\n",
    "summary = pd.read_csv(SUMMARY_FILE)\n",
    "print(\"summary csv is loaded\")\n",
    "summary = summary.rename(columns={summary.columns[0]: \"algs\"})\n",
    "summary = summary.set_index(\"algs\")\n",
    "\n",
    "with open(PICKLE_RESULT_FILE, \"rb\") as f:\n",
    "    results = pickle.load(f)\n",
    "print(\"Pickle file is loaded\")\n",
    "metrics = [\"accuracy\", \"specificity\", \"precision\", \"recall\", \"f1-score\", \"cohen-kappa\"]\n",
    "summary['algorithms'] = summary.index\n",
    "summary = summary.reset_index(drop = True)\n"
   ]
  },
  {
   "cell_type": "code",
   "execution_count": 10,
   "metadata": {},
   "outputs": [
    {
     "data": {
      "text/html": [
       "<div>\n",
       "<style scoped>\n",
       "    .dataframe tbody tr th:only-of-type {\n",
       "        vertical-align: middle;\n",
       "    }\n",
       "\n",
       "    .dataframe tbody tr th {\n",
       "        vertical-align: top;\n",
       "    }\n",
       "\n",
       "    .dataframe thead th {\n",
       "        text-align: right;\n",
       "    }\n",
       "</style>\n",
       "<table border=\"1\" class=\"dataframe\">\n",
       "  <thead>\n",
       "    <tr style=\"text-align: right;\">\n",
       "      <th></th>\n",
       "      <th>accuracy</th>\n",
       "      <th>cohen-kappa</th>\n",
       "      <th>f1-score</th>\n",
       "      <th>precision</th>\n",
       "      <th>recall</th>\n",
       "      <th>specificity</th>\n",
       "      <th>algorithms</th>\n",
       "    </tr>\n",
       "  </thead>\n",
       "  <tbody>\n",
       "    <tr>\n",
       "      <th>0</th>\n",
       "      <td>19.3 +- 1.3</td>\n",
       "      <td>0.0 +- 0.0</td>\n",
       "      <td>0.3 +- 0.6</td>\n",
       "      <td>0.3 +- 0.6</td>\n",
       "      <td>0.3 +- 0.6</td>\n",
       "      <td>99.7 +- 0.6</td>\n",
       "      <td>always_0</td>\n",
       "    </tr>\n",
       "    <tr>\n",
       "      <th>1</th>\n",
       "      <td>80.9 +- 1.2</td>\n",
       "      <td>0.0 +- 0.0</td>\n",
       "      <td>88.9 +- 0.8</td>\n",
       "      <td>80.9 +- 1.2</td>\n",
       "      <td>100.0 +- 0.0</td>\n",
       "      <td>0.0 +- 0.0</td>\n",
       "      <td>always_1</td>\n",
       "    </tr>\n",
       "    <tr>\n",
       "      <th>2</th>\n",
       "      <td>84.9 +- 1.0</td>\n",
       "      <td>44.0 +- 2.0</td>\n",
       "      <td>90.1 +- 0.9</td>\n",
       "      <td>88.3 +- 1.0</td>\n",
       "      <td>93.1 +- 1.0</td>\n",
       "      <td>48.9 +- 2.2</td>\n",
       "      <td>CNN_20_ENMO_HRV</td>\n",
       "    </tr>\n",
       "    <tr>\n",
       "      <th>3</th>\n",
       "      <td>85.1 +- 1.1</td>\n",
       "      <td>44.7 +- 2.2</td>\n",
       "      <td>90.0 +- 1.0</td>\n",
       "      <td>88.7 +- 1.0</td>\n",
       "      <td>92.8 +- 1.2</td>\n",
       "      <td>50.1 +- 2.5</td>\n",
       "      <td>CNN_50_ENMO_HRV</td>\n",
       "    </tr>\n",
       "    <tr>\n",
       "      <th>4</th>\n",
       "      <td>85.1 +- 1.1</td>\n",
       "      <td>44.8 +- 2.2</td>\n",
       "      <td>90.0 +- 1.0</td>\n",
       "      <td>88.9 +- 1.0</td>\n",
       "      <td>92.5 +- 1.2</td>\n",
       "      <td>50.9 +- 2.5</td>\n",
       "      <td>CNN_100_ENMO_HRV</td>\n",
       "    </tr>\n",
       "  </tbody>\n",
       "</table>\n",
       "</div>"
      ],
      "text/plain": [
       "      accuracy  cohen-kappa     f1-score    precision        recall  \\\n",
       "0  19.3 +- 1.3   0.0 +- 0.0   0.3 +- 0.6   0.3 +- 0.6    0.3 +- 0.6   \n",
       "1  80.9 +- 1.2   0.0 +- 0.0  88.9 +- 0.8  80.9 +- 1.2  100.0 +- 0.0   \n",
       "2  84.9 +- 1.0  44.0 +- 2.0  90.1 +- 0.9  88.3 +- 1.0   93.1 +- 1.0   \n",
       "3  85.1 +- 1.1  44.7 +- 2.2  90.0 +- 1.0  88.7 +- 1.0   92.8 +- 1.2   \n",
       "4  85.1 +- 1.1  44.8 +- 2.2  90.0 +- 1.0  88.9 +- 1.0   92.5 +- 1.2   \n",
       "\n",
       "   specificity        algorithms  \n",
       "0  99.7 +- 0.6          always_0  \n",
       "1   0.0 +- 0.0          always_1  \n",
       "2  48.9 +- 2.2   CNN_20_ENMO_HRV  \n",
       "3  50.1 +- 2.5   CNN_50_ENMO_HRV  \n",
       "4  50.9 +- 2.5  CNN_100_ENMO_HRV  "
      ]
     },
     "execution_count": 10,
     "metadata": {},
     "output_type": "execute_result"
    }
   ],
   "source": [
    "summary.head()"
   ]
  },
  {
   "cell_type": "markdown",
   "metadata": {},
   "source": [
    "### combine predicted minutes and metrics"
   ]
  },
  {
   "cell_type": "code",
   "execution_count": 11,
   "metadata": {
    "scrolled": false
   },
   "outputs": [],
   "source": [
    "stages_2_combined = pd.merge(summary,mins_df, on =['algorithms'])\n",
    "stages_2_clf_columns= ['algorithms', \"accuracy\", \"specificity\", \"precision\", \"recall\", \"f1-score\", \"cohen-kappa\", \"Wake\", \"Sleep\"]\n",
    "\n",
    "stages_2_combined = stages_2_combined.reindex(columns=stages_2_clf_columns)"
   ]
  },
  {
   "cell_type": "code",
   "execution_count": null,
   "metadata": {},
   "outputs": [],
   "source": [
    "stages_2_combined.head(110)"
   ]
  },
  {
   "cell_type": "code",
   "execution_count": 13,
   "metadata": {
    "scrolled": true
   },
   "outputs": [
    {
     "name": "stdout",
     "output_type": "stream",
     "text": [
      "         old_alg_name         new_alg_name\n",
      "0              stages         Ground Truth\n",
      "1            always_0          Always wake\n",
      "2            always_1         Always sleep\n",
      "3     CNN_20_ENMO_HRV              CNN(20)\n",
      "4     CNN_50_ENMO_HRV              CNN(50)\n",
      "5    CNN_100_ENMO_HRV             CNN(100)\n",
      "6    LSTM_20_ENMO_HRV             LSTM(20)\n",
      "7    LSTM_50_ENMO_HRV             LSTM(50)\n",
      "8   LSTM_100_ENMO_HRV            LSTM(100)\n",
      "9           SGD_hinge           Linear SVM\n",
      "10            SGD_log  Logistic Regression\n",
      "11     SGD_perceptron           Perception\n",
      "12  Random_forest_300        Random Forest\n"
     ]
    }
   ],
   "source": [
    "readable_df = pd.DataFrame(list(readable_algs_dict.items()), columns=[\"old_alg_name\",\"new_alg_name\"])\n",
    "print(readable_df)"
   ]
  },
  {
   "cell_type": "code",
   "execution_count": 14,
   "metadata": {
    "scrolled": false
   },
   "outputs": [
    {
     "data": {
      "text/plain": [
       "'Always wake'"
      ]
     },
     "execution_count": 14,
     "metadata": {},
     "output_type": "execute_result"
    }
   ],
   "source": [
    "readable_algs_dict['always_0']"
   ]
  },
  {
   "cell_type": "code",
   "execution_count": 16,
   "metadata": {
    "ExecuteTime": {
     "end_time": "2019-01-09T07:13:12.045914Z",
     "start_time": "2019-01-09T07:13:12.035270Z"
    },
    "pycharm": {
     "is_executing": false
    }
   },
   "outputs": [],
   "source": [
    "stages_2_baselines = ['stages', 'always_0', 'always_1']\n",
    "stages_2_combined['algorithms'] = stages_2_combined['algorithms'].apply(lambda x: readable_algs_dict[x])\n",
    "\n"
   ]
  },
  {
   "cell_type": "code",
   "execution_count": 18,
   "metadata": {},
   "outputs": [
    {
     "data": {
      "text/html": [
       "<div>\n",
       "<style scoped>\n",
       "    .dataframe tbody tr th:only-of-type {\n",
       "        vertical-align: middle;\n",
       "    }\n",
       "\n",
       "    .dataframe tbody tr th {\n",
       "        vertical-align: top;\n",
       "    }\n",
       "\n",
       "    .dataframe thead th {\n",
       "        text-align: right;\n",
       "    }\n",
       "</style>\n",
       "<table border=\"1\" class=\"dataframe\">\n",
       "  <thead>\n",
       "    <tr style=\"text-align: right;\">\n",
       "      <th></th>\n",
       "      <th>algorithms</th>\n",
       "      <th>accuracy</th>\n",
       "      <th>specificity</th>\n",
       "      <th>precision</th>\n",
       "      <th>recall</th>\n",
       "      <th>f1-score</th>\n",
       "      <th>cohen-kappa</th>\n",
       "      <th>Wake</th>\n",
       "      <th>Sleep</th>\n",
       "    </tr>\n",
       "  </thead>\n",
       "  <tbody>\n",
       "    <tr>\n",
       "      <th>1</th>\n",
       "      <td>Always sleep</td>\n",
       "      <td>80.9 +- 1.2</td>\n",
       "      <td>0.0 +- 0.0</td>\n",
       "      <td>80.9 +- 1.2</td>\n",
       "      <td>100.0 +- 0.0</td>\n",
       "      <td>88.9 +- 0.8</td>\n",
       "      <td>0.0 +- 0.0</td>\n",
       "      <td>-88.9 +- 6.6</td>\n",
       "      <td>88.9 +- 6.6</td>\n",
       "    </tr>\n",
       "    <tr>\n",
       "      <th>4</th>\n",
       "      <td>CNN(100)</td>\n",
       "      <td>85.1 +- 1.1</td>\n",
       "      <td>50.9 +- 2.5</td>\n",
       "      <td>88.9 +- 1.0</td>\n",
       "      <td>92.5 +- 1.2</td>\n",
       "      <td>90.0 +- 1.0</td>\n",
       "      <td>44.8 +- 2.2</td>\n",
       "      <td>-17.4 +- 5.9</td>\n",
       "      <td>17.4 +- 5.9</td>\n",
       "    </tr>\n",
       "    <tr>\n",
       "      <th>5</th>\n",
       "      <td>LSTM(20)</td>\n",
       "      <td>83.5 +- 1.0</td>\n",
       "      <td>56.5 +- 2.3</td>\n",
       "      <td>89.6 +- 0.9</td>\n",
       "      <td>89.4 +- 1.1</td>\n",
       "      <td>88.9 +- 0.9</td>\n",
       "      <td>43.5 +- 2.1</td>\n",
       "      <td>-1.0 +- 5.6</td>\n",
       "      <td>1.0 +- 5.6</td>\n",
       "    </tr>\n",
       "    <tr>\n",
       "      <th>2</th>\n",
       "      <td>CNN(20)</td>\n",
       "      <td>84.9 +- 1.0</td>\n",
       "      <td>48.9 +- 2.2</td>\n",
       "      <td>88.3 +- 1.0</td>\n",
       "      <td>93.1 +- 1.0</td>\n",
       "      <td>90.1 +- 0.9</td>\n",
       "      <td>44.0 +- 2.0</td>\n",
       "      <td>-22.2 +- 5.4</td>\n",
       "      <td>22.2 +- 5.4</td>\n",
       "    </tr>\n",
       "    <tr>\n",
       "      <th>6</th>\n",
       "      <td>LSTM(50)</td>\n",
       "      <td>83.6 +- 1.1</td>\n",
       "      <td>54.3 +- 2.4</td>\n",
       "      <td>89.5 +- 0.9</td>\n",
       "      <td>89.3 +- 1.2</td>\n",
       "      <td>88.9 +- 0.9</td>\n",
       "      <td>42.4 +- 2.2</td>\n",
       "      <td>-0.9 +- 5.5</td>\n",
       "      <td>0.9 +- 5.5</td>\n",
       "    </tr>\n",
       "  </tbody>\n",
       "</table>\n",
       "</div>"
      ],
      "text/plain": [
       "     algorithms     accuracy  specificity    precision        recall  \\\n",
       "1  Always sleep  80.9 +- 1.2   0.0 +- 0.0  80.9 +- 1.2  100.0 +- 0.0   \n",
       "4      CNN(100)  85.1 +- 1.1  50.9 +- 2.5  88.9 +- 1.0   92.5 +- 1.2   \n",
       "5      LSTM(20)  83.5 +- 1.0  56.5 +- 2.3  89.6 +- 0.9   89.4 +- 1.1   \n",
       "2       CNN(20)  84.9 +- 1.0  48.9 +- 2.2  88.3 +- 1.0   93.1 +- 1.0   \n",
       "6      LSTM(50)  83.6 +- 1.1  54.3 +- 2.4  89.5 +- 0.9   89.3 +- 1.2   \n",
       "\n",
       "      f1-score  cohen-kappa          Wake        Sleep  \n",
       "1  88.9 +- 0.8   0.0 +- 0.0  -88.9 +- 6.6  88.9 +- 6.6  \n",
       "4  90.0 +- 1.0  44.8 +- 2.2  -17.4 +- 5.9  17.4 +- 5.9  \n",
       "5  88.9 +- 0.9  43.5 +- 2.1   -1.0 +- 5.6   1.0 +- 5.6  \n",
       "2  90.1 +- 0.9  44.0 +- 2.0  -22.2 +- 5.4  22.2 +- 5.4  \n",
       "6  88.9 +- 0.9  42.4 +- 2.2   -0.9 +- 5.5   0.9 +- 5.5  "
      ]
     },
     "execution_count": 18,
     "metadata": {},
     "output_type": "execute_result"
    }
   ],
   "source": [
    "stages_2_combined.sample(5)"
   ]
  },
  {
   "cell_type": "code",
   "execution_count": 29,
   "metadata": {},
   "outputs": [],
   "source": [
    "bls = readable_df.new_alg_name.unique().tolist()"
   ]
  },
  {
   "cell_type": "code",
   "execution_count": 32,
   "metadata": {},
   "outputs": [],
   "source": [
    "# stages_2_combined"
   ]
  },
  {
   "cell_type": "markdown",
   "metadata": {},
   "source": [
    "### this is the section to produce latex table"
   ]
  },
  {
   "cell_type": "code",
   "execution_count": null,
   "metadata": {},
   "outputs": [],
   "source": [
    "stages_2_combined['acc_for_sort'] = stages_2_combined['accuracy'].apply(lambda x: np.float(x.split(\"+-\")[0]))\n",
    "print(bls)  \n",
    "print(stages_2_combined[stages_2_combined['algorithms'].isin(bls)].sort_values(by=\"acc_for_sort\", ascending=False)[stages_2_clf_columns].to_latex(index=False))"
   ]
  },
  {
   "cell_type": "code",
   "execution_count": null,
   "metadata": {},
   "outputs": [],
   "source": [
    "stages_2_combined[stages_2_combined['algorithms'].isin(bls)].sort_values(by=\"acc_for_sort\", ascending=False)[stages_2_clf_columns]"
   ]
  },
  {
   "cell_type": "markdown",
   "metadata": {},
   "source": [
    "### this is the 2 stages ENMO alone and HRV alone in one table"
   ]
  },
  {
   "cell_type": "code",
   "execution_count": 23,
   "metadata": {
    "scrolled": false
   },
   "outputs": [
    {
     "name": "stdout",
     "output_type": "stream",
     "text": [
      "summary csv is loaded\n",
      "Pickle file is loaded\n"
     ]
    }
   ],
   "source": [
    "num_classes = 2\n",
    "stages_2_clf_columns=  ['algorithms', \"accuracy\", \"specificity\", \"precision\", \"recall\", \"f1-score\", \"cohen-kappa\", \"Sleep\", \"Wake\"]\n",
    "stage_2_df = load_task(sub_folder, num_classes=num_classes, feature_type='ENMO', stages_clf_columns=stages_2_clf_columns)\n",
    "\n",
    "readable_2_algs_dict = {\"stages\":\"ground truth\",\"always_0\":\"always wake\", \"always_1\":\"always sleep\", \"CNN_20_ENMO\": \"CNN 20\", \"CNN_50_ENMO\":\"CNN 50\", \"CNN_100_ENMO\":\"CNN 100\", \"LSTM_20_ENMO\":\"LSTM 20\", \"LSTM_50_ENMO\":\"LSTM 50\",\"LSTM_100_ENMO\":\"LSTM 100\", \"SGD_hinge\":\"Linear SVM\", \"SGD_log\":\"Logistic Regression\", \"SGD_perceptron\":\"Perception\", \"Random_forest_300\": \"Random Forest\"}\n",
    "readable_2stages_df = pd.DataFrame(list(readable_2_algs_dict.items()), columns=[\"old_alg_name\",\"new_alg_name\"])\n",
    "\n"
   ]
  },
  {
   "cell_type": "code",
   "execution_count": 39,
   "metadata": {},
   "outputs": [],
   "source": [
    "readable_df = pd.DataFrame(list(readable_algs_dict.items()), columns=[\"old_alg_name\",\"new_alg_name\"])\n",
    "stages_2_baselines = ['stages', 'always_0', 'always_1']\n",
    "stage_2_df['algorithms'] = stage_2_df['algorithms'].apply(lambda x: readable_2_algs_dict[x])\n",
    "bls = readable_df.new_alg_name.unique().tolist()"
   ]
  },
  {
   "cell_type": "markdown",
   "metadata": {},
   "source": [
    "### 2 stages HRV "
   ]
  },
  {
   "cell_type": "code",
   "execution_count": 46,
   "metadata": {},
   "outputs": [
    {
     "name": "stdout",
     "output_type": "stream",
     "text": [
      "summary csv is loaded\n",
      "Pickle file is loaded\n"
     ]
    }
   ],
   "source": [
    "num_classes = 2\n",
    "stages_2_clf_columns=  ['algorithms', \"accuracy\", \"specificity\", \"precision\", \"recall\", \"f1-score\", \"cohen-kappa\", \"Sleep\", \"Wake\"]\n",
    "stage_2_df = load_task(sub_folder, num_classes=num_classes, feature_type='HRV', stages_clf_columns=stages_2_clf_columns)\n",
    "\n",
    "# readable_2_algs_dict = {\"stages\":\"ground truth\",\"always_0\":\"always wake\", \"always_1\":\"always sleep\", \"CNN_20_HRV\": \"CNN 20\", \"CNN_50_HRV\":\"CNN 50\", \"CNN_100_HRV\":\"CNN 100\", \"LSTM_20_HRV\":\"LSTM 20\", \"LSTM_50_HRV\":\"LSTM 50\",\"LSTM_100_HRV\":\"LSTM 100\", \"SGD_hinge\":\"Linear SVM\", \"SGD_log\":\"Logistic Regression\", \"SGD_perceptron\":\"Perception\", \"Random_forest_300\": \"Random Forest\"}\n",
    "readable_2stages_df = pd.DataFrame(list(readable_2_algs_dict.items()), columns=[\"old_alg_name\",\"new_alg_name\"])\n"
   ]
  },
  {
   "cell_type": "code",
   "execution_count": null,
   "metadata": {},
   "outputs": [],
   "source": [
    "stage_2_df"
   ]
  },
  {
   "cell_type": "code",
   "execution_count": 48,
   "metadata": {},
   "outputs": [],
   "source": [
    "readable_df = pd.DataFrame(list(readable_algs_dict.items()), columns=[\"old_alg_name\",\"new_alg_name\"])\n",
    "stages_2_baselines = ['stages', 'always_0', 'always_1']\n",
    "stage_2_df['algorithms'] = stage_2_df['algorithms'].apply(lambda x: readable_2_algs_dict[x])\n",
    "stage_2_bls = readable_df.new_alg_name.unique().tolist()"
   ]
  },
  {
   "cell_type": "code",
   "execution_count": 49,
   "metadata": {},
   "outputs": [
    {
     "data": {
      "text/html": [
       "<div>\n",
       "<style scoped>\n",
       "    .dataframe tbody tr th:only-of-type {\n",
       "        vertical-align: middle;\n",
       "    }\n",
       "\n",
       "    .dataframe tbody tr th {\n",
       "        vertical-align: top;\n",
       "    }\n",
       "\n",
       "    .dataframe thead th {\n",
       "        text-align: right;\n",
       "    }\n",
       "</style>\n",
       "<table border=\"1\" class=\"dataframe\">\n",
       "  <thead>\n",
       "    <tr style=\"text-align: right;\">\n",
       "      <th></th>\n",
       "      <th>algorithms</th>\n",
       "      <th>accuracy</th>\n",
       "      <th>specificity</th>\n",
       "      <th>precision</th>\n",
       "      <th>recall</th>\n",
       "      <th>f1-score</th>\n",
       "      <th>cohen-kappa</th>\n",
       "      <th>Sleep</th>\n",
       "      <th>Wake</th>\n",
       "      <th>acc_for_sort</th>\n",
       "    </tr>\n",
       "  </thead>\n",
       "  <tbody>\n",
       "    <tr>\n",
       "      <th>12</th>\n",
       "      <td>ground truth</td>\n",
       "      <td>100.0 +- 0.0</td>\n",
       "      <td>99.7 +- 0.6</td>\n",
       "      <td>100.0 +- 0.0</td>\n",
       "      <td>100.0 +- 0.0</td>\n",
       "      <td>100.0 +- 0.0</td>\n",
       "      <td>100.0 +- 0.0</td>\n",
       "      <td>364.0 +- 8.7</td>\n",
       "      <td>88.9 +- 6.6</td>\n",
       "      <td>100.0</td>\n",
       "    </tr>\n",
       "    <tr>\n",
       "      <th>3</th>\n",
       "      <td>CNN 50</td>\n",
       "      <td>81.7 +- 1.2</td>\n",
       "      <td>43.0 +- 2.3</td>\n",
       "      <td>86.3 +- 1.2</td>\n",
       "      <td>91.3 +- 1.3</td>\n",
       "      <td>87.9 +- 1.1</td>\n",
       "      <td>35.3 +- 1.9</td>\n",
       "      <td>23.2 +- 7.3</td>\n",
       "      <td>-23.2 +- 7.3</td>\n",
       "      <td>81.7</td>\n",
       "    </tr>\n",
       "    <tr>\n",
       "      <th>4</th>\n",
       "      <td>CNN 100</td>\n",
       "      <td>81.7 +- 1.3</td>\n",
       "      <td>43.7 +- 2.3</td>\n",
       "      <td>86.5 +- 1.1</td>\n",
       "      <td>91.0 +- 1.4</td>\n",
       "      <td>87.8 +- 1.2</td>\n",
       "      <td>35.7 +- 2.0</td>\n",
       "      <td>21.4 +- 7.4</td>\n",
       "      <td>-21.4 +- 7.4</td>\n",
       "      <td>81.7</td>\n",
       "    </tr>\n",
       "    <tr>\n",
       "      <th>1</th>\n",
       "      <td>always sleep</td>\n",
       "      <td>80.9 +- 1.2</td>\n",
       "      <td>0.0 +- 0.0</td>\n",
       "      <td>80.9 +- 1.2</td>\n",
       "      <td>100.0 +- 0.0</td>\n",
       "      <td>88.9 +- 0.8</td>\n",
       "      <td>0.0 +- 0.0</td>\n",
       "      <td>88.9 +- 6.6</td>\n",
       "      <td>-88.9 +- 6.6</td>\n",
       "      <td>80.9</td>\n",
       "    </tr>\n",
       "    <tr>\n",
       "      <th>5</th>\n",
       "      <td>LSTM 20</td>\n",
       "      <td>80.9 +- 1.1</td>\n",
       "      <td>48.4 +- 2.2</td>\n",
       "      <td>87.1 +- 1.2</td>\n",
       "      <td>89.0 +- 1.2</td>\n",
       "      <td>87.3 +- 1.0</td>\n",
       "      <td>35.4 +- 1.8</td>\n",
       "      <td>8.9 +- 6.8</td>\n",
       "      <td>-8.9 +- 6.8</td>\n",
       "      <td>80.9</td>\n",
       "    </tr>\n",
       "    <tr>\n",
       "      <th>8</th>\n",
       "      <td>Linear SVM</td>\n",
       "      <td>80.6 +- 1.3</td>\n",
       "      <td>15.4 +- 1.8</td>\n",
       "      <td>82.6 +- 1.2</td>\n",
       "      <td>96.6 +- 1.0</td>\n",
       "      <td>88.2 +- 1.0</td>\n",
       "      <td>14.7 +- 1.4</td>\n",
       "      <td>65.3 +- 7.7</td>\n",
       "      <td>-65.3 +- 7.7</td>\n",
       "      <td>80.6</td>\n",
       "    </tr>\n",
       "    <tr>\n",
       "      <th>2</th>\n",
       "      <td>CNN 20</td>\n",
       "      <td>80.3 +- 1.3</td>\n",
       "      <td>44.7 +- 2.3</td>\n",
       "      <td>86.2 +- 1.3</td>\n",
       "      <td>89.5 +- 1.4</td>\n",
       "      <td>86.9 +- 1.1</td>\n",
       "      <td>33.3 +- 1.9</td>\n",
       "      <td>15.9 +- 7.6</td>\n",
       "      <td>-15.9 +- 7.6</td>\n",
       "      <td>80.3</td>\n",
       "    </tr>\n",
       "    <tr>\n",
       "      <th>6</th>\n",
       "      <td>LSTM 50</td>\n",
       "      <td>80.2 +- 1.2</td>\n",
       "      <td>46.4 +- 2.4</td>\n",
       "      <td>87.2 +- 1.1</td>\n",
       "      <td>88.3 +- 1.3</td>\n",
       "      <td>86.8 +- 1.1</td>\n",
       "      <td>33.1 +- 2.0</td>\n",
       "      <td>6.5 +- 7.5</td>\n",
       "      <td>-6.5 +- 7.5</td>\n",
       "      <td>80.2</td>\n",
       "    </tr>\n",
       "    <tr>\n",
       "      <th>7</th>\n",
       "      <td>LSTM 100</td>\n",
       "      <td>80.2 +- 1.2</td>\n",
       "      <td>42.6 +- 2.5</td>\n",
       "      <td>86.8 +- 1.1</td>\n",
       "      <td>89.0 +- 1.3</td>\n",
       "      <td>87.0 +- 1.0</td>\n",
       "      <td>30.6 +- 2.1</td>\n",
       "      <td>12.1 +- 7.3</td>\n",
       "      <td>-12.1 +- 7.3</td>\n",
       "      <td>80.2</td>\n",
       "    </tr>\n",
       "    <tr>\n",
       "      <th>9</th>\n",
       "      <td>Logistic Regression</td>\n",
       "      <td>77.6 +- 1.6</td>\n",
       "      <td>32.6 +- 2.7</td>\n",
       "      <td>84.4 +- 1.3</td>\n",
       "      <td>89.1 +- 1.9</td>\n",
       "      <td>84.8 +- 1.5</td>\n",
       "      <td>22.4 +- 1.8</td>\n",
       "      <td>25.4 +- 10.3</td>\n",
       "      <td>-25.4 +- 10.3</td>\n",
       "      <td>77.6</td>\n",
       "    </tr>\n",
       "    <tr>\n",
       "      <th>11</th>\n",
       "      <td>Random Forest</td>\n",
       "      <td>76.6 +- 1.5</td>\n",
       "      <td>36.5 +- 2.4</td>\n",
       "      <td>84.7 +- 1.2</td>\n",
       "      <td>86.7 +- 1.9</td>\n",
       "      <td>83.9 +- 1.5</td>\n",
       "      <td>22.7 +- 1.5</td>\n",
       "      <td>12.7 +- 10.1</td>\n",
       "      <td>-12.7 +- 10.1</td>\n",
       "      <td>76.6</td>\n",
       "    </tr>\n",
       "    <tr>\n",
       "      <th>10</th>\n",
       "      <td>Perception</td>\n",
       "      <td>46.4 +- 2.1</td>\n",
       "      <td>53.0 +- 2.3</td>\n",
       "      <td>78.0 +- 1.5</td>\n",
       "      <td>44.4 +- 2.8</td>\n",
       "      <td>52.6 +- 2.5</td>\n",
       "      <td>1.2 +- 1.1</td>\n",
       "      <td>-162.1 +- 13.3</td>\n",
       "      <td>162.1 +- 13.3</td>\n",
       "      <td>46.4</td>\n",
       "    </tr>\n",
       "    <tr>\n",
       "      <th>0</th>\n",
       "      <td>always wake</td>\n",
       "      <td>19.3 +- 1.3</td>\n",
       "      <td>99.7 +- 0.6</td>\n",
       "      <td>0.3 +- 0.6</td>\n",
       "      <td>0.3 +- 0.6</td>\n",
       "      <td>0.3 +- 0.6</td>\n",
       "      <td>0.0 +- 0.0</td>\n",
       "      <td>-363.5 +- 8.9</td>\n",
       "      <td>363.5 +- 8.9</td>\n",
       "      <td>19.3</td>\n",
       "    </tr>\n",
       "  </tbody>\n",
       "</table>\n",
       "</div>"
      ],
      "text/plain": [
       "             algorithms      accuracy  specificity     precision  \\\n",
       "12         ground truth  100.0 +- 0.0  99.7 +- 0.6  100.0 +- 0.0   \n",
       "3                CNN 50   81.7 +- 1.2  43.0 +- 2.3   86.3 +- 1.2   \n",
       "4               CNN 100   81.7 +- 1.3  43.7 +- 2.3   86.5 +- 1.1   \n",
       "1          always sleep   80.9 +- 1.2   0.0 +- 0.0   80.9 +- 1.2   \n",
       "5               LSTM 20   80.9 +- 1.1  48.4 +- 2.2   87.1 +- 1.2   \n",
       "8            Linear SVM   80.6 +- 1.3  15.4 +- 1.8   82.6 +- 1.2   \n",
       "2                CNN 20   80.3 +- 1.3  44.7 +- 2.3   86.2 +- 1.3   \n",
       "6               LSTM 50   80.2 +- 1.2  46.4 +- 2.4   87.2 +- 1.1   \n",
       "7              LSTM 100   80.2 +- 1.2  42.6 +- 2.5   86.8 +- 1.1   \n",
       "9   Logistic Regression   77.6 +- 1.6  32.6 +- 2.7   84.4 +- 1.3   \n",
       "11        Random Forest   76.6 +- 1.5  36.5 +- 2.4   84.7 +- 1.2   \n",
       "10           Perception   46.4 +- 2.1  53.0 +- 2.3   78.0 +- 1.5   \n",
       "0           always wake   19.3 +- 1.3  99.7 +- 0.6    0.3 +- 0.6   \n",
       "\n",
       "          recall      f1-score   cohen-kappa           Sleep           Wake  \\\n",
       "12  100.0 +- 0.0  100.0 +- 0.0  100.0 +- 0.0    364.0 +- 8.7    88.9 +- 6.6   \n",
       "3    91.3 +- 1.3   87.9 +- 1.1   35.3 +- 1.9     23.2 +- 7.3   -23.2 +- 7.3   \n",
       "4    91.0 +- 1.4   87.8 +- 1.2   35.7 +- 2.0     21.4 +- 7.4   -21.4 +- 7.4   \n",
       "1   100.0 +- 0.0   88.9 +- 0.8    0.0 +- 0.0     88.9 +- 6.6   -88.9 +- 6.6   \n",
       "5    89.0 +- 1.2   87.3 +- 1.0   35.4 +- 1.8      8.9 +- 6.8    -8.9 +- 6.8   \n",
       "8    96.6 +- 1.0   88.2 +- 1.0   14.7 +- 1.4     65.3 +- 7.7   -65.3 +- 7.7   \n",
       "2    89.5 +- 1.4   86.9 +- 1.1   33.3 +- 1.9     15.9 +- 7.6   -15.9 +- 7.6   \n",
       "6    88.3 +- 1.3   86.8 +- 1.1   33.1 +- 2.0      6.5 +- 7.5    -6.5 +- 7.5   \n",
       "7    89.0 +- 1.3   87.0 +- 1.0   30.6 +- 2.1     12.1 +- 7.3   -12.1 +- 7.3   \n",
       "9    89.1 +- 1.9   84.8 +- 1.5   22.4 +- 1.8    25.4 +- 10.3  -25.4 +- 10.3   \n",
       "11   86.7 +- 1.9   83.9 +- 1.5   22.7 +- 1.5    12.7 +- 10.1  -12.7 +- 10.1   \n",
       "10   44.4 +- 2.8   52.6 +- 2.5    1.2 +- 1.1  -162.1 +- 13.3  162.1 +- 13.3   \n",
       "0     0.3 +- 0.6    0.3 +- 0.6    0.0 +- 0.0   -363.5 +- 8.9   363.5 +- 8.9   \n",
       "\n",
       "    acc_for_sort  \n",
       "12         100.0  \n",
       "3           81.7  \n",
       "4           81.7  \n",
       "1           80.9  \n",
       "5           80.9  \n",
       "8           80.6  \n",
       "2           80.3  \n",
       "6           80.2  \n",
       "7           80.2  \n",
       "9           77.6  \n",
       "11          76.6  \n",
       "10          46.4  \n",
       "0           19.3  "
      ]
     },
     "execution_count": 49,
     "metadata": {},
     "output_type": "execute_result"
    }
   ],
   "source": [
    "stage_2_df['acc_for_sort'] = stage_2_df['accuracy'].apply(lambda x: np.float(x.split(\"+-\")[0]))\n",
    "stage_2_df.sort_values(by=\"acc_for_sort\", ascending=False)"
   ]
  },
  {
   "cell_type": "code",
   "execution_count": 203,
   "metadata": {
    "scrolled": true
   },
   "outputs": [
    {
     "name": "stdout",
     "output_type": "stream",
     "text": [
      "\\begin{tabular}{lllllllll}\n",
      "\\toprule\n",
      "          algorithms &      accuracy &   specificity &     precision &        recall &      f1-score &   cohen-kappa &           Sleep &            Wake \\\\\n",
      "\\midrule\n",
      "        ground truth &  100.0 +- 0.0 &  100.0 +- 0.0 &  100.0 +- 0.0 &  100.0 +- 0.0 &  100.0 +- 0.0 &  100.0 +- 0.0 &    365.1 +- 8.7 &    187.4 +- 8.6 \\\\\n",
      "            LSTM 100 &   79.5 +- 1.2 &   62.2 +- 2.1 &   81.8 +- 1.4 &   88.9 +- 1.3 &   84.1 +- 1.1 &   51.5 +- 2.2 &     35.3 +- 8.7 &    -35.3 +- 8.7 \\\\\n",
      "             CNN 100 &   79.1 +- 1.2 &   57.0 +- 2.1 &   79.9 +- 1.5 &   91.0 +- 1.4 &   83.9 +- 1.3 &   49.8 +- 2.1 &     54.4 +- 9.2 &    -54.4 +- 9.2 \\\\\n",
      "             LSTM 50 &   78.6 +- 1.2 &   61.1 +- 2.0 &   81.2 +- 1.4 &   88.2 +- 1.3 &   83.4 +- 1.2 &   49.5 +- 2.1 &     34.5 +- 8.9 &    -34.5 +- 8.9 \\\\\n",
      "              CNN 50 &   78.2 +- 1.2 &   54.0 +- 2.1 &   78.9 +- 1.5 &   91.3 +- 1.3 &   83.5 +- 1.2 &   47.1 +- 2.1 &     61.2 +- 9.2 &    -61.2 +- 9.2 \\\\\n",
      "             LSTM 20 &   77.7 +- 1.1 &   57.0 +- 1.8 &   79.5 +- 1.4 &   88.9 +- 1.2 &   83.0 +- 1.2 &   46.7 +- 1.9 &     45.2 +- 8.4 &    -45.2 +- 8.4 \\\\\n",
      "              CNN 20 &   75.7 +- 1.2 &   50.3 +- 2.2 &   77.4 +- 1.5 &   89.4 +- 1.4 &   81.7 +- 1.2 &   41.0 +- 2.0 &     61.0 +- 9.8 &    -61.0 +- 9.8 \\\\\n",
      " Logistic Regression &   70.3 +- 1.3 &   34.7 +- 2.6 &   73.0 +- 1.5 &   89.1 +- 2.0 &   78.1 +- 1.5 &   25.5 +- 1.9 &    87.9 +- 12.9 &   -87.9 +- 12.9 \\\\\n",
      "       Random Forest &   70.3 +- 1.2 &   39.2 +- 2.3 &   73.6 +- 1.4 &   86.7 +- 1.9 &   77.6 +- 1.5 &   27.1 +- 1.7 &    70.4 +- 12.5 &   -70.4 +- 12.5 \\\\\n",
      "          Linear SVM &   70.1 +- 1.3 &   18.6 +- 1.9 &   70.1 +- 1.4 &   96.5 +- 1.0 &   80.1 +- 1.1 &   17.6 +- 1.5 &   142.8 +- 10.1 &  -142.8 +- 10.1 \\\\\n",
      "        always sleep &   66.5 +- 1.4 &    0.0 +- 0.0 &   66.5 +- 1.4 &  100.0 +- 0.0 &   79.1 +- 1.1 &    0.0 +- 0.0 &    187.4 +- 8.6 &   -187.4 +- 8.6 \\\\\n",
      "          Perception &   49.5 +- 1.5 &   59.7 +- 2.1 &   65.8 +- 1.7 &   44.2 +- 2.8 &   49.1 +- 2.3 &    4.8 +- 1.6 &  -128.1 +- 15.3 &   128.1 +- 15.3 \\\\\n",
      "         always wake &   33.5 +- 1.4 &  100.0 +- 0.0 &    0.0 +- 0.0 &    0.0 +- 0.0 &    0.0 +- 0.0 &    0.0 +- 0.0 &   -365.1 +- 8.7 &    365.1 +- 8.7 \\\\\n",
      "\\bottomrule\n",
      "\\end{tabular}\n",
      "\n"
     ]
    }
   ],
   "source": [
    "print(stage_2_df[stage_2_df['algorithms'].isin(stage_2_bls)].sort_values(by=\"acc_for_sort\", ascending=False)[stages_2_clf_columns].to_latex(index=False))"
   ]
  },
  {
   "cell_type": "markdown",
   "metadata": {},
   "source": [
    "### This is the ENMO alone"
   ]
  },
  {
   "cell_type": "code",
   "execution_count": 22,
   "metadata": {
    "scrolled": true
   },
   "outputs": [
    {
     "name": "stdout",
     "output_type": "stream",
     "text": [
      "summary csv is loaded\n",
      "Pickle file is loaded\n"
     ]
    }
   ],
   "source": [
    "num_classes = 2\n",
    "stages_2_clf_columns=  ['algorithms', \"accuracy\", \"specificity\", \"precision\", \"recall\", \"f1-score\", \"cohen-kappa\", \"Sleep\", \"Wake\"]\n",
    "stage_2_df = load_task(sub_folder, num_classes=num_classes, feature_type='ENMO', stages_clf_columns=stages_2_clf_columns)\n",
    "\n",
    "readable_2_algs_dict = {\"stages\":\"ground truth\",\"always_0\":\"always wake\", \"always_1\":\"always sleep\", \"CNN_20_ENMO\": \"CNN 20\", \"CNN_50_ENMO\":\"CNN 50\", \"CNN_100_ENMO\":\"CNN 100\", \"LSTM_20_ENMO\":\"LSTM 20\", \"LSTM_50_ENMO\":\"LSTM 50\",\"LSTM_100_ENMO\":\"LSTM 100\", \"SGD_hinge\":\"Linear SVM\", \"SGD_log\":\"Logistic Regression\", \"SGD_perceptron\":\"Perception\", \"Random_forest_300\": \"Random Forest\"}\n",
    "readable_2stages_df = pd.DataFrame(list(readable_2_algs_dict.items()), columns=[\"old_alg_name\",\"new_alg_name\"])\n"
   ]
  },
  {
   "cell_type": "code",
   "execution_count": null,
   "metadata": {},
   "outputs": [],
   "source": [
    "readable_df = pd.DataFrame(list(readable_algs_dict.items()), columns=[\"old_alg_name\",\"new_alg_name\"])\n",
    "stages_2_baselines = ['stages', 'always_0', 'always_1']\n",
    "stage_2_df['algorithms'] = stage_2_df['algorithms'].apply(lambda x: readable_2_algs_dict[x])\n",
    "stage_2_bls = readable_df.new_alg_name.unique().tolist()\n",
    "stage_2_df['acc_for_sort'] = stage_2_df['accuracy'].apply(lambda x: np.float(x.split(\"+-\")[0]))\n",
    "stage_2_df.sort_values(by=\"acc_for_sort\", ascending=False)"
   ]
  },
  {
   "cell_type": "code",
   "execution_count": null,
   "metadata": {},
   "outputs": [],
   "source": [
    "print(stage_2_df[stage_2_df['algorithms'].isin(stage_2_bls)].sort_values(by=\"acc_for_sort\", ascending=False)[stages_2_clf_columns].to_latex(index=False))"
   ]
  },
  {
   "cell_type": "markdown",
   "metadata": {},
   "source": [
    "## ======================== 3 stages ======================="
   ]
  },
  {
   "cell_type": "markdown",
   "metadata": {},
   "source": [
    "## This is the 3 stages ENMO + HRV"
   ]
  },
  {
   "cell_type": "code",
   "execution_count": 57,
   "metadata": {
    "scrolled": false
   },
   "outputs": [
    {
     "name": "stdout",
     "output_type": "stream",
     "text": [
      "summary csv is loaded\n",
      "Pickle file is loaded\n"
     ]
    }
   ],
   "source": [
    "num_classes = 3\n",
    "stages_3_clf_columns= ['algorithms', \"accuracy\", \"specificity\", \"precision\", \"recall\", \"f1-score\", \"cohen-kappa\", \"Non-REM sleep\",\"REM sleep\",\"Wake\"]\n",
    "stage_3_df = load_task(sub_folder, num_classes=num_classes, feature_type='ENMO_HRV', stages_clf_columns=stages_3_clf_columns)\n",
    "readable_3stages_algs_dict= {\"stages\":\"ground truth\",\"always_0\":\"always wake\", \"always_1\":\"always Non-REM sleep\", \"always_2\":\"always REM sleep\", \"CNN_20_ENMO_HRV\": \"CNN 20\", \"CNN_50_ENMO_HRV\":\"CNN 50\", \"CNN_100_ENMO_HRV\":\"CNN 100\", \"LSTM_20_ENMO_HRV\":\"LSTM 20\", \"LSTM_50_ENMO_HRV\":\"LSTM 50\",\"LSTM_100_ENMO_HRV\":\"LSTM 100\", \"SGD_hinge\":\"Linear SVM\", \"SGD_log\":\"Logistic Regression\", \"SGD_perceptron\":\"Perception\", \"Random_forest_300\": \"Random Forest\"}\n",
    "readable_3stages_df = pd.DataFrame(list(readable_3stages_algs_dict.items()), columns=[\"old_alg_name\",\"new_alg_name\"])"
   ]
  },
  {
   "cell_type": "code",
   "execution_count": null,
   "metadata": {},
   "outputs": [],
   "source": [
    "print(stage_3_df)"
   ]
  },
  {
   "cell_type": "code",
   "execution_count": 59,
   "metadata": {
    "scrolled": false
   },
   "outputs": [
    {
     "name": "stdout",
     "output_type": "stream",
     "text": [
      "         old_alg_name          new_alg_name\n",
      "0              stages          ground truth\n",
      "1            always_0           always wake\n",
      "2            always_1  always Non-REM sleep\n",
      "3            always_2      always REM sleep\n",
      "4     CNN_20_ENMO_HRV                CNN 20\n",
      "5     CNN_50_ENMO_HRV                CNN 50\n",
      "6    CNN_100_ENMO_HRV               CNN 100\n",
      "7    LSTM_20_ENMO_HRV               LSTM 20\n",
      "8    LSTM_50_ENMO_HRV               LSTM 50\n",
      "9   LSTM_100_ENMO_HRV              LSTM 100\n",
      "10          SGD_hinge            Linear SVM\n",
      "11            SGD_log   Logistic Regression\n",
      "12     SGD_perceptron            Perception\n",
      "13  Random_forest_300         Random Forest\n"
     ]
    }
   ],
   "source": [
    "\n",
    "print(readable_3stages_df)"
   ]
  },
  {
   "cell_type": "code",
   "execution_count": null,
   "metadata": {},
   "outputs": [],
   "source": [
    "stages_3_baselines = ['stages', 'always_0', 'always_1', 'always_2']\n",
    "stage_3_df['algorithms'] = stage_3_df['algorithms'].apply(lambda x: readable_3stages_algs_dict[x])\n",
    "# get ready the rename df\n",
    "stage_3_bls = readable_3stages_df.new_alg_name.unique().tolist()"
   ]
  },
  {
   "cell_type": "code",
   "execution_count": 66,
   "metadata": {},
   "outputs": [],
   "source": [
    "stage_3_df['acc_for_sort'] = stage_3_df['accuracy'].apply(lambda x: np.float(x.split(\"+-\")[0]))"
   ]
  },
  {
   "cell_type": "code",
   "execution_count": 68,
   "metadata": {},
   "outputs": [
    {
     "data": {
      "text/html": [
       "<div>\n",
       "<style scoped>\n",
       "    .dataframe tbody tr th:only-of-type {\n",
       "        vertical-align: middle;\n",
       "    }\n",
       "\n",
       "    .dataframe tbody tr th {\n",
       "        vertical-align: top;\n",
       "    }\n",
       "\n",
       "    .dataframe thead th {\n",
       "        text-align: right;\n",
       "    }\n",
       "</style>\n",
       "<table border=\"1\" class=\"dataframe\">\n",
       "  <thead>\n",
       "    <tr style=\"text-align: right;\">\n",
       "      <th></th>\n",
       "      <th>algorithms</th>\n",
       "      <th>accuracy</th>\n",
       "      <th>specificity</th>\n",
       "      <th>precision</th>\n",
       "      <th>recall</th>\n",
       "      <th>f1-score</th>\n",
       "      <th>cohen-kappa</th>\n",
       "      <th>Wake</th>\n",
       "      <th>REM sleep</th>\n",
       "      <th>Non-REM sleep</th>\n",
       "      <th>acc_for_sort</th>\n",
       "    </tr>\n",
       "  </thead>\n",
       "  <tbody>\n",
       "    <tr>\n",
       "      <th>13</th>\n",
       "      <td>ground truth</td>\n",
       "      <td>100.0 +- 0.0</td>\n",
       "      <td>99.7 +- 0.6</td>\n",
       "      <td>100.0 +- 0.0</td>\n",
       "      <td>100.0 +- 0.0</td>\n",
       "      <td>100.0 +- 0.0</td>\n",
       "      <td>100.0 +- 0.0</td>\n",
       "      <td>88.9 +- 6.6</td>\n",
       "      <td>67.4 +- 3.0</td>\n",
       "      <td>296.7 +- 7.1</td>\n",
       "      <td>100.0</td>\n",
       "    </tr>\n",
       "    <tr>\n",
       "      <th>5</th>\n",
       "      <td>CNN 100</td>\n",
       "      <td>74.9 +- 1.1</td>\n",
       "      <td>82.1 +- 0.8</td>\n",
       "      <td>68.7 +- 1.3</td>\n",
       "      <td>64.5 +- 1.3</td>\n",
       "      <td>62.9 +- 1.3</td>\n",
       "      <td>47.0 +- 2.0</td>\n",
       "      <td>-14.4 +- 5.8</td>\n",
       "      <td>-0.5 +- 4.3</td>\n",
       "      <td>14.9 +- 6.7</td>\n",
       "      <td>74.9</td>\n",
       "    </tr>\n",
       "    <tr>\n",
       "      <th>7</th>\n",
       "      <td>LSTM 50</td>\n",
       "      <td>74.2 +- 1.1</td>\n",
       "      <td>81.7 +- 0.8</td>\n",
       "      <td>66.5 +- 1.4</td>\n",
       "      <td>62.8 +- 1.2</td>\n",
       "      <td>61.5 +- 1.3</td>\n",
       "      <td>45.1 +- 2.1</td>\n",
       "      <td>0.3 +- 5.6</td>\n",
       "      <td>-12.5 +- 3.7</td>\n",
       "      <td>12.2 +- 6.2</td>\n",
       "      <td>74.2</td>\n",
       "    </tr>\n",
       "    <tr>\n",
       "      <th>4</th>\n",
       "      <td>CNN 50</td>\n",
       "      <td>73.6 +- 1.2</td>\n",
       "      <td>82.5 +- 0.8</td>\n",
       "      <td>67.7 +- 1.3</td>\n",
       "      <td>65.5 +- 1.3</td>\n",
       "      <td>62.6 +- 1.4</td>\n",
       "      <td>47.0 +- 2.1</td>\n",
       "      <td>-4.7 +- 5.7</td>\n",
       "      <td>7.5 +- 5.8</td>\n",
       "      <td>-2.9 +- 7.5</td>\n",
       "      <td>73.6</td>\n",
       "    </tr>\n",
       "    <tr>\n",
       "      <th>6</th>\n",
       "      <td>LSTM 20</td>\n",
       "      <td>73.4 +- 1.0</td>\n",
       "      <td>81.4 +- 0.7</td>\n",
       "      <td>65.7 +- 1.3</td>\n",
       "      <td>62.6 +- 1.2</td>\n",
       "      <td>60.7 +- 1.2</td>\n",
       "      <td>43.1 +- 2.0</td>\n",
       "      <td>4.1 +- 5.6</td>\n",
       "      <td>-14.8 +- 3.9</td>\n",
       "      <td>10.8 +- 6.2</td>\n",
       "      <td>73.4</td>\n",
       "    </tr>\n",
       "    <tr>\n",
       "      <th>8</th>\n",
       "      <td>LSTM 100</td>\n",
       "      <td>73.4 +- 1.0</td>\n",
       "      <td>80.6 +- 0.8</td>\n",
       "      <td>65.5 +- 1.4</td>\n",
       "      <td>60.4 +- 1.2</td>\n",
       "      <td>59.4 +- 1.3</td>\n",
       "      <td>42.4 +- 2.1</td>\n",
       "      <td>7.7 +- 5.8</td>\n",
       "      <td>-24.4 +- 3.2</td>\n",
       "      <td>16.7 +- 6.3</td>\n",
       "      <td>73.4</td>\n",
       "    </tr>\n",
       "    <tr>\n",
       "      <th>3</th>\n",
       "      <td>CNN 20</td>\n",
       "      <td>73.1 +- 1.1</td>\n",
       "      <td>80.5 +- 0.8</td>\n",
       "      <td>66.8 +- 1.3</td>\n",
       "      <td>61.4 +- 1.2</td>\n",
       "      <td>60.1 +- 1.2</td>\n",
       "      <td>43.0 +- 1.9</td>\n",
       "      <td>-18.7 +- 5.4</td>\n",
       "      <td>-4.4 +- 5.2</td>\n",
       "      <td>23.0 +- 7.1</td>\n",
       "      <td>73.1</td>\n",
       "    </tr>\n",
       "    <tr>\n",
       "      <th>9</th>\n",
       "      <td>Linear SVM</td>\n",
       "      <td>68.9 +- 1.0</td>\n",
       "      <td>72.2 +- 0.7</td>\n",
       "      <td>44.0 +- 1.1</td>\n",
       "      <td>45.7 +- 0.9</td>\n",
       "      <td>42.3 +- 0.9</td>\n",
       "      <td>27.9 +- 1.8</td>\n",
       "      <td>-15.1 +- 6.4</td>\n",
       "      <td>-67.4 +- 3.0</td>\n",
       "      <td>82.5 +- 7.1</td>\n",
       "      <td>68.9</td>\n",
       "    </tr>\n",
       "    <tr>\n",
       "      <th>12</th>\n",
       "      <td>Random Forest</td>\n",
       "      <td>68.7 +- 1.0</td>\n",
       "      <td>73.6 +- 0.7</td>\n",
       "      <td>54.1 +- 1.6</td>\n",
       "      <td>48.3 +- 0.8</td>\n",
       "      <td>44.6 +- 0.9</td>\n",
       "      <td>30.2 +- 1.7</td>\n",
       "      <td>-0.2 +- 6.2</td>\n",
       "      <td>-63.5 +- 2.9</td>\n",
       "      <td>63.7 +- 6.8</td>\n",
       "      <td>68.7</td>\n",
       "    </tr>\n",
       "    <tr>\n",
       "      <th>10</th>\n",
       "      <td>Logistic Regression</td>\n",
       "      <td>68.5 +- 1.0</td>\n",
       "      <td>73.1 +- 0.7</td>\n",
       "      <td>43.8 +- 1.0</td>\n",
       "      <td>47.4 +- 0.9</td>\n",
       "      <td>43.2 +- 0.9</td>\n",
       "      <td>29.2 +- 1.7</td>\n",
       "      <td>-1.6 +- 7.0</td>\n",
       "      <td>-67.3 +- 3.0</td>\n",
       "      <td>68.9 +- 7.6</td>\n",
       "      <td>68.5</td>\n",
       "    </tr>\n",
       "    <tr>\n",
       "      <th>1</th>\n",
       "      <td>always Non-REM sleep</td>\n",
       "      <td>66.1 +- 1.1</td>\n",
       "      <td>66.3 +- 0.4</td>\n",
       "      <td>22.4 +- 0.6</td>\n",
       "      <td>33.7 +- 0.4</td>\n",
       "      <td>26.7 +- 0.5</td>\n",
       "      <td>0.0 +- 0.0</td>\n",
       "      <td>-88.9 +- 6.6</td>\n",
       "      <td>-67.4 +- 3.0</td>\n",
       "      <td>156.3 +- 6.6</td>\n",
       "      <td>66.1</td>\n",
       "    </tr>\n",
       "    <tr>\n",
       "      <th>11</th>\n",
       "      <td>Perception</td>\n",
       "      <td>65.9 +- 1.0</td>\n",
       "      <td>72.1 +- 0.6</td>\n",
       "      <td>44.8 +- 0.9</td>\n",
       "      <td>44.1 +- 0.8</td>\n",
       "      <td>41.7 +- 0.8</td>\n",
       "      <td>19.5 +- 1.4</td>\n",
       "      <td>-15.2 +- 6.1</td>\n",
       "      <td>-47.8 +- 3.3</td>\n",
       "      <td>63.0 +- 7.0</td>\n",
       "      <td>65.9</td>\n",
       "    </tr>\n",
       "    <tr>\n",
       "      <th>0</th>\n",
       "      <td>always wake</td>\n",
       "      <td>19.3 +- 1.3</td>\n",
       "      <td>66.3 +- 0.4</td>\n",
       "      <td>6.7 +- 0.7</td>\n",
       "      <td>33.7 +- 0.4</td>\n",
       "      <td>10.5 +- 0.7</td>\n",
       "      <td>0.0 +- 0.0</td>\n",
       "      <td>363.5 +- 8.9</td>\n",
       "      <td>-67.4 +- 3.0</td>\n",
       "      <td>-296.2 +- 7.3</td>\n",
       "      <td>19.3</td>\n",
       "    </tr>\n",
       "    <tr>\n",
       "      <th>2</th>\n",
       "      <td>always REM sleep</td>\n",
       "      <td>15.1 +- 0.8</td>\n",
       "      <td>66.5 +- 0.4</td>\n",
       "      <td>5.2 +- 0.6</td>\n",
       "      <td>33.1 +- 0.5</td>\n",
       "      <td>8.7 +- 0.6</td>\n",
       "      <td>0.0 +- 0.0</td>\n",
       "      <td>-88.9 +- 6.6</td>\n",
       "      <td>385.1 +- 8.9</td>\n",
       "      <td>-296.2 +- 7.3</td>\n",
       "      <td>15.1</td>\n",
       "    </tr>\n",
       "  </tbody>\n",
       "</table>\n",
       "</div>"
      ],
      "text/plain": [
       "              algorithms      accuracy  specificity     precision  \\\n",
       "13          ground truth  100.0 +- 0.0  99.7 +- 0.6  100.0 +- 0.0   \n",
       "5                CNN 100   74.9 +- 1.1  82.1 +- 0.8   68.7 +- 1.3   \n",
       "7                LSTM 50   74.2 +- 1.1  81.7 +- 0.8   66.5 +- 1.4   \n",
       "4                 CNN 50   73.6 +- 1.2  82.5 +- 0.8   67.7 +- 1.3   \n",
       "6                LSTM 20   73.4 +- 1.0  81.4 +- 0.7   65.7 +- 1.3   \n",
       "8               LSTM 100   73.4 +- 1.0  80.6 +- 0.8   65.5 +- 1.4   \n",
       "3                 CNN 20   73.1 +- 1.1  80.5 +- 0.8   66.8 +- 1.3   \n",
       "9             Linear SVM   68.9 +- 1.0  72.2 +- 0.7   44.0 +- 1.1   \n",
       "12         Random Forest   68.7 +- 1.0  73.6 +- 0.7   54.1 +- 1.6   \n",
       "10   Logistic Regression   68.5 +- 1.0  73.1 +- 0.7   43.8 +- 1.0   \n",
       "1   always Non-REM sleep   66.1 +- 1.1  66.3 +- 0.4   22.4 +- 0.6   \n",
       "11            Perception   65.9 +- 1.0  72.1 +- 0.6   44.8 +- 0.9   \n",
       "0            always wake   19.3 +- 1.3  66.3 +- 0.4    6.7 +- 0.7   \n",
       "2       always REM sleep   15.1 +- 0.8  66.5 +- 0.4    5.2 +- 0.6   \n",
       "\n",
       "          recall      f1-score   cohen-kappa          Wake     REM sleep  \\\n",
       "13  100.0 +- 0.0  100.0 +- 0.0  100.0 +- 0.0   88.9 +- 6.6   67.4 +- 3.0   \n",
       "5    64.5 +- 1.3   62.9 +- 1.3   47.0 +- 2.0  -14.4 +- 5.8   -0.5 +- 4.3   \n",
       "7    62.8 +- 1.2   61.5 +- 1.3   45.1 +- 2.1    0.3 +- 5.6  -12.5 +- 3.7   \n",
       "4    65.5 +- 1.3   62.6 +- 1.4   47.0 +- 2.1   -4.7 +- 5.7    7.5 +- 5.8   \n",
       "6    62.6 +- 1.2   60.7 +- 1.2   43.1 +- 2.0    4.1 +- 5.6  -14.8 +- 3.9   \n",
       "8    60.4 +- 1.2   59.4 +- 1.3   42.4 +- 2.1    7.7 +- 5.8  -24.4 +- 3.2   \n",
       "3    61.4 +- 1.2   60.1 +- 1.2   43.0 +- 1.9  -18.7 +- 5.4   -4.4 +- 5.2   \n",
       "9    45.7 +- 0.9   42.3 +- 0.9   27.9 +- 1.8  -15.1 +- 6.4  -67.4 +- 3.0   \n",
       "12   48.3 +- 0.8   44.6 +- 0.9   30.2 +- 1.7   -0.2 +- 6.2  -63.5 +- 2.9   \n",
       "10   47.4 +- 0.9   43.2 +- 0.9   29.2 +- 1.7   -1.6 +- 7.0  -67.3 +- 3.0   \n",
       "1    33.7 +- 0.4   26.7 +- 0.5    0.0 +- 0.0  -88.9 +- 6.6  -67.4 +- 3.0   \n",
       "11   44.1 +- 0.8   41.7 +- 0.8   19.5 +- 1.4  -15.2 +- 6.1  -47.8 +- 3.3   \n",
       "0    33.7 +- 0.4   10.5 +- 0.7    0.0 +- 0.0  363.5 +- 8.9  -67.4 +- 3.0   \n",
       "2    33.1 +- 0.5    8.7 +- 0.6    0.0 +- 0.0  -88.9 +- 6.6  385.1 +- 8.9   \n",
       "\n",
       "    Non-REM sleep  acc_for_sort  \n",
       "13   296.7 +- 7.1         100.0  \n",
       "5     14.9 +- 6.7          74.9  \n",
       "7     12.2 +- 6.2          74.2  \n",
       "4     -2.9 +- 7.5          73.6  \n",
       "6     10.8 +- 6.2          73.4  \n",
       "8     16.7 +- 6.3          73.4  \n",
       "3     23.0 +- 7.1          73.1  \n",
       "9     82.5 +- 7.1          68.9  \n",
       "12    63.7 +- 6.8          68.7  \n",
       "10    68.9 +- 7.6          68.5  \n",
       "1    156.3 +- 6.6          66.1  \n",
       "11    63.0 +- 7.0          65.9  \n",
       "0   -296.2 +- 7.3          19.3  \n",
       "2   -296.2 +- 7.3          15.1  "
      ]
     },
     "execution_count": 68,
     "metadata": {},
     "output_type": "execute_result"
    }
   ],
   "source": [
    "stage_3_df[['algorithms', \"accuracy\", \"specificity\", \"precision\", \"recall\", \"f1-score\", \"cohen-kappa\",\"Wake\",\"REM sleep\", \"Non-REM sleep\",'acc_for_sort']].sort_values(by=\"acc_for_sort\", ascending=False)"
   ]
  },
  {
   "cell_type": "code",
   "execution_count": 75,
   "metadata": {
    "scrolled": false
   },
   "outputs": [
    {
     "name": "stdout",
     "output_type": "stream",
     "text": [
      "\\begin{tabular}{lllllllllll}\n",
      "\\toprule\n",
      "{} &            algorithms &      accuracy &   specificity &     precision &        recall &      f1-score &   cohen-kappa &  Non-REM sleep &     REM sleep &           Wake \\\\\n",
      "\\midrule\n",
      "13 &          ground truth &  100.0 +- 0.0 &  100.0 +- 0.0 &  100.0 +- 0.0 &  100.0 +- 0.0 &  100.0 +- 0.0 &  100.0 +- 0.0 &   297.5 +- 7.1 &   67.6 +- 3.0 &   187.4 +- 8.6 \\\\\n",
      "7  &               LSTM 50 &   76.2 +- 1.0 &   85.6 +- 0.5 &   72.2 +- 1.3 &   68.8 +- 1.2 &   67.9 +- 1.3 &   58.4 +- 1.8 &    23.9 +- 7.1 &  -10.7 +- 3.8 &   -13.2 +- 6.8 \\\\\n",
      "8  &              LSTM 100 &   76.1 +- 0.9 &   85.1 +- 0.5 &   71.9 +- 1.4 &   66.8 +- 1.2 &   66.4 +- 1.3 &   57.4 +- 1.9 &    26.5 +- 7.0 &  -23.3 +- 3.4 &    -3.2 +- 6.8 \\\\\n",
      "5  &               CNN 100 &   76.0 +- 1.0 &   85.6 +- 0.6 &   72.2 +- 1.2 &   69.7 +- 1.3 &   68.1 +- 1.3 &   58.6 +- 1.9 &    30.2 +- 7.7 &    2.5 +- 4.5 &   -32.7 +- 7.2 \\\\\n",
      "4  &                CNN 50 &   75.2 +- 1.1 &   85.7 +- 0.6 &   71.7 +- 1.3 &   70.2 +- 1.3 &   67.6 +- 1.3 &   58.4 +- 1.9 &    10.2 +- 8.4 &   10.8 +- 6.0 &   -21.0 +- 7.1 \\\\\n",
      "6  &               LSTM 20 &   75.0 +- 0.9 &   84.9 +- 0.5 &   70.7 +- 1.2 &   67.2 +- 1.1 &   66.2 +- 1.2 &   55.6 +- 1.8 &    25.6 +- 7.2 &  -12.9 +- 4.1 &   -12.7 +- 6.9 \\\\\n",
      "3  &                CNN 20 &   73.5 +- 1.0 &   83.9 +- 0.5 &   70.1 +- 1.2 &   66.0 +- 1.2 &   64.7 +- 1.2 &   54.4 +- 1.8 &    43.7 +- 8.3 &   -1.3 +- 5.4 &   -42.5 +- 7.0 \\\\\n",
      "12 &         Random Forest &   70.5 +- 0.9 &   79.9 +- 0.5 &   59.2 +- 1.5 &   53.0 +- 0.7 &   50.3 +- 0.8 &   47.6 +- 1.7 &    83.5 +- 7.8 &  -63.6 +- 2.9 &   -20.0 +- 7.6 \\\\\n",
      "10 &   Logistic Regression &   70.3 +- 1.0 &   79.5 +- 0.6 &   49.0 +- 0.8 &   52.2 +- 0.7 &   48.8 +- 0.8 &   46.9 +- 1.7 &    89.4 +- 8.6 &  -67.6 +- 3.0 &   -21.8 +- 8.3 \\\\\n",
      "9  &            Linear SVM &   70.2 +- 1.0 &   79.1 +- 0.6 &   49.5 +- 0.8 &   51.5 +- 0.8 &   48.5 +- 0.8 &   46.7 +- 1.8 &   105.3 +- 8.1 &  -67.6 +- 3.0 &   -37.7 +- 7.8 \\\\\n",
      "11 &            Perception &   65.8 +- 0.9 &   77.9 +- 0.5 &   49.8 +- 0.6 &   48.2 +- 0.7 &   46.6 +- 0.7 &   31.2 +- 1.6 &    85.2 +- 8.0 &  -36.8 +- 3.8 &   -48.4 +- 7.7 \\\\\n",
      "1  &  always Non-REM sleep &   54.2 +- 1.1 &   66.5 +- 0.2 &   18.2 +- 0.4 &   33.5 +- 0.2 &   23.3 +- 0.3 &    0.0 +- 0.0 &   255.0 +- 8.1 &  -67.6 +- 3.0 &  -187.4 +- 8.6 \\\\\n",
      "0  &           always wake &   33.5 +- 1.4 &   66.5 +- 0.2 &   11.3 +- 0.5 &   33.5 +- 0.2 &   16.4 +- 0.5 &    0.0 +- 0.0 &  -297.5 +- 7.1 &  -67.6 +- 3.0 &   365.1 +- 8.7 \\\\\n",
      "2  &      always REM sleep &   12.3 +- 0.5 &   66.7 +- 0.0 &    4.1 +- 0.2 &   33.0 +- 0.4 &    7.2 +- 0.3 &    0.0 +- 0.0 &  -297.5 +- 7.1 &  484.8 +- 8.5 &  -187.4 +- 8.6 \\\\\n",
      "\\bottomrule\n",
      "\\end{tabular}\n",
      "\n"
     ]
    }
   ],
   "source": [
    "print(stage_3_df[stage_3_df['algorithms'].isin(stage_3_bls)].sort_values(by=\"acc_for_sort\", ascending=False)[stages_3_clf_columns].to_latex())"
   ]
  },
  {
   "cell_type": "markdown",
   "metadata": {},
   "source": [
    "### Task 2 :  3stages classification for ENMO alone"
   ]
  },
  {
   "cell_type": "code",
   "execution_count": 69,
   "metadata": {
    "scrolled": true
   },
   "outputs": [
    {
     "name": "stdout",
     "output_type": "stream",
     "text": [
      "summary csv is loaded\n",
      "Pickle file is loaded\n"
     ]
    }
   ],
   "source": [
    "num_classes = 3\n",
    "stages_clf_columns= ['algorithms', \"accuracy\", \"specificity\", \"precision\", \"recall\", \"f1-score\", \"cohen-kappa\", \"Non-REM sleep\",\"REM sleep\",\"Wake\"]\n",
    "stage_3_df = load_task(sub_folder, num_classes=num_classes, feature_type='ENMO', stages_clf_columns=stages_clf_columns)\n",
    "readable_3stages_algs_dict= {\"stages\":\"ground truth\",\"always_0\":\"always wake\", \"always_1\":\"always Non-REM sleep\", \"always_2\":\"always REM sleep\", \"CNN_20_ENMO\": \"CNN 20\", \"CNN_50_ENMO\":\"CNN 50\", \"CNN_100_ENMO\":\"CNN 100\", \"LSTM_20_ENMO\":\"LSTM 20\", \"LSTM_50_ENMO\":\"LSTM 50\",\"LSTM_100_ENMO\":\"LSTM 100\", \"SGD_hinge\":\"Linear SVM\", \"SGD_log\":\"Logistic Regression\", \"SGD_perceptron\":\"Perception\", \"Random_forest_300\": \"Random Forest\"}\n",
    "readable_3stages_df = pd.DataFrame(list(readable_3stages_algs_dict.items()), columns=[\"old_alg_name\",\"new_alg_name\"])"
   ]
  },
  {
   "cell_type": "code",
   "execution_count": 70,
   "metadata": {
    "scrolled": true
   },
   "outputs": [],
   "source": [
    "stage_3_df['algorithms'] = stage_3_df['algorithms'].apply(lambda x: readable_3stages_algs_dict[x])\n",
    "stage_3_df['acc_for_sort'] = stage_3_df['accuracy'].apply(lambda x: np.float(x.split(\"+-\")[0]))"
   ]
  },
  {
   "cell_type": "code",
   "execution_count": 72,
   "metadata": {
    "scrolled": false
   },
   "outputs": [
    {
     "data": {
      "text/html": [
       "<div>\n",
       "<style scoped>\n",
       "    .dataframe tbody tr th:only-of-type {\n",
       "        vertical-align: middle;\n",
       "    }\n",
       "\n",
       "    .dataframe tbody tr th {\n",
       "        vertical-align: top;\n",
       "    }\n",
       "\n",
       "    .dataframe thead th {\n",
       "        text-align: right;\n",
       "    }\n",
       "</style>\n",
       "<table border=\"1\" class=\"dataframe\">\n",
       "  <thead>\n",
       "    <tr style=\"text-align: right;\">\n",
       "      <th></th>\n",
       "      <th>algorithms</th>\n",
       "      <th>accuracy</th>\n",
       "      <th>specificity</th>\n",
       "      <th>precision</th>\n",
       "      <th>recall</th>\n",
       "      <th>f1-score</th>\n",
       "      <th>cohen-kappa</th>\n",
       "      <th>Wake</th>\n",
       "      <th>REM sleep</th>\n",
       "      <th>Non-REM sleep</th>\n",
       "      <th>acc_for_sort</th>\n",
       "    </tr>\n",
       "  </thead>\n",
       "  <tbody>\n",
       "    <tr>\n",
       "      <th>13</th>\n",
       "      <td>ground truth</td>\n",
       "      <td>100.0 +- 0.0</td>\n",
       "      <td>99.7 +- 0.6</td>\n",
       "      <td>100.0 +- 0.0</td>\n",
       "      <td>100.0 +- 0.0</td>\n",
       "      <td>100.0 +- 0.0</td>\n",
       "      <td>100.0 +- 0.0</td>\n",
       "      <td>88.9 +- 6.6</td>\n",
       "      <td>67.4 +- 3.0</td>\n",
       "      <td>296.7 +- 7.1</td>\n",
       "      <td>100.0</td>\n",
       "    </tr>\n",
       "    <tr>\n",
       "      <th>9</th>\n",
       "      <td>Linear SVM</td>\n",
       "      <td>68.7 +- 1.0</td>\n",
       "      <td>71.5 +- 0.7</td>\n",
       "      <td>43.3 +- 1.1</td>\n",
       "      <td>43.9 +- 0.9</td>\n",
       "      <td>40.8 +- 0.9</td>\n",
       "      <td>25.1 +- 1.8</td>\n",
       "      <td>-24.3 +- 6.1</td>\n",
       "      <td>-67.4 +- 3.0</td>\n",
       "      <td>91.7 +- 6.7</td>\n",
       "      <td>68.7</td>\n",
       "    </tr>\n",
       "    <tr>\n",
       "      <th>4</th>\n",
       "      <td>CNN 50</td>\n",
       "      <td>68.4 +- 1.0</td>\n",
       "      <td>71.6 +- 0.7</td>\n",
       "      <td>42.2 +- 1.1</td>\n",
       "      <td>43.8 +- 0.9</td>\n",
       "      <td>40.4 +- 1.0</td>\n",
       "      <td>24.5 +- 2.0</td>\n",
       "      <td>-17.4 +- 6.2</td>\n",
       "      <td>-67.3 +- 3.0</td>\n",
       "      <td>84.7 +- 7.0</td>\n",
       "      <td>68.4</td>\n",
       "    </tr>\n",
       "    <tr>\n",
       "      <th>5</th>\n",
       "      <td>CNN 100</td>\n",
       "      <td>68.4 +- 1.0</td>\n",
       "      <td>71.4 +- 0.7</td>\n",
       "      <td>42.5 +- 1.1</td>\n",
       "      <td>43.5 +- 0.9</td>\n",
       "      <td>40.1 +- 1.0</td>\n",
       "      <td>24.1 +- 2.0</td>\n",
       "      <td>-19.4 +- 6.3</td>\n",
       "      <td>-67.3 +- 3.0</td>\n",
       "      <td>86.7 +- 7.1</td>\n",
       "      <td>68.4</td>\n",
       "    </tr>\n",
       "    <tr>\n",
       "      <th>3</th>\n",
       "      <td>CNN 20</td>\n",
       "      <td>68.2 +- 1.0</td>\n",
       "      <td>71.6 +- 0.7</td>\n",
       "      <td>42.4 +- 1.0</td>\n",
       "      <td>44.0 +- 0.9</td>\n",
       "      <td>40.7 +- 0.9</td>\n",
       "      <td>24.5 +- 1.8</td>\n",
       "      <td>-17.3 +- 6.0</td>\n",
       "      <td>-67.3 +- 3.0</td>\n",
       "      <td>84.6 +- 6.8</td>\n",
       "      <td>68.2</td>\n",
       "    </tr>\n",
       "    <tr>\n",
       "      <th>10</th>\n",
       "      <td>Logistic Regression</td>\n",
       "      <td>68.2 +- 1.0</td>\n",
       "      <td>72.0 +- 0.7</td>\n",
       "      <td>42.4 +- 1.0</td>\n",
       "      <td>45.1 +- 0.9</td>\n",
       "      <td>41.5 +- 0.9</td>\n",
       "      <td>26.8 +- 1.8</td>\n",
       "      <td>-10.0 +- 6.3</td>\n",
       "      <td>-67.4 +- 3.0</td>\n",
       "      <td>77.4 +- 7.0</td>\n",
       "      <td>68.2</td>\n",
       "    </tr>\n",
       "    <tr>\n",
       "      <th>7</th>\n",
       "      <td>LSTM 50</td>\n",
       "      <td>68.1 +- 1.0</td>\n",
       "      <td>72.1 +- 0.7</td>\n",
       "      <td>41.8 +- 1.0</td>\n",
       "      <td>45.0 +- 0.9</td>\n",
       "      <td>41.3 +- 0.9</td>\n",
       "      <td>26.6 +- 1.9</td>\n",
       "      <td>-5.1 +- 6.1</td>\n",
       "      <td>-67.3 +- 3.0</td>\n",
       "      <td>72.5 +- 6.9</td>\n",
       "      <td>68.1</td>\n",
       "    </tr>\n",
       "    <tr>\n",
       "      <th>8</th>\n",
       "      <td>LSTM 100</td>\n",
       "      <td>68.1 +- 1.0</td>\n",
       "      <td>72.1 +- 0.7</td>\n",
       "      <td>44.2 +- 1.3</td>\n",
       "      <td>45.0 +- 0.9</td>\n",
       "      <td>41.4 +- 1.0</td>\n",
       "      <td>26.8 +- 2.0</td>\n",
       "      <td>-4.4 +- 6.3</td>\n",
       "      <td>-66.8 +- 3.0</td>\n",
       "      <td>71.2 +- 7.0</td>\n",
       "      <td>68.1</td>\n",
       "    </tr>\n",
       "    <tr>\n",
       "      <th>6</th>\n",
       "      <td>LSTM 20</td>\n",
       "      <td>67.7 +- 1.0</td>\n",
       "      <td>72.1 +- 0.7</td>\n",
       "      <td>41.6 +- 1.0</td>\n",
       "      <td>45.2 +- 0.9</td>\n",
       "      <td>41.4 +- 0.9</td>\n",
       "      <td>26.5 +- 1.8</td>\n",
       "      <td>-3.7 +- 6.0</td>\n",
       "      <td>-67.4 +- 3.0</td>\n",
       "      <td>71.1 +- 6.8</td>\n",
       "      <td>67.7</td>\n",
       "    </tr>\n",
       "    <tr>\n",
       "      <th>12</th>\n",
       "      <td>Random Forest</td>\n",
       "      <td>66.5 +- 0.9</td>\n",
       "      <td>72.1 +- 0.7</td>\n",
       "      <td>46.8 +- 1.2</td>\n",
       "      <td>45.0 +- 0.8</td>\n",
       "      <td>41.8 +- 0.8</td>\n",
       "      <td>25.7 +- 1.7</td>\n",
       "      <td>-0.1 +- 5.8</td>\n",
       "      <td>-60.8 +- 2.9</td>\n",
       "      <td>60.9 +- 6.5</td>\n",
       "      <td>66.5</td>\n",
       "    </tr>\n",
       "    <tr>\n",
       "      <th>1</th>\n",
       "      <td>always Non-REM sleep</td>\n",
       "      <td>66.1 +- 1.1</td>\n",
       "      <td>66.3 +- 0.4</td>\n",
       "      <td>22.4 +- 0.6</td>\n",
       "      <td>33.7 +- 0.4</td>\n",
       "      <td>26.7 +- 0.5</td>\n",
       "      <td>0.0 +- 0.0</td>\n",
       "      <td>-88.9 +- 6.6</td>\n",
       "      <td>-67.4 +- 3.0</td>\n",
       "      <td>156.3 +- 6.6</td>\n",
       "      <td>66.1</td>\n",
       "    </tr>\n",
       "    <tr>\n",
       "      <th>11</th>\n",
       "      <td>Perception</td>\n",
       "      <td>55.2 +- 1.3</td>\n",
       "      <td>70.9 +- 0.7</td>\n",
       "      <td>49.4 +- 1.1</td>\n",
       "      <td>41.6 +- 1.0</td>\n",
       "      <td>40.5 +- 1.0</td>\n",
       "      <td>11.6 +- 1.5</td>\n",
       "      <td>-44.1 +- 5.5</td>\n",
       "      <td>54.6 +- 7.3</td>\n",
       "      <td>-10.5 +- 8.5</td>\n",
       "      <td>55.2</td>\n",
       "    </tr>\n",
       "    <tr>\n",
       "      <th>0</th>\n",
       "      <td>always wake</td>\n",
       "      <td>19.3 +- 1.3</td>\n",
       "      <td>66.3 +- 0.4</td>\n",
       "      <td>6.7 +- 0.7</td>\n",
       "      <td>33.7 +- 0.4</td>\n",
       "      <td>10.5 +- 0.7</td>\n",
       "      <td>0.0 +- 0.0</td>\n",
       "      <td>363.5 +- 8.9</td>\n",
       "      <td>-67.4 +- 3.0</td>\n",
       "      <td>-296.2 +- 7.3</td>\n",
       "      <td>19.3</td>\n",
       "    </tr>\n",
       "    <tr>\n",
       "      <th>2</th>\n",
       "      <td>always REM sleep</td>\n",
       "      <td>15.1 +- 0.8</td>\n",
       "      <td>66.5 +- 0.4</td>\n",
       "      <td>5.2 +- 0.6</td>\n",
       "      <td>33.1 +- 0.5</td>\n",
       "      <td>8.7 +- 0.6</td>\n",
       "      <td>0.0 +- 0.0</td>\n",
       "      <td>-88.9 +- 6.6</td>\n",
       "      <td>385.1 +- 8.9</td>\n",
       "      <td>-296.2 +- 7.3</td>\n",
       "      <td>15.1</td>\n",
       "    </tr>\n",
       "  </tbody>\n",
       "</table>\n",
       "</div>"
      ],
      "text/plain": [
       "              algorithms      accuracy  specificity     precision  \\\n",
       "13          ground truth  100.0 +- 0.0  99.7 +- 0.6  100.0 +- 0.0   \n",
       "9             Linear SVM   68.7 +- 1.0  71.5 +- 0.7   43.3 +- 1.1   \n",
       "4                 CNN 50   68.4 +- 1.0  71.6 +- 0.7   42.2 +- 1.1   \n",
       "5                CNN 100   68.4 +- 1.0  71.4 +- 0.7   42.5 +- 1.1   \n",
       "3                 CNN 20   68.2 +- 1.0  71.6 +- 0.7   42.4 +- 1.0   \n",
       "10   Logistic Regression   68.2 +- 1.0  72.0 +- 0.7   42.4 +- 1.0   \n",
       "7                LSTM 50   68.1 +- 1.0  72.1 +- 0.7   41.8 +- 1.0   \n",
       "8               LSTM 100   68.1 +- 1.0  72.1 +- 0.7   44.2 +- 1.3   \n",
       "6                LSTM 20   67.7 +- 1.0  72.1 +- 0.7   41.6 +- 1.0   \n",
       "12         Random Forest   66.5 +- 0.9  72.1 +- 0.7   46.8 +- 1.2   \n",
       "1   always Non-REM sleep   66.1 +- 1.1  66.3 +- 0.4   22.4 +- 0.6   \n",
       "11            Perception   55.2 +- 1.3  70.9 +- 0.7   49.4 +- 1.1   \n",
       "0            always wake   19.3 +- 1.3  66.3 +- 0.4    6.7 +- 0.7   \n",
       "2       always REM sleep   15.1 +- 0.8  66.5 +- 0.4    5.2 +- 0.6   \n",
       "\n",
       "          recall      f1-score   cohen-kappa          Wake     REM sleep  \\\n",
       "13  100.0 +- 0.0  100.0 +- 0.0  100.0 +- 0.0   88.9 +- 6.6   67.4 +- 3.0   \n",
       "9    43.9 +- 0.9   40.8 +- 0.9   25.1 +- 1.8  -24.3 +- 6.1  -67.4 +- 3.0   \n",
       "4    43.8 +- 0.9   40.4 +- 1.0   24.5 +- 2.0  -17.4 +- 6.2  -67.3 +- 3.0   \n",
       "5    43.5 +- 0.9   40.1 +- 1.0   24.1 +- 2.0  -19.4 +- 6.3  -67.3 +- 3.0   \n",
       "3    44.0 +- 0.9   40.7 +- 0.9   24.5 +- 1.8  -17.3 +- 6.0  -67.3 +- 3.0   \n",
       "10   45.1 +- 0.9   41.5 +- 0.9   26.8 +- 1.8  -10.0 +- 6.3  -67.4 +- 3.0   \n",
       "7    45.0 +- 0.9   41.3 +- 0.9   26.6 +- 1.9   -5.1 +- 6.1  -67.3 +- 3.0   \n",
       "8    45.0 +- 0.9   41.4 +- 1.0   26.8 +- 2.0   -4.4 +- 6.3  -66.8 +- 3.0   \n",
       "6    45.2 +- 0.9   41.4 +- 0.9   26.5 +- 1.8   -3.7 +- 6.0  -67.4 +- 3.0   \n",
       "12   45.0 +- 0.8   41.8 +- 0.8   25.7 +- 1.7   -0.1 +- 5.8  -60.8 +- 2.9   \n",
       "1    33.7 +- 0.4   26.7 +- 0.5    0.0 +- 0.0  -88.9 +- 6.6  -67.4 +- 3.0   \n",
       "11   41.6 +- 1.0   40.5 +- 1.0   11.6 +- 1.5  -44.1 +- 5.5   54.6 +- 7.3   \n",
       "0    33.7 +- 0.4   10.5 +- 0.7    0.0 +- 0.0  363.5 +- 8.9  -67.4 +- 3.0   \n",
       "2    33.1 +- 0.5    8.7 +- 0.6    0.0 +- 0.0  -88.9 +- 6.6  385.1 +- 8.9   \n",
       "\n",
       "    Non-REM sleep  acc_for_sort  \n",
       "13   296.7 +- 7.1         100.0  \n",
       "9     91.7 +- 6.7          68.7  \n",
       "4     84.7 +- 7.0          68.4  \n",
       "5     86.7 +- 7.1          68.4  \n",
       "3     84.6 +- 6.8          68.2  \n",
       "10    77.4 +- 7.0          68.2  \n",
       "7     72.5 +- 6.9          68.1  \n",
       "8     71.2 +- 7.0          68.1  \n",
       "6     71.1 +- 6.8          67.7  \n",
       "12    60.9 +- 6.5          66.5  \n",
       "1    156.3 +- 6.6          66.1  \n",
       "11   -10.5 +- 8.5          55.2  \n",
       "0   -296.2 +- 7.3          19.3  \n",
       "2   -296.2 +- 7.3          15.1  "
      ]
     },
     "execution_count": 72,
     "metadata": {},
     "output_type": "execute_result"
    }
   ],
   "source": [
    "stage_3_df[['algorithms', \"accuracy\", \"specificity\", \"precision\", \"recall\", \"f1-score\", \"cohen-kappa\",\"Wake\",\"REM sleep\", \"Non-REM sleep\",'acc_for_sort']].sort_values(by=\"acc_for_sort\", ascending=False)"
   ]
  },
  {
   "cell_type": "code",
   "execution_count": 66,
   "metadata": {},
   "outputs": [],
   "source": [
    "bls = readable_3stages_df.new_alg_name.unique().tolist()"
   ]
  },
  {
   "cell_type": "code",
   "execution_count": 67,
   "metadata": {},
   "outputs": [
    {
     "data": {
      "text/plain": [
       "['ground truth',\n",
       " 'always wake',\n",
       " 'always Non-REM sleep',\n",
       " 'always REM sleep',\n",
       " 'CNN 20',\n",
       " 'CNN 50',\n",
       " 'CNN 100',\n",
       " 'LSTM 20',\n",
       " 'LSTM 50',\n",
       " 'LSTM 100',\n",
       " 'Linear SVM',\n",
       " 'Logistic Regression',\n",
       " 'Perception',\n",
       " 'Random Forest']"
      ]
     },
     "execution_count": 67,
     "metadata": {},
     "output_type": "execute_result"
    }
   ],
   "source": []
  },
  {
   "cell_type": "code",
   "execution_count": 68,
   "metadata": {
    "scrolled": false
   },
   "outputs": [
    {
     "name": "stdout",
     "output_type": "stream",
     "text": [
      "\\begin{tabular}{llllllllll}\n",
      "\\toprule\n",
      "           algorithms &      accuracy &   specificity &     precision &        recall &      f1-score &   cohen-kappa &  Non-REM sleep &      REM sleep &           Wake \\\\\n",
      "\\midrule\n",
      "         ground truth &  100.0 +- 0.0 &  100.0 +- 0.0 &  100.0 +- 0.0 &  100.0 +- 0.0 &  100.0 +- 0.0 &  100.0 +- 0.0 &   297.5 +- 7.1 &    67.6 +- 3.0 &   187.4 +- 8.6 \\\\\n",
      "             LSTM 100 &   73.8 +- 1.2 &   84.3 +- 0.6 &   69.8 +- 1.5 &   66.1 +- 1.3 &   64.9 +- 1.5 &   50.0 +- 2.2 &    36.4 +- 8.1 &    -8.6 +- 4.2 &   -27.8 +- 8.5 \\\\\n",
      "              LSTM 50 &   72.9 +- 1.1 &   83.8 +- 0.6 &   67.9 +- 1.4 &   64.1 +- 1.3 &   62.9 +- 1.4 &   45.5 +- 2.1 &    34.1 +- 8.3 &   -16.2 +- 4.3 &   -17.9 +- 8.5 \\\\\n",
      "              CNN 100 &   71.0 +- 1.2 &   83.6 +- 0.6 &   66.3 +- 1.4 &   65.4 +- 1.4 &   62.7 +- 1.4 &   46.1 +- 2.0 &    10.6 +- 9.1 &     2.3 +- 5.0 &   -12.9 +- 9.4 \\\\\n",
      "              LSTM 20 &   70.4 +- 1.0 &   82.3 +- 0.6 &   65.3 +- 1.4 &   60.8 +- 1.2 &   59.6 +- 1.3 &   39.3 +- 1.9 &    36.9 +- 8.0 &   -20.4 +- 4.1 &   -16.4 +- 8.6 \\\\\n",
      "               CNN 50 &   70.3 +- 1.1 &   82.2 +- 0.6 &   66.6 +- 1.4 &   62.2 +- 1.3 &   60.1 +- 1.4 &   42.9 +- 2.0 &    46.0 +- 9.5 &    -7.9 +- 5.8 &   -38.2 +- 9.2 \\\\\n",
      "               CNN 20 &   67.9 +- 1.1 &   80.8 +- 0.6 &   63.5 +- 1.4 &   59.0 +- 1.2 &   57.0 +- 1.3 &   37.3 +- 1.9 &    41.9 +- 9.9 &   -14.4 +- 5.3 &   -27.5 +- 9.9 \\\\\n",
      "  Logistic Regression &   59.8 +- 1.1 &   73.1 +- 0.5 &   44.3 +- 0.9 &   42.7 +- 0.7 &   37.7 +- 0.9 &   19.4 +- 1.6 &  123.2 +- 13.9 &   -67.6 +- 3.0 &  -55.5 +- 14.2 \\\\\n",
      "        Random Forest &   59.6 +- 1.0 &   73.8 +- 0.4 &   48.4 +- 1.4 &   43.4 +- 0.6 &   39.2 +- 0.8 &   19.7 +- 1.4 &   92.0 +- 13.2 &   -65.3 +- 3.0 &  -26.8 +- 13.5 \\\\\n",
      "           Linear SVM &   59.4 +- 1.1 &   71.8 +- 0.5 &   45.6 +- 0.8 &   41.1 +- 0.6 &   35.8 +- 0.8 &   18.0 +- 1.5 &  166.7 +- 12.3 &   -67.6 +- 3.0 &  -99.0 +- 12.6 \\\\\n",
      " always Non-REM sleep &   54.2 +- 1.1 &   66.5 +- 0.2 &   18.2 +- 0.4 &   33.5 +- 0.2 &   23.3 +- 0.3 &    0.0 +- 0.0 &   255.0 +- 8.1 &   -67.6 +- 3.0 &  -187.4 +- 8.6 \\\\\n",
      "           Perception &   39.6 +- 1.5 &   69.6 +- 0.4 &   40.9 +- 0.8 &   36.0 +- 0.6 &   30.9 +- 0.8 &    2.5 +- 1.1 &  -36.9 +- 16.7 &  137.3 +- 16.1 &  -100.4 +- 9.6 \\\\\n",
      "          always wake &   33.5 +- 1.4 &   66.5 +- 0.2 &   11.3 +- 0.5 &   33.5 +- 0.2 &   16.4 +- 0.5 &    0.0 +- 0.0 &  -297.5 +- 7.1 &   -67.6 +- 3.0 &   365.1 +- 8.7 \\\\\n",
      "     always REM sleep &   12.3 +- 0.5 &   66.7 +- 0.0 &    4.1 +- 0.2 &   33.0 +- 0.4 &    7.2 +- 0.3 &    0.0 +- 0.0 &  -297.5 +- 7.1 &   484.8 +- 8.5 &  -187.4 +- 8.6 \\\\\n",
      "\\bottomrule\n",
      "\\end{tabular}\n",
      "\n"
     ]
    }
   ],
   "source": [
    "print(stage_3_df[stage_3_df['algorithms'].isin(bls)].sort_values(by=\"acc_for_sort\", ascending=False)[stages_clf_columns].to_latex(index=False))"
   ]
  },
  {
   "cell_type": "markdown",
   "metadata": {},
   "source": [
    "### Task 2 :  3stages classification for HRV alone"
   ]
  },
  {
   "cell_type": "code",
   "execution_count": 74,
   "metadata": {},
   "outputs": [
    {
     "name": "stdout",
     "output_type": "stream",
     "text": [
      "summary csv is loaded\n",
      "Pickle file is loaded\n"
     ]
    }
   ],
   "source": [
    "num_classes = 3\n",
    "stages_3_clf_columns= ['algorithms', \"accuracy\", \"specificity\", \"precision\", \"recall\", \"f1-score\", \"cohen-kappa\", \"Non-REM sleep\",\"REM sleep\",\"Wake\"]\n",
    "stage_3_df = load_task(sub_folder, num_classes=num_classes, feature_type='HRV', stages_clf_columns=stages_3_clf_columns)\n",
    "readable_3stages_algs_dict= {\"stages\":\"ground truth\",\"always_0\":\"always wake\", \"always_1\":\"always Non-REM sleep\", \"always_2\":\"always REM sleep\", \"CNN_20_HRV\": \"CNN 20\", \"CNN_50_HRV\":\"CNN 50\", \"CNN_100_HRV\":\"CNN 100\", \"LSTM_20_HRV\":\"LSTM 20\", \"LSTM_50_HRV\":\"LSTM 50\",\"LSTM_100_HRV\":\"LSTM 100\", \"SGD_hinge\":\"Linear SVM\", \"SGD_log\":\"Logistic Regression\", \"SGD_perceptron\":\"Perception\", \"Random_forest_300\": \"Random Forest\"}\n",
    "readable_3stages_df = pd.DataFrame(list(readable_3stages_algs_dict.items()), columns=[\"old_alg_name\",\"new_alg_name\"])\n",
    "stage_3_df['algorithms'] = stage_3_df['algorithms'].apply(lambda x: readable_3stages_algs_dict[x])\n",
    "stage_3_df['acc_for_sort'] = stage_3_df['accuracy'].apply(lambda x: np.float(x.split(\"+-\")[0]))"
   ]
  },
  {
   "cell_type": "code",
   "execution_count": 76,
   "metadata": {
    "scrolled": false
   },
   "outputs": [
    {
     "data": {
      "text/html": [
       "<div>\n",
       "<style scoped>\n",
       "    .dataframe tbody tr th:only-of-type {\n",
       "        vertical-align: middle;\n",
       "    }\n",
       "\n",
       "    .dataframe tbody tr th {\n",
       "        vertical-align: top;\n",
       "    }\n",
       "\n",
       "    .dataframe thead th {\n",
       "        text-align: right;\n",
       "    }\n",
       "</style>\n",
       "<table border=\"1\" class=\"dataframe\">\n",
       "  <thead>\n",
       "    <tr style=\"text-align: right;\">\n",
       "      <th></th>\n",
       "      <th>algorithms</th>\n",
       "      <th>accuracy</th>\n",
       "      <th>specificity</th>\n",
       "      <th>precision</th>\n",
       "      <th>recall</th>\n",
       "      <th>f1-score</th>\n",
       "      <th>cohen-kappa</th>\n",
       "      <th>Wake</th>\n",
       "      <th>REM sleep</th>\n",
       "      <th>Non-REM sleep</th>\n",
       "      <th>acc_for_sort</th>\n",
       "    </tr>\n",
       "  </thead>\n",
       "  <tbody>\n",
       "    <tr>\n",
       "      <th>13</th>\n",
       "      <td>ground truth</td>\n",
       "      <td>100.0 +- 0.0</td>\n",
       "      <td>99.7 +- 0.6</td>\n",
       "      <td>100.0 +- 0.0</td>\n",
       "      <td>100.0 +- 0.0</td>\n",
       "      <td>100.0 +- 0.0</td>\n",
       "      <td>100.0 +- 0.0</td>\n",
       "      <td>88.9 +- 6.6</td>\n",
       "      <td>67.4 +- 3.0</td>\n",
       "      <td>296.7 +- 7.1</td>\n",
       "      <td>100.0</td>\n",
       "    </tr>\n",
       "    <tr>\n",
       "      <th>8</th>\n",
       "      <td>LSTM 100</td>\n",
       "      <td>72.9 +- 1.3</td>\n",
       "      <td>81.0 +- 0.8</td>\n",
       "      <td>64.7 +- 1.5</td>\n",
       "      <td>60.1 +- 1.3</td>\n",
       "      <td>58.7 +- 1.5</td>\n",
       "      <td>37.2 +- 2.4</td>\n",
       "      <td>-6.6 +- 7.0</td>\n",
       "      <td>-11.8 +- 4.0</td>\n",
       "      <td>18.4 +- 6.9</td>\n",
       "      <td>72.9</td>\n",
       "    </tr>\n",
       "    <tr>\n",
       "      <th>7</th>\n",
       "      <td>LSTM 50</td>\n",
       "      <td>72.4 +- 1.2</td>\n",
       "      <td>81.1 +- 0.8</td>\n",
       "      <td>63.0 +- 1.5</td>\n",
       "      <td>59.4 +- 1.3</td>\n",
       "      <td>57.6 +- 1.4</td>\n",
       "      <td>32.9 +- 2.3</td>\n",
       "      <td>5.7 +- 6.9</td>\n",
       "      <td>-19.1 +- 4.1</td>\n",
       "      <td>13.4 +- 6.8</td>\n",
       "      <td>72.4</td>\n",
       "    </tr>\n",
       "    <tr>\n",
       "      <th>4</th>\n",
       "      <td>CNN 50</td>\n",
       "      <td>71.1 +- 1.2</td>\n",
       "      <td>80.3 +- 0.8</td>\n",
       "      <td>63.6 +- 1.5</td>\n",
       "      <td>59.3 +- 1.3</td>\n",
       "      <td>56.6 +- 1.4</td>\n",
       "      <td>33.2 +- 2.1</td>\n",
       "      <td>-5.5 +- 7.3</td>\n",
       "      <td>-12.0 +- 5.5</td>\n",
       "      <td>17.5 +- 7.9</td>\n",
       "      <td>71.1</td>\n",
       "    </tr>\n",
       "    <tr>\n",
       "      <th>6</th>\n",
       "      <td>LSTM 20</td>\n",
       "      <td>70.8 +- 1.1</td>\n",
       "      <td>80.6 +- 0.7</td>\n",
       "      <td>62.0 +- 1.4</td>\n",
       "      <td>58.5 +- 1.1</td>\n",
       "      <td>55.9 +- 1.3</td>\n",
       "      <td>29.5 +- 2.0</td>\n",
       "      <td>13.9 +- 7.1</td>\n",
       "      <td>-24.3 +- 3.9</td>\n",
       "      <td>10.4 +- 6.7</td>\n",
       "      <td>70.8</td>\n",
       "    </tr>\n",
       "    <tr>\n",
       "      <th>5</th>\n",
       "      <td>CNN 100</td>\n",
       "      <td>70.3 +- 1.3</td>\n",
       "      <td>81.5 +- 0.8</td>\n",
       "      <td>62.3 +- 1.4</td>\n",
       "      <td>62.0 +- 1.4</td>\n",
       "      <td>58.4 +- 1.5</td>\n",
       "      <td>36.0 +- 2.1</td>\n",
       "      <td>11.7 +- 7.7</td>\n",
       "      <td>-2.5 +- 4.7</td>\n",
       "      <td>-9.3 +- 7.8</td>\n",
       "      <td>70.3</td>\n",
       "    </tr>\n",
       "    <tr>\n",
       "      <th>3</th>\n",
       "      <td>CNN 20</td>\n",
       "      <td>69.1 +- 1.3</td>\n",
       "      <td>79.4 +- 0.8</td>\n",
       "      <td>60.9 +- 1.4</td>\n",
       "      <td>57.3 +- 1.2</td>\n",
       "      <td>54.3 +- 1.3</td>\n",
       "      <td>28.9 +- 1.9</td>\n",
       "      <td>8.6 +- 7.9</td>\n",
       "      <td>-18.8 +- 5.0</td>\n",
       "      <td>10.2 +- 8.2</td>\n",
       "      <td>69.1</td>\n",
       "    </tr>\n",
       "    <tr>\n",
       "      <th>1</th>\n",
       "      <td>always Non-REM sleep</td>\n",
       "      <td>66.1 +- 1.1</td>\n",
       "      <td>66.3 +- 0.4</td>\n",
       "      <td>22.4 +- 0.6</td>\n",
       "      <td>33.7 +- 0.4</td>\n",
       "      <td>26.7 +- 0.5</td>\n",
       "      <td>0.0 +- 0.0</td>\n",
       "      <td>-88.9 +- 6.6</td>\n",
       "      <td>-67.4 +- 3.0</td>\n",
       "      <td>156.3 +- 6.6</td>\n",
       "      <td>66.1</td>\n",
       "    </tr>\n",
       "    <tr>\n",
       "      <th>9</th>\n",
       "      <td>Linear SVM</td>\n",
       "      <td>65.2 +- 1.3</td>\n",
       "      <td>70.0 +- 0.6</td>\n",
       "      <td>44.0 +- 1.1</td>\n",
       "      <td>40.7 +- 0.7</td>\n",
       "      <td>36.1 +- 0.9</td>\n",
       "      <td>11.7 +- 1.2</td>\n",
       "      <td>-32.9 +- 10.0</td>\n",
       "      <td>-67.4 +- 3.0</td>\n",
       "      <td>100.3 +- 10.0</td>\n",
       "      <td>65.2</td>\n",
       "    </tr>\n",
       "    <tr>\n",
       "      <th>10</th>\n",
       "      <td>Logistic Regression</td>\n",
       "      <td>63.3 +- 1.4</td>\n",
       "      <td>71.2 +- 0.6</td>\n",
       "      <td>42.6 +- 1.1</td>\n",
       "      <td>42.3 +- 0.8</td>\n",
       "      <td>36.7 +- 0.9</td>\n",
       "      <td>11.8 +- 1.3</td>\n",
       "      <td>-0.4 +- 11.6</td>\n",
       "      <td>-67.4 +- 3.0</td>\n",
       "      <td>67.8 +- 11.6</td>\n",
       "      <td>63.3</td>\n",
       "    </tr>\n",
       "    <tr>\n",
       "      <th>12</th>\n",
       "      <td>Random Forest</td>\n",
       "      <td>61.7 +- 1.3</td>\n",
       "      <td>71.7 +- 0.5</td>\n",
       "      <td>45.7 +- 1.4</td>\n",
       "      <td>42.8 +- 0.7</td>\n",
       "      <td>37.2 +- 0.8</td>\n",
       "      <td>11.3 +- 1.1</td>\n",
       "      <td>21.9 +- 11.1</td>\n",
       "      <td>-65.3 +- 3.0</td>\n",
       "      <td>43.4 +- 11.1</td>\n",
       "      <td>61.7</td>\n",
       "    </tr>\n",
       "    <tr>\n",
       "      <th>11</th>\n",
       "      <td>Perception</td>\n",
       "      <td>43.5 +- 1.8</td>\n",
       "      <td>68.3 +- 0.5</td>\n",
       "      <td>39.9 +- 1.0</td>\n",
       "      <td>37.5 +- 0.8</td>\n",
       "      <td>31.9 +- 0.9</td>\n",
       "      <td>3.8 +- 1.0</td>\n",
       "      <td>-24.4 +- 7.5</td>\n",
       "      <td>95.5 +- 14.3</td>\n",
       "      <td>-71.2 +- 14.5</td>\n",
       "      <td>43.5</td>\n",
       "    </tr>\n",
       "    <tr>\n",
       "      <th>0</th>\n",
       "      <td>always wake</td>\n",
       "      <td>19.3 +- 1.3</td>\n",
       "      <td>66.3 +- 0.4</td>\n",
       "      <td>6.7 +- 0.7</td>\n",
       "      <td>33.7 +- 0.4</td>\n",
       "      <td>10.5 +- 0.7</td>\n",
       "      <td>0.0 +- 0.0</td>\n",
       "      <td>363.5 +- 8.9</td>\n",
       "      <td>-67.4 +- 3.0</td>\n",
       "      <td>-296.2 +- 7.3</td>\n",
       "      <td>19.3</td>\n",
       "    </tr>\n",
       "    <tr>\n",
       "      <th>2</th>\n",
       "      <td>always REM sleep</td>\n",
       "      <td>15.1 +- 0.8</td>\n",
       "      <td>66.5 +- 0.4</td>\n",
       "      <td>5.2 +- 0.6</td>\n",
       "      <td>33.1 +- 0.5</td>\n",
       "      <td>8.7 +- 0.6</td>\n",
       "      <td>0.0 +- 0.0</td>\n",
       "      <td>-88.9 +- 6.6</td>\n",
       "      <td>385.1 +- 8.9</td>\n",
       "      <td>-296.2 +- 7.3</td>\n",
       "      <td>15.1</td>\n",
       "    </tr>\n",
       "  </tbody>\n",
       "</table>\n",
       "</div>"
      ],
      "text/plain": [
       "              algorithms      accuracy  specificity     precision  \\\n",
       "13          ground truth  100.0 +- 0.0  99.7 +- 0.6  100.0 +- 0.0   \n",
       "8               LSTM 100   72.9 +- 1.3  81.0 +- 0.8   64.7 +- 1.5   \n",
       "7                LSTM 50   72.4 +- 1.2  81.1 +- 0.8   63.0 +- 1.5   \n",
       "4                 CNN 50   71.1 +- 1.2  80.3 +- 0.8   63.6 +- 1.5   \n",
       "6                LSTM 20   70.8 +- 1.1  80.6 +- 0.7   62.0 +- 1.4   \n",
       "5                CNN 100   70.3 +- 1.3  81.5 +- 0.8   62.3 +- 1.4   \n",
       "3                 CNN 20   69.1 +- 1.3  79.4 +- 0.8   60.9 +- 1.4   \n",
       "1   always Non-REM sleep   66.1 +- 1.1  66.3 +- 0.4   22.4 +- 0.6   \n",
       "9             Linear SVM   65.2 +- 1.3  70.0 +- 0.6   44.0 +- 1.1   \n",
       "10   Logistic Regression   63.3 +- 1.4  71.2 +- 0.6   42.6 +- 1.1   \n",
       "12         Random Forest   61.7 +- 1.3  71.7 +- 0.5   45.7 +- 1.4   \n",
       "11            Perception   43.5 +- 1.8  68.3 +- 0.5   39.9 +- 1.0   \n",
       "0            always wake   19.3 +- 1.3  66.3 +- 0.4    6.7 +- 0.7   \n",
       "2       always REM sleep   15.1 +- 0.8  66.5 +- 0.4    5.2 +- 0.6   \n",
       "\n",
       "          recall      f1-score   cohen-kappa           Wake     REM sleep  \\\n",
       "13  100.0 +- 0.0  100.0 +- 0.0  100.0 +- 0.0    88.9 +- 6.6   67.4 +- 3.0   \n",
       "8    60.1 +- 1.3   58.7 +- 1.5   37.2 +- 2.4    -6.6 +- 7.0  -11.8 +- 4.0   \n",
       "7    59.4 +- 1.3   57.6 +- 1.4   32.9 +- 2.3     5.7 +- 6.9  -19.1 +- 4.1   \n",
       "4    59.3 +- 1.3   56.6 +- 1.4   33.2 +- 2.1    -5.5 +- 7.3  -12.0 +- 5.5   \n",
       "6    58.5 +- 1.1   55.9 +- 1.3   29.5 +- 2.0    13.9 +- 7.1  -24.3 +- 3.9   \n",
       "5    62.0 +- 1.4   58.4 +- 1.5   36.0 +- 2.1    11.7 +- 7.7   -2.5 +- 4.7   \n",
       "3    57.3 +- 1.2   54.3 +- 1.3   28.9 +- 1.9     8.6 +- 7.9  -18.8 +- 5.0   \n",
       "1    33.7 +- 0.4   26.7 +- 0.5    0.0 +- 0.0   -88.9 +- 6.6  -67.4 +- 3.0   \n",
       "9    40.7 +- 0.7   36.1 +- 0.9   11.7 +- 1.2  -32.9 +- 10.0  -67.4 +- 3.0   \n",
       "10   42.3 +- 0.8   36.7 +- 0.9   11.8 +- 1.3   -0.4 +- 11.6  -67.4 +- 3.0   \n",
       "12   42.8 +- 0.7   37.2 +- 0.8   11.3 +- 1.1   21.9 +- 11.1  -65.3 +- 3.0   \n",
       "11   37.5 +- 0.8   31.9 +- 0.9    3.8 +- 1.0   -24.4 +- 7.5  95.5 +- 14.3   \n",
       "0    33.7 +- 0.4   10.5 +- 0.7    0.0 +- 0.0   363.5 +- 8.9  -67.4 +- 3.0   \n",
       "2    33.1 +- 0.5    8.7 +- 0.6    0.0 +- 0.0   -88.9 +- 6.6  385.1 +- 8.9   \n",
       "\n",
       "    Non-REM sleep  acc_for_sort  \n",
       "13   296.7 +- 7.1         100.0  \n",
       "8     18.4 +- 6.9          72.9  \n",
       "7     13.4 +- 6.8          72.4  \n",
       "4     17.5 +- 7.9          71.1  \n",
       "6     10.4 +- 6.7          70.8  \n",
       "5     -9.3 +- 7.8          70.3  \n",
       "3     10.2 +- 8.2          69.1  \n",
       "1    156.3 +- 6.6          66.1  \n",
       "9   100.3 +- 10.0          65.2  \n",
       "10   67.8 +- 11.6          63.3  \n",
       "12   43.4 +- 11.1          61.7  \n",
       "11  -71.2 +- 14.5          43.5  \n",
       "0   -296.2 +- 7.3          19.3  \n",
       "2   -296.2 +- 7.3          15.1  "
      ]
     },
     "execution_count": 76,
     "metadata": {},
     "output_type": "execute_result"
    }
   ],
   "source": [
    "stage_3_df[['algorithms', \"accuracy\", \"specificity\", \"precision\", \"recall\", \"f1-score\", \"cohen-kappa\",\"Wake\",\"REM sleep\", \"Non-REM sleep\",'acc_for_sort']].sort_values(by=\"acc_for_sort\", ascending=False)"
   ]
  },
  {
   "cell_type": "markdown",
   "metadata": {},
   "source": [
    "### produce latex"
   ]
  },
  {
   "cell_type": "code",
   "execution_count": 79,
   "metadata": {
    "scrolled": false
   },
   "outputs": [
    {
     "name": "stdout",
     "output_type": "stream",
     "text": [
      "\\begin{tabular}{llllllllll}\n",
      "\\toprule\n",
      "           algorithms &      accuracy &   specificity &     precision &        recall &      f1-score &   cohen-kappa &  Non-REM sleep &      REM sleep &           Wake \\\\\n",
      "\\midrule\n",
      "         ground truth &  100.0 +- 0.0 &  100.0 +- 0.0 &  100.0 +- 0.0 &  100.0 +- 0.0 &  100.0 +- 0.0 &  100.0 +- 0.0 &   297.5 +- 7.1 &    67.6 +- 3.0 &   187.4 +- 8.6 \\\\\n",
      "             LSTM 100 &   73.8 +- 1.2 &   84.3 +- 0.6 &   69.8 +- 1.5 &   66.1 +- 1.3 &   64.9 +- 1.5 &   50.0 +- 2.2 &    36.4 +- 8.1 &    -8.6 +- 4.2 &   -27.8 +- 8.5 \\\\\n",
      "              LSTM 50 &   72.9 +- 1.1 &   83.8 +- 0.6 &   67.9 +- 1.4 &   64.1 +- 1.3 &   62.9 +- 1.4 &   45.5 +- 2.1 &    34.1 +- 8.3 &   -16.2 +- 4.3 &   -17.9 +- 8.5 \\\\\n",
      "              CNN 100 &   71.0 +- 1.2 &   83.6 +- 0.6 &   66.3 +- 1.4 &   65.4 +- 1.4 &   62.7 +- 1.4 &   46.1 +- 2.0 &    10.6 +- 9.1 &     2.3 +- 5.0 &   -12.9 +- 9.4 \\\\\n",
      "              LSTM 20 &   70.4 +- 1.0 &   82.3 +- 0.6 &   65.3 +- 1.4 &   60.8 +- 1.2 &   59.6 +- 1.3 &   39.3 +- 1.9 &    36.9 +- 8.0 &   -20.4 +- 4.1 &   -16.4 +- 8.6 \\\\\n",
      "               CNN 50 &   70.3 +- 1.1 &   82.2 +- 0.6 &   66.6 +- 1.4 &   62.2 +- 1.3 &   60.1 +- 1.4 &   42.9 +- 2.0 &    46.0 +- 9.5 &    -7.9 +- 5.8 &   -38.2 +- 9.2 \\\\\n",
      "               CNN 20 &   67.9 +- 1.1 &   80.8 +- 0.6 &   63.5 +- 1.4 &   59.0 +- 1.2 &   57.0 +- 1.3 &   37.3 +- 1.9 &    41.9 +- 9.9 &   -14.4 +- 5.3 &   -27.5 +- 9.9 \\\\\n",
      "  Logistic Regression &   59.8 +- 1.1 &   73.1 +- 0.5 &   44.3 +- 0.9 &   42.7 +- 0.7 &   37.7 +- 0.9 &   19.4 +- 1.6 &  123.2 +- 13.9 &   -67.6 +- 3.0 &  -55.5 +- 14.2 \\\\\n",
      "        Random Forest &   59.6 +- 1.0 &   73.8 +- 0.4 &   48.4 +- 1.4 &   43.4 +- 0.6 &   39.2 +- 0.8 &   19.7 +- 1.4 &   92.0 +- 13.2 &   -65.3 +- 3.0 &  -26.8 +- 13.5 \\\\\n",
      "           Linear SVM &   59.4 +- 1.1 &   71.8 +- 0.5 &   45.6 +- 0.8 &   41.1 +- 0.6 &   35.8 +- 0.8 &   18.0 +- 1.5 &  166.7 +- 12.3 &   -67.6 +- 3.0 &  -99.0 +- 12.6 \\\\\n",
      " always Non-REM sleep &   54.2 +- 1.1 &   66.5 +- 0.2 &   18.2 +- 0.4 &   33.5 +- 0.2 &   23.3 +- 0.3 &    0.0 +- 0.0 &   255.0 +- 8.1 &   -67.6 +- 3.0 &  -187.4 +- 8.6 \\\\\n",
      "           Perception &   39.6 +- 1.5 &   69.6 +- 0.4 &   40.9 +- 0.8 &   36.0 +- 0.6 &   30.9 +- 0.8 &    2.5 +- 1.1 &  -36.9 +- 16.7 &  137.3 +- 16.1 &  -100.4 +- 9.6 \\\\\n",
      "          always wake &   33.5 +- 1.4 &   66.5 +- 0.2 &   11.3 +- 0.5 &   33.5 +- 0.2 &   16.4 +- 0.5 &    0.0 +- 0.0 &  -297.5 +- 7.1 &   -67.6 +- 3.0 &   365.1 +- 8.7 \\\\\n",
      "     always REM sleep &   12.3 +- 0.5 &   66.7 +- 0.0 &    4.1 +- 0.2 &   33.0 +- 0.4 &    7.2 +- 0.3 &    0.0 +- 0.0 &  -297.5 +- 7.1 &   484.8 +- 8.5 &  -187.4 +- 8.6 \\\\\n",
      "\\bottomrule\n",
      "\\end{tabular}\n",
      "\n"
     ]
    }
   ],
   "source": [
    "bls = readable_3stages_df.new_alg_name.unique().tolist()\n",
    "print(stage_3_df[stage_3_df['algorithms'].isin(bls)].sort_values(by=\"acc_for_sort\", ascending=False)[stages_3_clf_columns].to_latex(index=False))"
   ]
  },
  {
   "cell_type": "markdown",
   "metadata": {},
   "source": [
    "## ================== Task 3 4 stages ==================="
   ]
  },
  {
   "cell_type": "markdown",
   "metadata": {},
   "source": [
    "### 4 stages ENMO & HRV "
   ]
  },
  {
   "cell_type": "code",
   "execution_count": 80,
   "metadata": {},
   "outputs": [
    {
     "name": "stdout",
     "output_type": "stream",
     "text": [
      "summary csv is loaded\n",
      "Pickle file is loaded\n"
     ]
    }
   ],
   "source": [
    "stages_4_clf_columns= ['algorithms', \"accuracy\", \"specificity\", \"precision\", \"recall\", \"f1-score\",\"cohen-kappa\", \"Deep sleep\",\"Light sleep\",\"REM sleep\",\"Wake\"]\n",
    "stage_4_df = load_task(sub_folder, num_classes=4, feature_type='ENMO_HRV', stages_clf_columns=stages_4_clf_columns)\n",
    "readable_4stages_algs_dict= {\"stages\":\"ground truth\",\"always_0\":\"always wake\", \"always_1\":\"always light sleep\", \"always_2\":\"always deep sleep\", \"always_3\":\"always REM sleep\", \"CNN_20_ENMO_HRV\": \"CNN 20\", \"CNN_50_ENMO_HRV\":\"CNN 50\", \"CNN_100_ENMO_HRV\":\"CNN 100\", \"LSTM_20_ENMO_HRV\":\"LSTM 20\", \"LSTM_50_ENMO_HRV\":\"LSTM 50\",\"LSTM_100_ENMO_HRV\":\"LSTM 100\", \"SGD_hinge\":\"Linear SVM\", \"SGD_log\":\"Logistic Regression\", \"SGD_perceptron\":\"Perception\", \"Random_forest_300\": \"Random Forest\"}\n",
    "readable_4stages_df = pd.DataFrame(list(readable_4stages_algs_dict.items()), columns=[\"old_alg_name\",\"new_alg_name\"])\n",
    "stages_4_baselines = ['stages', 'always_0', 'always_1', 'always_2','always_3']\n",
    "stage_4_df['algorithms'] = stage_4_df['algorithms'].apply(lambda x: readable_4stages_algs_dict[x])\n",
    "# get ready the rename df\n",
    "bls = readable_4stages_df.new_alg_name.unique().tolist()\n",
    "stage_4_df['acc_for_sort'] = stage_4_df['accuracy'].apply(lambda x: np.float(x.split(\"+-\")[0]))"
   ]
  },
  {
   "cell_type": "code",
   "execution_count": 85,
   "metadata": {
    "scrolled": false
   },
   "outputs": [
    {
     "data": {
      "text/html": [
       "<div>\n",
       "<style scoped>\n",
       "    .dataframe tbody tr th:only-of-type {\n",
       "        vertical-align: middle;\n",
       "    }\n",
       "\n",
       "    .dataframe tbody tr th {\n",
       "        vertical-align: top;\n",
       "    }\n",
       "\n",
       "    .dataframe thead th {\n",
       "        text-align: right;\n",
       "    }\n",
       "</style>\n",
       "<table border=\"1\" class=\"dataframe\">\n",
       "  <thead>\n",
       "    <tr style=\"text-align: right;\">\n",
       "      <th></th>\n",
       "      <th>algorithms</th>\n",
       "      <th>accuracy</th>\n",
       "      <th>specificity</th>\n",
       "      <th>precision</th>\n",
       "      <th>recall</th>\n",
       "      <th>f1-score</th>\n",
       "      <th>cohen-kappa</th>\n",
       "      <th>Wake</th>\n",
       "      <th>REM sleep</th>\n",
       "      <th>Deep sleep</th>\n",
       "      <th>Light sleep</th>\n",
       "      <th>acc_for_sort</th>\n",
       "    </tr>\n",
       "  </thead>\n",
       "  <tbody>\n",
       "    <tr>\n",
       "      <th>14</th>\n",
       "      <td>ground truth</td>\n",
       "      <td>100.0 +- 0.0</td>\n",
       "      <td>99.7 +- 0.6</td>\n",
       "      <td>100.0 +- 0.0</td>\n",
       "      <td>100.0 +- 0.0</td>\n",
       "      <td>100.0 +- 0.0</td>\n",
       "      <td>100.0 +- 0.0</td>\n",
       "      <td>88.9 +- 6.6</td>\n",
       "      <td>67.4 +- 3.0</td>\n",
       "      <td>39.2 +- 3.6</td>\n",
       "      <td>257.5 +- 7.0</td>\n",
       "      <td>100.0</td>\n",
       "    </tr>\n",
       "    <tr>\n",
       "      <th>8</th>\n",
       "      <td>LSTM 50</td>\n",
       "      <td>66.5 +- 1.1</td>\n",
       "      <td>84.1 +- 0.7</td>\n",
       "      <td>53.8 +- 1.4</td>\n",
       "      <td>50.2 +- 1.0</td>\n",
       "      <td>47.4 +- 1.1</td>\n",
       "      <td>44.8 +- 2.2</td>\n",
       "      <td>10.5 +- 5.8</td>\n",
       "      <td>-7.5 +- 3.9</td>\n",
       "      <td>-36.2 +- 3.5</td>\n",
       "      <td>33.2 +- 6.7</td>\n",
       "      <td>66.5</td>\n",
       "    </tr>\n",
       "    <tr>\n",
       "      <th>9</th>\n",
       "      <td>LSTM 100</td>\n",
       "      <td>66.5 +- 1.1</td>\n",
       "      <td>82.9 +- 0.6</td>\n",
       "      <td>55.5 +- 1.6</td>\n",
       "      <td>47.5 +- 1.1</td>\n",
       "      <td>46.2 +- 1.2</td>\n",
       "      <td>40.6 +- 2.1</td>\n",
       "      <td>-7.3 +- 5.5</td>\n",
       "      <td>-25.7 +- 3.6</td>\n",
       "      <td>-32.5 +- 3.5</td>\n",
       "      <td>65.5 +- 6.8</td>\n",
       "      <td>66.5</td>\n",
       "    </tr>\n",
       "    <tr>\n",
       "      <th>6</th>\n",
       "      <td>CNN 100</td>\n",
       "      <td>65.6 +- 1.2</td>\n",
       "      <td>83.7 +- 0.7</td>\n",
       "      <td>54.8 +- 1.5</td>\n",
       "      <td>49.8 +- 1.1</td>\n",
       "      <td>47.1 +- 1.1</td>\n",
       "      <td>42.6 +- 2.0</td>\n",
       "      <td>-1.7 +- 6.3</td>\n",
       "      <td>1.5 +- 4.7</td>\n",
       "      <td>-34.6 +- 3.5</td>\n",
       "      <td>34.7 +- 7.5</td>\n",
       "      <td>65.6</td>\n",
       "    </tr>\n",
       "    <tr>\n",
       "      <th>7</th>\n",
       "      <td>LSTM 20</td>\n",
       "      <td>65.4 +- 1.1</td>\n",
       "      <td>83.4 +- 0.6</td>\n",
       "      <td>51.4 +- 1.3</td>\n",
       "      <td>48.4 +- 0.9</td>\n",
       "      <td>45.6 +- 1.0</td>\n",
       "      <td>41.4 +- 1.9</td>\n",
       "      <td>5.6 +- 5.6</td>\n",
       "      <td>-9.1 +- 4.0</td>\n",
       "      <td>-37.7 +- 3.5</td>\n",
       "      <td>41.2 +- 6.9</td>\n",
       "      <td>65.4</td>\n",
       "    </tr>\n",
       "    <tr>\n",
       "      <th>4</th>\n",
       "      <td>CNN 20</td>\n",
       "      <td>64.7 +- 1.1</td>\n",
       "      <td>82.8 +- 0.6</td>\n",
       "      <td>49.5 +- 1.2</td>\n",
       "      <td>47.3 +- 1.0</td>\n",
       "      <td>44.5 +- 1.0</td>\n",
       "      <td>39.9 +- 1.9</td>\n",
       "      <td>-10.8 +- 5.4</td>\n",
       "      <td>-2.2 +- 5.2</td>\n",
       "      <td>-38.8 +- 3.6</td>\n",
       "      <td>51.9 +- 7.6</td>\n",
       "      <td>64.7</td>\n",
       "    </tr>\n",
       "    <tr>\n",
       "      <th>5</th>\n",
       "      <td>CNN 50</td>\n",
       "      <td>64.6 +- 1.2</td>\n",
       "      <td>83.8 +- 0.6</td>\n",
       "      <td>51.6 +- 1.4</td>\n",
       "      <td>50.1 +- 1.0</td>\n",
       "      <td>46.1 +- 1.1</td>\n",
       "      <td>43.3 +- 2.0</td>\n",
       "      <td>1.9 +- 5.7</td>\n",
       "      <td>14.6 +- 6.0</td>\n",
       "      <td>-37.7 +- 3.5</td>\n",
       "      <td>21.2 +- 8.1</td>\n",
       "      <td>64.6</td>\n",
       "    </tr>\n",
       "    <tr>\n",
       "      <th>10</th>\n",
       "      <td>Linear SVM</td>\n",
       "      <td>60.4 +- 1.2</td>\n",
       "      <td>77.9 +- 0.6</td>\n",
       "      <td>31.1 +- 1.0</td>\n",
       "      <td>35.5 +- 0.8</td>\n",
       "      <td>31.0 +- 0.9</td>\n",
       "      <td>18.5 +- 1.3</td>\n",
       "      <td>-9.4 +- 6.6</td>\n",
       "      <td>-67.4 +- 3.0</td>\n",
       "      <td>-39.2 +- 3.6</td>\n",
       "      <td>115.9 +- 7.9</td>\n",
       "      <td>60.4</td>\n",
       "    </tr>\n",
       "    <tr>\n",
       "      <th>11</th>\n",
       "      <td>Logistic Regression</td>\n",
       "      <td>60.3 +- 1.2</td>\n",
       "      <td>78.1 +- 0.6</td>\n",
       "      <td>31.6 +- 1.1</td>\n",
       "      <td>35.8 +- 0.8</td>\n",
       "      <td>31.1 +- 0.9</td>\n",
       "      <td>18.6 +- 1.3</td>\n",
       "      <td>-5.3 +- 6.8</td>\n",
       "      <td>-67.3 +- 3.0</td>\n",
       "      <td>-39.0 +- 3.6</td>\n",
       "      <td>111.7 +- 8.1</td>\n",
       "      <td>60.3</td>\n",
       "    </tr>\n",
       "    <tr>\n",
       "      <th>13</th>\n",
       "      <td>Random Forest</td>\n",
       "      <td>60.1 +- 1.1</td>\n",
       "      <td>78.7 +- 0.6</td>\n",
       "      <td>40.8 +- 1.4</td>\n",
       "      <td>36.7 +- 0.7</td>\n",
       "      <td>32.5 +- 0.8</td>\n",
       "      <td>20.8 +- 1.3</td>\n",
       "      <td>3.8 +- 6.3</td>\n",
       "      <td>-61.3 +- 2.9</td>\n",
       "      <td>-38.8 +- 3.6</td>\n",
       "      <td>96.3 +- 7.6</td>\n",
       "      <td>60.1</td>\n",
       "    </tr>\n",
       "    <tr>\n",
       "      <th>1</th>\n",
       "      <td>always light sleep</td>\n",
       "      <td>57.4 +- 1.2</td>\n",
       "      <td>74.1 +- 0.5</td>\n",
       "      <td>15.0 +- 0.6</td>\n",
       "      <td>25.9 +- 0.5</td>\n",
       "      <td>18.8 +- 0.6</td>\n",
       "      <td>0.0 +- 0.0</td>\n",
       "      <td>-88.9 +- 6.6</td>\n",
       "      <td>-67.4 +- 3.0</td>\n",
       "      <td>-39.2 +- 3.6</td>\n",
       "      <td>195.5 +- 7.4</td>\n",
       "      <td>57.4</td>\n",
       "    </tr>\n",
       "    <tr>\n",
       "      <th>12</th>\n",
       "      <td>Perception</td>\n",
       "      <td>51.7 +- 1.3</td>\n",
       "      <td>77.1 +- 0.5</td>\n",
       "      <td>33.4 +- 0.8</td>\n",
       "      <td>28.5 +- 0.6</td>\n",
       "      <td>26.8 +- 0.7</td>\n",
       "      <td>-1.8 +- 1.2</td>\n",
       "      <td>-51.1 +- 5.9</td>\n",
       "      <td>-44.5 +- 4.0</td>\n",
       "      <td>16.7 +- 6.3</td>\n",
       "      <td>79.0 +- 8.9</td>\n",
       "      <td>51.7</td>\n",
       "    </tr>\n",
       "    <tr>\n",
       "      <th>0</th>\n",
       "      <td>always wake</td>\n",
       "      <td>19.3 +- 1.3</td>\n",
       "      <td>74.1 +- 0.5</td>\n",
       "      <td>5.2 +- 0.6</td>\n",
       "      <td>25.9 +- 0.5</td>\n",
       "      <td>8.2 +- 0.7</td>\n",
       "      <td>0.0 +- 0.0</td>\n",
       "      <td>363.5 +- 8.9</td>\n",
       "      <td>-67.4 +- 3.0</td>\n",
       "      <td>-39.2 +- 3.6</td>\n",
       "      <td>-257.0 +- 7.1</td>\n",
       "      <td>19.3</td>\n",
       "    </tr>\n",
       "    <tr>\n",
       "      <th>3</th>\n",
       "      <td>always REM sleep</td>\n",
       "      <td>15.1 +- 0.8</td>\n",
       "      <td>74.3 +- 0.5</td>\n",
       "      <td>4.0 +- 0.6</td>\n",
       "      <td>25.3 +- 0.5</td>\n",
       "      <td>6.7 +- 0.6</td>\n",
       "      <td>0.0 +- 0.0</td>\n",
       "      <td>-88.9 +- 6.6</td>\n",
       "      <td>385.1 +- 8.9</td>\n",
       "      <td>-39.2 +- 3.6</td>\n",
       "      <td>-257.0 +- 7.1</td>\n",
       "      <td>15.1</td>\n",
       "    </tr>\n",
       "    <tr>\n",
       "      <th>2</th>\n",
       "      <td>always deep sleep</td>\n",
       "      <td>9.0 +- 0.9</td>\n",
       "      <td>74.7 +- 0.4</td>\n",
       "      <td>2.5 +- 0.6</td>\n",
       "      <td>23.8 +- 0.7</td>\n",
       "      <td>4.1 +- 0.6</td>\n",
       "      <td>0.0 +- 0.0</td>\n",
       "      <td>-88.9 +- 6.6</td>\n",
       "      <td>-67.4 +- 3.0</td>\n",
       "      <td>413.3 +- 9.9</td>\n",
       "      <td>-257.0 +- 7.1</td>\n",
       "      <td>9.0</td>\n",
       "    </tr>\n",
       "  </tbody>\n",
       "</table>\n",
       "</div>"
      ],
      "text/plain": [
       "             algorithms      accuracy  specificity     precision  \\\n",
       "14         ground truth  100.0 +- 0.0  99.7 +- 0.6  100.0 +- 0.0   \n",
       "8               LSTM 50   66.5 +- 1.1  84.1 +- 0.7   53.8 +- 1.4   \n",
       "9              LSTM 100   66.5 +- 1.1  82.9 +- 0.6   55.5 +- 1.6   \n",
       "6               CNN 100   65.6 +- 1.2  83.7 +- 0.7   54.8 +- 1.5   \n",
       "7               LSTM 20   65.4 +- 1.1  83.4 +- 0.6   51.4 +- 1.3   \n",
       "4                CNN 20   64.7 +- 1.1  82.8 +- 0.6   49.5 +- 1.2   \n",
       "5                CNN 50   64.6 +- 1.2  83.8 +- 0.6   51.6 +- 1.4   \n",
       "10           Linear SVM   60.4 +- 1.2  77.9 +- 0.6   31.1 +- 1.0   \n",
       "11  Logistic Regression   60.3 +- 1.2  78.1 +- 0.6   31.6 +- 1.1   \n",
       "13        Random Forest   60.1 +- 1.1  78.7 +- 0.6   40.8 +- 1.4   \n",
       "1    always light sleep   57.4 +- 1.2  74.1 +- 0.5   15.0 +- 0.6   \n",
       "12           Perception   51.7 +- 1.3  77.1 +- 0.5   33.4 +- 0.8   \n",
       "0           always wake   19.3 +- 1.3  74.1 +- 0.5    5.2 +- 0.6   \n",
       "3      always REM sleep   15.1 +- 0.8  74.3 +- 0.5    4.0 +- 0.6   \n",
       "2     always deep sleep    9.0 +- 0.9  74.7 +- 0.4    2.5 +- 0.6   \n",
       "\n",
       "          recall      f1-score   cohen-kappa          Wake     REM sleep  \\\n",
       "14  100.0 +- 0.0  100.0 +- 0.0  100.0 +- 0.0   88.9 +- 6.6   67.4 +- 3.0   \n",
       "8    50.2 +- 1.0   47.4 +- 1.1   44.8 +- 2.2   10.5 +- 5.8   -7.5 +- 3.9   \n",
       "9    47.5 +- 1.1   46.2 +- 1.2   40.6 +- 2.1   -7.3 +- 5.5  -25.7 +- 3.6   \n",
       "6    49.8 +- 1.1   47.1 +- 1.1   42.6 +- 2.0   -1.7 +- 6.3    1.5 +- 4.7   \n",
       "7    48.4 +- 0.9   45.6 +- 1.0   41.4 +- 1.9    5.6 +- 5.6   -9.1 +- 4.0   \n",
       "4    47.3 +- 1.0   44.5 +- 1.0   39.9 +- 1.9  -10.8 +- 5.4   -2.2 +- 5.2   \n",
       "5    50.1 +- 1.0   46.1 +- 1.1   43.3 +- 2.0    1.9 +- 5.7   14.6 +- 6.0   \n",
       "10   35.5 +- 0.8   31.0 +- 0.9   18.5 +- 1.3   -9.4 +- 6.6  -67.4 +- 3.0   \n",
       "11   35.8 +- 0.8   31.1 +- 0.9   18.6 +- 1.3   -5.3 +- 6.8  -67.3 +- 3.0   \n",
       "13   36.7 +- 0.7   32.5 +- 0.8   20.8 +- 1.3    3.8 +- 6.3  -61.3 +- 2.9   \n",
       "1    25.9 +- 0.5   18.8 +- 0.6    0.0 +- 0.0  -88.9 +- 6.6  -67.4 +- 3.0   \n",
       "12   28.5 +- 0.6   26.8 +- 0.7   -1.8 +- 1.2  -51.1 +- 5.9  -44.5 +- 4.0   \n",
       "0    25.9 +- 0.5    8.2 +- 0.7    0.0 +- 0.0  363.5 +- 8.9  -67.4 +- 3.0   \n",
       "3    25.3 +- 0.5    6.7 +- 0.6    0.0 +- 0.0  -88.9 +- 6.6  385.1 +- 8.9   \n",
       "2    23.8 +- 0.7    4.1 +- 0.6    0.0 +- 0.0  -88.9 +- 6.6  -67.4 +- 3.0   \n",
       "\n",
       "      Deep sleep    Light sleep  acc_for_sort  \n",
       "14   39.2 +- 3.6   257.5 +- 7.0         100.0  \n",
       "8   -36.2 +- 3.5    33.2 +- 6.7          66.5  \n",
       "9   -32.5 +- 3.5    65.5 +- 6.8          66.5  \n",
       "6   -34.6 +- 3.5    34.7 +- 7.5          65.6  \n",
       "7   -37.7 +- 3.5    41.2 +- 6.9          65.4  \n",
       "4   -38.8 +- 3.6    51.9 +- 7.6          64.7  \n",
       "5   -37.7 +- 3.5    21.2 +- 8.1          64.6  \n",
       "10  -39.2 +- 3.6   115.9 +- 7.9          60.4  \n",
       "11  -39.0 +- 3.6   111.7 +- 8.1          60.3  \n",
       "13  -38.8 +- 3.6    96.3 +- 7.6          60.1  \n",
       "1   -39.2 +- 3.6   195.5 +- 7.4          57.4  \n",
       "12   16.7 +- 6.3    79.0 +- 8.9          51.7  \n",
       "0   -39.2 +- 3.6  -257.0 +- 7.1          19.3  \n",
       "3   -39.2 +- 3.6  -257.0 +- 7.1          15.1  \n",
       "2   413.3 +- 9.9  -257.0 +- 7.1           9.0  "
      ]
     },
     "execution_count": 85,
     "metadata": {},
     "output_type": "execute_result"
    }
   ],
   "source": [
    "stage_4_df[['algorithms', \"accuracy\", \"specificity\", \"precision\", \"recall\", \"f1-score\",\"cohen-kappa\",\"Wake\",\"REM sleep\",\"Deep sleep\",\"Light sleep\",\"acc_for_sort\"]].sort_values(by=\"acc_for_sort\", ascending=False)\n"
   ]
  },
  {
   "cell_type": "code",
   "execution_count": 89,
   "metadata": {},
   "outputs": [
    {
     "name": "stdout",
     "output_type": "stream",
     "text": [
      "\\begin{tabular}{lllllllllll}\n",
      "\\toprule\n",
      "          algorithms &      accuracy &   specificity &     precision &        recall &      f1-score &   cohen-kappa &    Deep sleep &    Light sleep &     REM sleep &           Wake \\\\\n",
      "\\midrule\n",
      "        ground truth &  100.0 +- 0.0 &  100.0 +- 0.0 &  100.0 +- 0.0 &  100.0 +- 0.0 &  100.0 +- 0.0 &  100.0 +- 0.0 &   39.3 +- 3.6 &   258.2 +- 7.0 &   67.6 +- 3.0 &   187.4 +- 8.6 \\\\\n",
      "             LSTM 50 &   70.3 +- 1.0 &   87.4 +- 0.4 &   57.9 +- 1.3 &   54.0 +- 1.0 &   51.9 +- 1.0 &   53.8 +- 1.9 &  -36.2 +- 3.5 &    42.8 +- 7.4 &   -5.6 +- 4.0 &    -1.0 +- 6.9 \\\\\n",
      "            LSTM 100 &   70.2 +- 1.0 &   86.9 +- 0.4 &   59.9 +- 1.5 &   52.4 +- 1.0 &   51.3 +- 1.1 &   51.7 +- 1.8 &  -32.4 +- 3.5 &    76.0 +- 7.3 &  -24.7 +- 3.7 &   -18.9 +- 6.6 \\\\\n",
      "             CNN 100 &   69.0 +- 1.0 &   87.0 +- 0.4 &   58.0 +- 1.4 &   53.7 +- 1.0 &   51.2 +- 1.1 &   51.6 +- 1.8 &  -34.5 +- 3.5 &    46.1 +- 8.1 &    4.4 +- 4.8 &   -15.9 +- 7.5 \\\\\n",
      "             LSTM 20 &   68.3 +- 1.0 &   86.5 +- 0.4 &   55.0 +- 1.2 &   51.6 +- 0.9 &   49.5 +- 0.9 &   50.0 +- 1.7 &  -37.8 +- 3.5 &    55.7 +- 7.7 &   -6.6 +- 4.1 &   -11.2 +- 7.0 \\\\\n",
      "              CNN 50 &   68.0 +- 1.1 &   86.9 +- 0.4 &   54.8 +- 1.3 &   53.5 +- 1.0 &   49.9 +- 1.0 &   51.6 +- 1.9 &  -37.8 +- 3.6 &    32.5 +- 8.8 &   18.5 +- 6.2 &   -13.2 +- 7.1 \\\\\n",
      "              CNN 20 &   67.0 +- 1.0 &   85.9 +- 0.4 &   52.2 +- 1.1 &   50.5 +- 0.9 &   47.8 +- 0.9 &   48.3 +- 1.7 &  -38.9 +- 3.6 &    69.9 +- 8.5 &    1.1 +- 5.4 &   -32.1 +- 6.9 \\\\\n",
      "       Random Forest &   63.6 +- 1.0 &   83.3 +- 0.4 &   44.7 +- 1.3 &   40.1 +- 0.6 &   36.7 +- 0.6 &   34.4 +- 1.3 &  -38.9 +- 3.6 &   115.3 +- 8.3 &  -61.3 +- 2.9 &   -15.2 +- 7.6 \\\\\n",
      " Logistic Regression &   63.5 +- 1.0 &   82.8 +- 0.4 &   35.6 +- 0.8 &   39.5 +- 0.7 &   35.5 +- 0.7 &   32.9 +- 1.3 &  -39.2 +- 3.6 &   132.6 +- 8.8 &  -67.6 +- 3.0 &   -25.9 +- 8.1 \\\\\n",
      "          Linear SVM &   63.4 +- 1.1 &   82.7 +- 0.4 &   35.2 +- 0.8 &   39.4 +- 0.7 &   35.4 +- 0.7 &   32.9 +- 1.3 &  -39.3 +- 3.6 &   137.9 +- 8.6 &  -67.6 +- 3.0 &   -30.9 +- 7.9 \\\\\n",
      "          Perception &   50.6 +- 1.1 &   80.7 +- 0.3 &   36.8 +- 0.5 &   31.3 +- 0.5 &   30.0 +- 0.6 &    0.6 +- 1.4 &   35.6 +- 6.9 &    96.5 +- 9.6 &  -28.6 +- 4.3 &  -103.5 +- 7.7 \\\\\n",
      "  always light sleep &   47.0 +- 1.1 &   74.3 +- 0.3 &   12.1 +- 0.3 &   25.7 +- 0.3 &   16.2 +- 0.4 &    0.0 +- 0.0 &  -39.3 +- 3.6 &   294.3 +- 8.2 &  -67.6 +- 3.0 &  -187.4 +- 8.6 \\\\\n",
      "         always wake &   33.5 +- 1.4 &   74.3 +- 0.3 &    8.7 +- 0.4 &   25.7 +- 0.3 &   12.6 +- 0.5 &    0.0 +- 0.0 &  -39.3 +- 3.6 &  -258.2 +- 7.0 &  -67.6 +- 3.0 &   365.1 +- 8.7 \\\\\n",
      "    always REM sleep &   12.3 +- 0.5 &   74.5 +- 0.2 &    3.1 +- 0.1 &   25.1 +- 0.3 &    5.4 +- 0.2 &    0.0 +- 0.0 &  -39.3 +- 3.6 &  -258.2 +- 7.0 &  484.8 +- 8.5 &  -187.4 +- 8.6 \\\\\n",
      "   always deep sleep &    7.2 +- 0.7 &   74.9 +- 0.1 &    1.8 +- 0.2 &   23.6 +- 0.6 &    3.2 +- 0.3 &    0.0 +- 0.0 &  513.2 +- 9.4 &  -258.2 +- 7.0 &  -67.6 +- 3.0 &  -187.4 +- 8.6 \\\\\n",
      "\\bottomrule\n",
      "\\end{tabular}\n",
      "\n"
     ]
    }
   ],
   "source": [
    "print(stage_4_df[stage_4_df['algorithms'].isin(bls)].sort_values(by=\"acc_for_sort\", ascending=False)[stages_4_clf_columns].to_latex(index=False))"
   ]
  },
  {
   "cell_type": "markdown",
   "metadata": {},
   "source": [
    "### Task 3 4 stages HRV single modality"
   ]
  },
  {
   "cell_type": "code",
   "execution_count": 87,
   "metadata": {},
   "outputs": [
    {
     "name": "stdout",
     "output_type": "stream",
     "text": [
      "summary csv is loaded\n",
      "Pickle file is loaded\n"
     ]
    }
   ],
   "source": [
    "num_classes = 4\n",
    "stages_4_clf_columns= ['algorithms', \"accuracy\", \"specificity\", \"precision\", \"recall\", \"f1-score\", \"cohen-kappa\", \"Deep sleep\",\"Light sleep\",\"REM sleep\",\"Wake\"]\n",
    "stage_4_df = load_task(sub_folder, num_classes=num_classes, feature_type='HRV', stages_clf_columns=stages_4_clf_columns) # here to change\n",
    "\n",
    "readable_4stages_algs_dict= {\"stages\":\"ground truth\",\"always_0\":\"always wake\", \"always_1\":\"always light sleep\", \"always_2\":\"always deep sleep\", \"always_3\":\"always REM sleep\", \"CNN_20_HRV\": \"CNN 20\", \"CNN_50_HRV\":\"CNN 50\", \"CNN_100_HRV\":\"CNN 100\", \"LSTM_20_HRV\":\"LSTM 20\", \"LSTM_50_HRV\":\"LSTM 50\",\"LSTM_100_HRV\":\"LSTM 100\", \"SGD_hinge\":\"Linear SVM\", \"SGD_log\":\"Logistic Regression\", \"SGD_perceptron\":\"Perception\", \"Random_forest_300\": \"Random Forest\"}\n",
    "readable_4stages_df = pd.DataFrame(list(readable_4stages_algs_dict.items()), columns=[\"old_alg_name\",\"new_alg_name\"])\n",
    "bls = readable_4stages_df.new_alg_name.unique().tolist()"
   ]
  },
  {
   "cell_type": "code",
   "execution_count": 88,
   "metadata": {
    "scrolled": false
   },
   "outputs": [
    {
     "name": "stdout",
     "output_type": "stream",
     "text": [
      "           algorithms      accuracy  specificity     precision        recall  \\\n",
      "0            always_0   19.3 +- 1.3  74.1 +- 0.5    5.2 +- 0.6   25.9 +- 0.5   \n",
      "1            always_1   57.4 +- 1.2  74.1 +- 0.5   15.0 +- 0.6   25.9 +- 0.5   \n",
      "2            always_2    9.0 +- 0.9  74.7 +- 0.4    2.5 +- 0.6   23.8 +- 0.7   \n",
      "3            always_3   15.1 +- 0.8  74.3 +- 0.5    4.0 +- 0.6   25.3 +- 0.5   \n",
      "4          CNN_20_HRV   60.9 +- 1.3  81.7 +- 0.6   44.6 +- 1.2   43.7 +- 1.0   \n",
      "5          CNN_50_HRV   62.7 +- 1.3  82.6 +- 0.6   49.5 +- 1.5   46.0 +- 1.1   \n",
      "6         CNN_100_HRV   62.5 +- 1.3  83.0 +- 0.7   51.8 +- 1.6   47.5 +- 1.1   \n",
      "7         LSTM_20_HRV   62.8 +- 1.2  82.7 +- 0.6   47.9 +- 1.4   45.5 +- 0.9   \n",
      "8         LSTM_50_HRV   64.3 +- 1.2  83.1 +- 0.6   51.0 +- 1.5   46.5 +- 1.0   \n",
      "9        LSTM_100_HRV   64.5 +- 1.3  83.2 +- 0.6   51.8 +- 1.6   47.0 +- 1.1   \n",
      "10          SGD_hinge   54.9 +- 1.5  77.0 +- 0.6   30.2 +- 1.1   32.0 +- 0.8   \n",
      "11            SGD_log   54.4 +- 1.5  77.3 +- 0.6   29.5 +- 1.0   32.8 +- 0.8   \n",
      "12     SGD_perceptron   26.6 +- 1.6  76.0 +- 0.5   30.8 +- 1.2   28.7 +- 0.9   \n",
      "13  Random_forest_300   53.0 +- 1.3  77.5 +- 0.5   33.4 +- 1.2   32.7 +- 0.7   \n",
      "14             stages  100.0 +- 0.0  99.7 +- 0.6  100.0 +- 0.0  100.0 +- 0.0   \n",
      "\n",
      "        f1-score   cohen-kappa    Deep sleep     Light sleep      REM sleep  \\\n",
      "0     8.2 +- 0.7    0.0 +- 0.0  -39.2 +- 3.6   -257.0 +- 7.1   -67.4 +- 3.0   \n",
      "1    18.8 +- 0.6    0.0 +- 0.0  -39.2 +- 3.6    195.5 +- 7.4   -67.4 +- 3.0   \n",
      "2     4.1 +- 0.6    0.0 +- 0.0  413.3 +- 9.9   -257.0 +- 7.1   -67.4 +- 3.0   \n",
      "3     6.7 +- 0.6    0.0 +- 0.0  -39.2 +- 3.6   -257.0 +- 7.1   385.1 +- 8.9   \n",
      "4    39.8 +- 1.1   27.5 +- 1.9  -39.0 +- 3.6     45.2 +- 8.9   -15.8 +- 5.2   \n",
      "5    42.4 +- 1.2   32.4 +- 2.1  -37.4 +- 3.5     44.3 +- 8.3    -2.7 +- 5.6   \n",
      "6    44.0 +- 1.2   34.3 +- 2.1  -34.9 +- 3.5     29.3 +- 8.0     2.6 +- 4.8   \n",
      "7    42.0 +- 1.0   30.5 +- 2.0  -38.5 +- 3.6     40.6 +- 7.2   -18.8 +- 4.0   \n",
      "8    43.7 +- 1.2   33.2 +- 2.3  -36.3 +- 3.5     45.5 +- 6.9   -18.1 +- 3.9   \n",
      "9    44.7 +- 1.3   35.0 +- 2.3  -33.7 +- 3.5     45.2 +- 7.2   -16.1 +- 3.6   \n",
      "10   25.9 +- 0.9    4.9 +- 0.9  -39.2 +- 3.6    97.7 +- 13.1   -67.3 +- 3.0   \n",
      "11   26.5 +- 0.9    6.0 +- 0.9  -39.2 +- 3.6    83.6 +- 13.1   -67.4 +- 3.0   \n",
      "12   19.6 +- 1.0    2.9 +- 1.0  81.5 +- 14.5  -151.1 +- 14.4  119.8 +- 15.9   \n",
      "13   26.7 +- 0.8    5.8 +- 0.8  -38.9 +- 3.6    64.1 +- 12.1   -64.8 +- 3.0   \n",
      "14  100.0 +- 0.0  100.0 +- 0.0   39.2 +- 3.6    257.5 +- 7.0    67.4 +- 3.0   \n",
      "\n",
      "            Wake  \n",
      "0   363.5 +- 8.9  \n",
      "1   -88.9 +- 6.6  \n",
      "2   -88.9 +- 6.6  \n",
      "3   -88.9 +- 6.6  \n",
      "4     9.6 +- 8.1  \n",
      "5    -4.2 +- 7.5  \n",
      "6     3.0 +- 7.9  \n",
      "7    16.7 +- 6.9  \n",
      "8     8.9 +- 6.6  \n",
      "9     4.7 +- 7.0  \n",
      "10   8.9 +- 13.1  \n",
      "11  22.9 +- 13.1  \n",
      "12  -50.2 +- 7.0  \n",
      "13  39.6 +- 11.7  \n",
      "14   88.9 +- 6.6  \n"
     ]
    }
   ],
   "source": [
    "print(stage_4_df)"
   ]
  },
  {
   "cell_type": "code",
   "execution_count": 89,
   "metadata": {
    "scrolled": true
   },
   "outputs": [
    {
     "name": "stdout",
     "output_type": "stream",
     "text": [
      "         old_alg_name         new_alg_name\n",
      "0              stages         ground truth\n",
      "1            always_0          always wake\n",
      "2            always_1   always light sleep\n",
      "3            always_2    always deep sleep\n",
      "4            always_3     always REM sleep\n",
      "5          CNN_20_HRV               CNN 20\n",
      "6          CNN_50_HRV               CNN 50\n",
      "7         CNN_100_HRV              CNN 100\n",
      "8         LSTM_20_HRV              LSTM 20\n",
      "9         LSTM_50_HRV              LSTM 50\n",
      "10       LSTM_100_HRV             LSTM 100\n",
      "11          SGD_hinge           Linear SVM\n",
      "12            SGD_log  Logistic Regression\n",
      "13     SGD_perceptron           Perception\n",
      "14  Random_forest_300        Random Forest\n"
     ]
    }
   ],
   "source": [
    "print(readable_4stages_df)"
   ]
  },
  {
   "cell_type": "code",
   "execution_count": 90,
   "metadata": {},
   "outputs": [],
   "source": [
    "stage_4_df['algorithms'] = stage_4_df['algorithms'].apply(lambda x: readable_4stages_algs_dict[x])\n",
    "stage_4_df['acc_for_sort'] = stage_4_df['accuracy'].apply(lambda x: np.float(x.split(\"+-\")[0]))"
   ]
  },
  {
   "cell_type": "code",
   "execution_count": 93,
   "metadata": {
    "scrolled": false
   },
   "outputs": [
    {
     "data": {
      "text/html": [
       "<div>\n",
       "<style scoped>\n",
       "    .dataframe tbody tr th:only-of-type {\n",
       "        vertical-align: middle;\n",
       "    }\n",
       "\n",
       "    .dataframe tbody tr th {\n",
       "        vertical-align: top;\n",
       "    }\n",
       "\n",
       "    .dataframe thead th {\n",
       "        text-align: right;\n",
       "    }\n",
       "</style>\n",
       "<table border=\"1\" class=\"dataframe\">\n",
       "  <thead>\n",
       "    <tr style=\"text-align: right;\">\n",
       "      <th></th>\n",
       "      <th>algorithms</th>\n",
       "      <th>accuracy</th>\n",
       "      <th>specificity</th>\n",
       "      <th>precision</th>\n",
       "      <th>recall</th>\n",
       "      <th>f1-score</th>\n",
       "      <th>cohen-kappa</th>\n",
       "      <th>Wake</th>\n",
       "      <th>REM sleep</th>\n",
       "      <th>Deep sleep</th>\n",
       "      <th>Light sleep</th>\n",
       "      <th>acc_for_sort</th>\n",
       "    </tr>\n",
       "  </thead>\n",
       "  <tbody>\n",
       "    <tr>\n",
       "      <th>14</th>\n",
       "      <td>ground truth</td>\n",
       "      <td>100.0 +- 0.0</td>\n",
       "      <td>99.7 +- 0.6</td>\n",
       "      <td>100.0 +- 0.0</td>\n",
       "      <td>100.0 +- 0.0</td>\n",
       "      <td>100.0 +- 0.0</td>\n",
       "      <td>100.0 +- 0.0</td>\n",
       "      <td>88.9 +- 6.6</td>\n",
       "      <td>67.4 +- 3.0</td>\n",
       "      <td>39.2 +- 3.6</td>\n",
       "      <td>257.5 +- 7.0</td>\n",
       "      <td>100.0</td>\n",
       "    </tr>\n",
       "    <tr>\n",
       "      <th>9</th>\n",
       "      <td>LSTM 100</td>\n",
       "      <td>64.5 +- 1.3</td>\n",
       "      <td>83.2 +- 0.6</td>\n",
       "      <td>51.8 +- 1.6</td>\n",
       "      <td>47.0 +- 1.1</td>\n",
       "      <td>44.7 +- 1.3</td>\n",
       "      <td>35.0 +- 2.3</td>\n",
       "      <td>4.7 +- 7.0</td>\n",
       "      <td>-16.1 +- 3.6</td>\n",
       "      <td>-33.7 +- 3.5</td>\n",
       "      <td>45.2 +- 7.2</td>\n",
       "      <td>64.5</td>\n",
       "    </tr>\n",
       "    <tr>\n",
       "      <th>8</th>\n",
       "      <td>LSTM 50</td>\n",
       "      <td>64.3 +- 1.2</td>\n",
       "      <td>83.1 +- 0.6</td>\n",
       "      <td>51.0 +- 1.5</td>\n",
       "      <td>46.5 +- 1.0</td>\n",
       "      <td>43.7 +- 1.2</td>\n",
       "      <td>33.2 +- 2.3</td>\n",
       "      <td>8.9 +- 6.6</td>\n",
       "      <td>-18.1 +- 3.9</td>\n",
       "      <td>-36.3 +- 3.5</td>\n",
       "      <td>45.5 +- 6.9</td>\n",
       "      <td>64.3</td>\n",
       "    </tr>\n",
       "    <tr>\n",
       "      <th>7</th>\n",
       "      <td>LSTM 20</td>\n",
       "      <td>62.8 +- 1.2</td>\n",
       "      <td>82.7 +- 0.6</td>\n",
       "      <td>47.9 +- 1.4</td>\n",
       "      <td>45.5 +- 0.9</td>\n",
       "      <td>42.0 +- 1.0</td>\n",
       "      <td>30.5 +- 2.0</td>\n",
       "      <td>16.7 +- 6.9</td>\n",
       "      <td>-18.8 +- 4.0</td>\n",
       "      <td>-38.5 +- 3.6</td>\n",
       "      <td>40.6 +- 7.2</td>\n",
       "      <td>62.8</td>\n",
       "    </tr>\n",
       "    <tr>\n",
       "      <th>5</th>\n",
       "      <td>CNN 50</td>\n",
       "      <td>62.7 +- 1.3</td>\n",
       "      <td>82.6 +- 0.6</td>\n",
       "      <td>49.5 +- 1.5</td>\n",
       "      <td>46.0 +- 1.1</td>\n",
       "      <td>42.4 +- 1.2</td>\n",
       "      <td>32.4 +- 2.1</td>\n",
       "      <td>-4.2 +- 7.5</td>\n",
       "      <td>-2.7 +- 5.6</td>\n",
       "      <td>-37.4 +- 3.5</td>\n",
       "      <td>44.3 +- 8.3</td>\n",
       "      <td>62.7</td>\n",
       "    </tr>\n",
       "    <tr>\n",
       "      <th>6</th>\n",
       "      <td>CNN 100</td>\n",
       "      <td>62.5 +- 1.3</td>\n",
       "      <td>83.0 +- 0.7</td>\n",
       "      <td>51.8 +- 1.6</td>\n",
       "      <td>47.5 +- 1.1</td>\n",
       "      <td>44.0 +- 1.2</td>\n",
       "      <td>34.3 +- 2.1</td>\n",
       "      <td>3.0 +- 7.9</td>\n",
       "      <td>2.6 +- 4.8</td>\n",
       "      <td>-34.9 +- 3.5</td>\n",
       "      <td>29.3 +- 8.0</td>\n",
       "      <td>62.5</td>\n",
       "    </tr>\n",
       "    <tr>\n",
       "      <th>4</th>\n",
       "      <td>CNN 20</td>\n",
       "      <td>60.9 +- 1.3</td>\n",
       "      <td>81.7 +- 0.6</td>\n",
       "      <td>44.6 +- 1.2</td>\n",
       "      <td>43.7 +- 1.0</td>\n",
       "      <td>39.8 +- 1.1</td>\n",
       "      <td>27.5 +- 1.9</td>\n",
       "      <td>9.6 +- 8.1</td>\n",
       "      <td>-15.8 +- 5.2</td>\n",
       "      <td>-39.0 +- 3.6</td>\n",
       "      <td>45.2 +- 8.9</td>\n",
       "      <td>60.9</td>\n",
       "    </tr>\n",
       "    <tr>\n",
       "      <th>1</th>\n",
       "      <td>always light sleep</td>\n",
       "      <td>57.4 +- 1.2</td>\n",
       "      <td>74.1 +- 0.5</td>\n",
       "      <td>15.0 +- 0.6</td>\n",
       "      <td>25.9 +- 0.5</td>\n",
       "      <td>18.8 +- 0.6</td>\n",
       "      <td>0.0 +- 0.0</td>\n",
       "      <td>-88.9 +- 6.6</td>\n",
       "      <td>-67.4 +- 3.0</td>\n",
       "      <td>-39.2 +- 3.6</td>\n",
       "      <td>195.5 +- 7.4</td>\n",
       "      <td>57.4</td>\n",
       "    </tr>\n",
       "    <tr>\n",
       "      <th>10</th>\n",
       "      <td>Linear SVM</td>\n",
       "      <td>54.9 +- 1.5</td>\n",
       "      <td>77.0 +- 0.6</td>\n",
       "      <td>30.2 +- 1.1</td>\n",
       "      <td>32.0 +- 0.8</td>\n",
       "      <td>25.9 +- 0.9</td>\n",
       "      <td>4.9 +- 0.9</td>\n",
       "      <td>8.9 +- 13.1</td>\n",
       "      <td>-67.3 +- 3.0</td>\n",
       "      <td>-39.2 +- 3.6</td>\n",
       "      <td>97.7 +- 13.1</td>\n",
       "      <td>54.9</td>\n",
       "    </tr>\n",
       "    <tr>\n",
       "      <th>11</th>\n",
       "      <td>Logistic Regression</td>\n",
       "      <td>54.4 +- 1.5</td>\n",
       "      <td>77.3 +- 0.6</td>\n",
       "      <td>29.5 +- 1.0</td>\n",
       "      <td>32.8 +- 0.8</td>\n",
       "      <td>26.5 +- 0.9</td>\n",
       "      <td>6.0 +- 0.9</td>\n",
       "      <td>22.9 +- 13.1</td>\n",
       "      <td>-67.4 +- 3.0</td>\n",
       "      <td>-39.2 +- 3.6</td>\n",
       "      <td>83.6 +- 13.1</td>\n",
       "      <td>54.4</td>\n",
       "    </tr>\n",
       "    <tr>\n",
       "      <th>13</th>\n",
       "      <td>Random Forest</td>\n",
       "      <td>53.0 +- 1.3</td>\n",
       "      <td>77.5 +- 0.5</td>\n",
       "      <td>33.4 +- 1.2</td>\n",
       "      <td>32.7 +- 0.7</td>\n",
       "      <td>26.7 +- 0.8</td>\n",
       "      <td>5.8 +- 0.8</td>\n",
       "      <td>39.6 +- 11.7</td>\n",
       "      <td>-64.8 +- 3.0</td>\n",
       "      <td>-38.9 +- 3.6</td>\n",
       "      <td>64.1 +- 12.1</td>\n",
       "      <td>53.0</td>\n",
       "    </tr>\n",
       "    <tr>\n",
       "      <th>12</th>\n",
       "      <td>Perception</td>\n",
       "      <td>26.6 +- 1.6</td>\n",
       "      <td>76.0 +- 0.5</td>\n",
       "      <td>30.8 +- 1.2</td>\n",
       "      <td>28.7 +- 0.9</td>\n",
       "      <td>19.6 +- 1.0</td>\n",
       "      <td>2.9 +- 1.0</td>\n",
       "      <td>-50.2 +- 7.0</td>\n",
       "      <td>119.8 +- 15.9</td>\n",
       "      <td>81.5 +- 14.5</td>\n",
       "      <td>-151.1 +- 14.4</td>\n",
       "      <td>26.6</td>\n",
       "    </tr>\n",
       "    <tr>\n",
       "      <th>0</th>\n",
       "      <td>always wake</td>\n",
       "      <td>19.3 +- 1.3</td>\n",
       "      <td>74.1 +- 0.5</td>\n",
       "      <td>5.2 +- 0.6</td>\n",
       "      <td>25.9 +- 0.5</td>\n",
       "      <td>8.2 +- 0.7</td>\n",
       "      <td>0.0 +- 0.0</td>\n",
       "      <td>363.5 +- 8.9</td>\n",
       "      <td>-67.4 +- 3.0</td>\n",
       "      <td>-39.2 +- 3.6</td>\n",
       "      <td>-257.0 +- 7.1</td>\n",
       "      <td>19.3</td>\n",
       "    </tr>\n",
       "    <tr>\n",
       "      <th>3</th>\n",
       "      <td>always REM sleep</td>\n",
       "      <td>15.1 +- 0.8</td>\n",
       "      <td>74.3 +- 0.5</td>\n",
       "      <td>4.0 +- 0.6</td>\n",
       "      <td>25.3 +- 0.5</td>\n",
       "      <td>6.7 +- 0.6</td>\n",
       "      <td>0.0 +- 0.0</td>\n",
       "      <td>-88.9 +- 6.6</td>\n",
       "      <td>385.1 +- 8.9</td>\n",
       "      <td>-39.2 +- 3.6</td>\n",
       "      <td>-257.0 +- 7.1</td>\n",
       "      <td>15.1</td>\n",
       "    </tr>\n",
       "    <tr>\n",
       "      <th>2</th>\n",
       "      <td>always deep sleep</td>\n",
       "      <td>9.0 +- 0.9</td>\n",
       "      <td>74.7 +- 0.4</td>\n",
       "      <td>2.5 +- 0.6</td>\n",
       "      <td>23.8 +- 0.7</td>\n",
       "      <td>4.1 +- 0.6</td>\n",
       "      <td>0.0 +- 0.0</td>\n",
       "      <td>-88.9 +- 6.6</td>\n",
       "      <td>-67.4 +- 3.0</td>\n",
       "      <td>413.3 +- 9.9</td>\n",
       "      <td>-257.0 +- 7.1</td>\n",
       "      <td>9.0</td>\n",
       "    </tr>\n",
       "  </tbody>\n",
       "</table>\n",
       "</div>"
      ],
      "text/plain": [
       "             algorithms      accuracy  specificity     precision  \\\n",
       "14         ground truth  100.0 +- 0.0  99.7 +- 0.6  100.0 +- 0.0   \n",
       "9              LSTM 100   64.5 +- 1.3  83.2 +- 0.6   51.8 +- 1.6   \n",
       "8               LSTM 50   64.3 +- 1.2  83.1 +- 0.6   51.0 +- 1.5   \n",
       "7               LSTM 20   62.8 +- 1.2  82.7 +- 0.6   47.9 +- 1.4   \n",
       "5                CNN 50   62.7 +- 1.3  82.6 +- 0.6   49.5 +- 1.5   \n",
       "6               CNN 100   62.5 +- 1.3  83.0 +- 0.7   51.8 +- 1.6   \n",
       "4                CNN 20   60.9 +- 1.3  81.7 +- 0.6   44.6 +- 1.2   \n",
       "1    always light sleep   57.4 +- 1.2  74.1 +- 0.5   15.0 +- 0.6   \n",
       "10           Linear SVM   54.9 +- 1.5  77.0 +- 0.6   30.2 +- 1.1   \n",
       "11  Logistic Regression   54.4 +- 1.5  77.3 +- 0.6   29.5 +- 1.0   \n",
       "13        Random Forest   53.0 +- 1.3  77.5 +- 0.5   33.4 +- 1.2   \n",
       "12           Perception   26.6 +- 1.6  76.0 +- 0.5   30.8 +- 1.2   \n",
       "0           always wake   19.3 +- 1.3  74.1 +- 0.5    5.2 +- 0.6   \n",
       "3      always REM sleep   15.1 +- 0.8  74.3 +- 0.5    4.0 +- 0.6   \n",
       "2     always deep sleep    9.0 +- 0.9  74.7 +- 0.4    2.5 +- 0.6   \n",
       "\n",
       "          recall      f1-score   cohen-kappa          Wake      REM sleep  \\\n",
       "14  100.0 +- 0.0  100.0 +- 0.0  100.0 +- 0.0   88.9 +- 6.6    67.4 +- 3.0   \n",
       "9    47.0 +- 1.1   44.7 +- 1.3   35.0 +- 2.3    4.7 +- 7.0   -16.1 +- 3.6   \n",
       "8    46.5 +- 1.0   43.7 +- 1.2   33.2 +- 2.3    8.9 +- 6.6   -18.1 +- 3.9   \n",
       "7    45.5 +- 0.9   42.0 +- 1.0   30.5 +- 2.0   16.7 +- 6.9   -18.8 +- 4.0   \n",
       "5    46.0 +- 1.1   42.4 +- 1.2   32.4 +- 2.1   -4.2 +- 7.5    -2.7 +- 5.6   \n",
       "6    47.5 +- 1.1   44.0 +- 1.2   34.3 +- 2.1    3.0 +- 7.9     2.6 +- 4.8   \n",
       "4    43.7 +- 1.0   39.8 +- 1.1   27.5 +- 1.9    9.6 +- 8.1   -15.8 +- 5.2   \n",
       "1    25.9 +- 0.5   18.8 +- 0.6    0.0 +- 0.0  -88.9 +- 6.6   -67.4 +- 3.0   \n",
       "10   32.0 +- 0.8   25.9 +- 0.9    4.9 +- 0.9   8.9 +- 13.1   -67.3 +- 3.0   \n",
       "11   32.8 +- 0.8   26.5 +- 0.9    6.0 +- 0.9  22.9 +- 13.1   -67.4 +- 3.0   \n",
       "13   32.7 +- 0.7   26.7 +- 0.8    5.8 +- 0.8  39.6 +- 11.7   -64.8 +- 3.0   \n",
       "12   28.7 +- 0.9   19.6 +- 1.0    2.9 +- 1.0  -50.2 +- 7.0  119.8 +- 15.9   \n",
       "0    25.9 +- 0.5    8.2 +- 0.7    0.0 +- 0.0  363.5 +- 8.9   -67.4 +- 3.0   \n",
       "3    25.3 +- 0.5    6.7 +- 0.6    0.0 +- 0.0  -88.9 +- 6.6   385.1 +- 8.9   \n",
       "2    23.8 +- 0.7    4.1 +- 0.6    0.0 +- 0.0  -88.9 +- 6.6   -67.4 +- 3.0   \n",
       "\n",
       "      Deep sleep     Light sleep  acc_for_sort  \n",
       "14   39.2 +- 3.6    257.5 +- 7.0         100.0  \n",
       "9   -33.7 +- 3.5     45.2 +- 7.2          64.5  \n",
       "8   -36.3 +- 3.5     45.5 +- 6.9          64.3  \n",
       "7   -38.5 +- 3.6     40.6 +- 7.2          62.8  \n",
       "5   -37.4 +- 3.5     44.3 +- 8.3          62.7  \n",
       "6   -34.9 +- 3.5     29.3 +- 8.0          62.5  \n",
       "4   -39.0 +- 3.6     45.2 +- 8.9          60.9  \n",
       "1   -39.2 +- 3.6    195.5 +- 7.4          57.4  \n",
       "10  -39.2 +- 3.6    97.7 +- 13.1          54.9  \n",
       "11  -39.2 +- 3.6    83.6 +- 13.1          54.4  \n",
       "13  -38.9 +- 3.6    64.1 +- 12.1          53.0  \n",
       "12  81.5 +- 14.5  -151.1 +- 14.4          26.6  \n",
       "0   -39.2 +- 3.6   -257.0 +- 7.1          19.3  \n",
       "3   -39.2 +- 3.6   -257.0 +- 7.1          15.1  \n",
       "2   413.3 +- 9.9   -257.0 +- 7.1           9.0  "
      ]
     },
     "execution_count": 93,
     "metadata": {},
     "output_type": "execute_result"
    }
   ],
   "source": [
    "stage_4_df[['algorithms', \"accuracy\", \"specificity\", \"precision\", \"recall\", \"f1-score\", \"cohen-kappa\",\"Wake\",\"REM sleep\", \"Deep sleep\",\"Light sleep\",\"acc_for_sort\"]].sort_values(by=\"acc_for_sort\", ascending=False)"
   ]
  },
  {
   "cell_type": "code",
   "execution_count": 119,
   "metadata": {
    "scrolled": false
   },
   "outputs": [
    {
     "name": "stdout",
     "output_type": "stream",
     "text": [
      "\\begin{tabular}{lllllllllll}\n",
      "\\toprule\n",
      "          algorithms &      accuracy &   specificity &     precision &        recall &      f1-score &   cohen-kappa &     Deep sleep &     Light sleep &      REM sleep &           Wake \\\\\n",
      "\\midrule\n",
      "        ground truth &  100.0 +- 0.0 &  100.0 +- 0.0 &  100.0 +- 0.0 &  100.0 +- 0.0 &  100.0 +- 0.0 &  100.0 +- 0.0 &    39.3 +- 3.6 &    258.2 +- 7.0 &    67.6 +- 3.0 &   187.4 +- 8.6 \\\\\n",
      "            LSTM 100 &   67.4 +- 1.2 &   86.2 +- 0.4 &   56.2 +- 1.6 &   51.3 +- 1.1 &   49.5 +- 1.2 &   44.6 +- 2.2 &   -33.7 +- 3.5 &     60.4 +- 8.1 &   -13.5 +- 3.8 &   -13.1 +- 8.4 \\\\\n",
      "             LSTM 50 &   66.2 +- 1.1 &   85.6 +- 0.4 &   54.4 +- 1.5 &   49.5 +- 1.1 &   47.4 +- 1.1 &   41.2 +- 2.1 &   -36.4 +- 3.5 &     65.9 +- 7.9 &   -14.6 +- 4.1 &   -15.0 +- 8.1 \\\\\n",
      "             CNN 100 &   64.3 +- 1.1 &   85.3 +- 0.4 &   54.4 +- 1.6 &   50.2 +- 1.1 &   47.1 +- 1.1 &   40.9 +- 2.1 &   -34.8 +- 3.5 &     49.6 +- 8.9 &     8.2 +- 5.1 &   -23.0 +- 9.5 \\\\\n",
      "             LSTM 20 &   63.9 +- 1.0 &   84.7 +- 0.4 &   50.3 +- 1.3 &   47.1 +- 0.9 &   44.7 +- 1.0 &   36.3 +- 1.9 &   -38.6 +- 3.6 &     65.6 +- 8.3 &   -13.9 +- 4.3 &   -13.2 +- 8.4 \\\\\n",
      "              CNN 50 &   63.4 +- 1.2 &   84.6 +- 0.4 &   51.6 +- 1.4 &   48.1 +- 1.0 &   44.9 +- 1.1 &   38.4 +- 2.1 &   -37.5 +- 3.5 &     70.8 +- 9.5 &     3.1 +- 6.0 &   -36.3 +- 9.4 \\\\\n",
      "              CNN 20 &   61.3 +- 1.1 &   83.5 +- 0.4 &   46.8 +- 1.1 &   44.9 +- 0.9 &   41.8 +- 1.0 &   33.3 +- 1.8 &   -39.1 +- 3.6 &    75.7 +- 10.4 &   -10.9 +- 5.5 &  -25.7 +- 10.2 \\\\\n",
      "          Linear SVM &   53.4 +- 1.2 &   78.6 +- 0.5 &   31.8 +- 0.8 &   32.6 +- 0.6 &   27.1 +- 0.8 &   11.5 +- 1.3 &   -39.3 +- 3.6 &   150.1 +- 15.3 &   -67.6 +- 3.0 &  -43.2 +- 15.7 \\\\\n",
      " Logistic Regression &   53.4 +- 1.2 &   78.9 +- 0.5 &   31.2 +- 0.8 &   33.0 +- 0.6 &   27.7 +- 0.7 &   12.3 +- 1.3 &   -39.3 +- 3.6 &   133.2 +- 15.2 &   -67.6 +- 3.0 &  -26.3 +- 15.6 \\\\\n",
      "       Random Forest &   53.3 +- 1.0 &   79.2 +- 0.4 &   35.5 +- 1.1 &   33.2 +- 0.5 &   28.6 +- 0.6 &   12.6 +- 1.1 &   -39.0 +- 3.6 &   108.0 +- 13.9 &   -64.7 +- 3.0 &   -4.3 +- 14.0 \\\\\n",
      "  always light sleep &   47.0 +- 1.1 &   74.3 +- 0.3 &   12.1 +- 0.3 &   25.7 +- 0.3 &   16.2 +- 0.4 &    0.0 +- 0.0 &   -39.3 +- 3.6 &    294.3 +- 8.2 &   -67.6 +- 3.0 &  -187.4 +- 8.6 \\\\\n",
      "         always wake &   33.5 +- 1.4 &   74.3 +- 0.3 &    8.7 +- 0.4 &   25.7 +- 0.3 &   12.6 +- 0.5 &    0.0 +- 0.0 &   -39.3 +- 3.6 &   -258.2 +- 7.0 &   -67.6 +- 3.0 &   365.1 +- 8.7 \\\\\n",
      "          Perception &   24.0 +- 1.3 &   76.6 +- 0.2 &   31.2 +- 1.0 &   27.3 +- 0.7 &   17.9 +- 0.8 &   -0.7 +- 1.1 &  105.1 +- 16.6 &  -141.8 +- 15.7 &  172.9 +- 18.4 &  -136.2 +- 9.0 \\\\\n",
      "    always REM sleep &   12.3 +- 0.5 &   74.5 +- 0.2 &    3.1 +- 0.1 &   25.1 +- 0.3 &    5.4 +- 0.2 &    0.0 +- 0.0 &   -39.3 +- 3.6 &   -258.2 +- 7.0 &   484.8 +- 8.5 &  -187.4 +- 8.6 \\\\\n",
      "   always deep sleep &    7.2 +- 0.7 &   74.9 +- 0.1 &    1.8 +- 0.2 &   23.6 +- 0.6 &    3.2 +- 0.3 &    0.0 +- 0.0 &   513.2 +- 9.4 &   -258.2 +- 7.0 &   -67.6 +- 3.0 &  -187.4 +- 8.6 \\\\\n",
      "\\bottomrule\n",
      "\\end{tabular}\n",
      "\n"
     ]
    }
   ],
   "source": [
    "print(stage_4_df[stage_4_df['algorithms'].isin(bls)].sort_values(by=\"acc_for_sort\", ascending=False)[stages_4_clf_columns].to_latex(index=False))"
   ]
  },
  {
   "cell_type": "markdown",
   "metadata": {},
   "source": [
    "### Task 3 4 stages Single modality ENMO"
   ]
  },
  {
   "cell_type": "code",
   "execution_count": 94,
   "metadata": {},
   "outputs": [
    {
     "name": "stdout",
     "output_type": "stream",
     "text": [
      "summary csv is loaded\n",
      "Pickle file is loaded\n"
     ]
    }
   ],
   "source": [
    "num_classes = 4\n",
    "stages_4_clf_columns= ['algorithms', \"accuracy\", \"specificity\", \"precision\", \"recall\", \"f1-score\",\"cohen-kappa\", \"Deep sleep\",\"Light sleep\",\"REM sleep\",\"Wake\"]\n",
    "stage_4_df = load_task(sub_folder, num_classes=num_classes, feature_type='ENMO', stages_clf_columns=stages_4_clf_columns)\n",
    "readable_4stages_algs_dict= {\"stages\":\"ground truth\",\"always_0\":\"always wake\", \"always_1\":\"always light sleep\", \"always_2\":\"always deep sleep\", \"always_3\":\"always REM sleep\", \"CNN_20_ENMO\": \"CNN 20\", \"CNN_50_ENMO\":\"CNN 50\", \"CNN_100_ENMO\":\"CNN 100\", \"LSTM_20_ENMO\":\"LSTM 20\", \"LSTM_50_ENMO\":\"LSTM 50\",\"LSTM_100_ENMO\":\"LSTM 100\", \"SGD_hinge\":\"Linear SVM\", \"SGD_log\":\"Logistic Regression\", \"SGD_perceptron\":\"Perception\", \"Random_forest_300\": \"Random Forest\"}\n",
    "readable_4stages_df = pd.DataFrame(list(readable_4stages_algs_dict.items()), columns=[\"old_alg_name\",\"new_alg_name\"])\n",
    "bls = readable_4stages_df.new_alg_name.unique().tolist()"
   ]
  },
  {
   "cell_type": "code",
   "execution_count": 95,
   "metadata": {},
   "outputs": [
    {
     "name": "stdout",
     "output_type": "stream",
     "text": [
      "           algorithms      accuracy  specificity     precision        recall  \\\n",
      "0            always_0   19.3 +- 1.3  74.1 +- 0.5    5.2 +- 0.6   25.9 +- 0.5   \n",
      "1            always_1   57.4 +- 1.2  74.1 +- 0.5   15.0 +- 0.6   25.9 +- 0.5   \n",
      "2            always_2    9.0 +- 0.9  74.7 +- 0.4    2.5 +- 0.6   23.8 +- 0.7   \n",
      "3            always_3   15.1 +- 0.8  74.3 +- 0.5    4.0 +- 0.6   25.3 +- 0.5   \n",
      "4         CNN_20_ENMO   59.8 +- 1.1  77.2 +- 0.6   30.2 +- 1.0   33.5 +- 0.8   \n",
      "5         CNN_50_ENMO   59.3 +- 1.1  77.5 +- 0.6   29.6 +- 1.0   33.9 +- 0.8   \n",
      "6        CNN_100_ENMO   59.6 +- 1.1  77.4 +- 0.6   30.4 +- 1.0   33.5 +- 0.8   \n",
      "7        LSTM_20_ENMO   60.1 +- 1.1  77.3 +- 0.6   30.1 +- 1.0   33.5 +- 0.8   \n",
      "8        LSTM_50_ENMO   60.0 +- 1.1  77.3 +- 0.6   29.9 +- 1.0   33.4 +- 0.8   \n",
      "9       LSTM_100_ENMO   59.9 +- 1.1  77.2 +- 0.6   29.2 +- 1.0   33.1 +- 0.8   \n",
      "10          SGD_hinge   60.0 +- 1.1  77.3 +- 0.6   30.3 +- 1.0   33.8 +- 0.8   \n",
      "11            SGD_log   59.9 +- 1.1  77.5 +- 0.6   30.2 +- 1.0   34.0 +- 0.8   \n",
      "12     SGD_perceptron   38.2 +- 1.0  76.1 +- 0.5   31.9 +- 0.8   26.9 +- 0.7   \n",
      "13  Random_forest_300   57.7 +- 1.1  77.8 +- 0.6   34.7 +- 1.0   33.8 +- 0.7   \n",
      "14             stages  100.0 +- 0.0  99.7 +- 0.6  100.0 +- 0.0  100.0 +- 0.0   \n",
      "\n",
      "        f1-score   cohen-kappa    Deep sleep    Light sleep     REM sleep  \\\n",
      "0     8.2 +- 0.7    0.0 +- 0.0  -39.2 +- 3.6  -257.0 +- 7.1  -67.4 +- 3.0   \n",
      "1    18.8 +- 0.6    0.0 +- 0.0  -39.2 +- 3.6   195.5 +- 7.4  -67.4 +- 3.0   \n",
      "2     4.1 +- 0.6    0.0 +- 0.0  413.3 +- 9.9  -257.0 +- 7.1  -67.4 +- 3.0   \n",
      "3     6.7 +- 0.6    0.0 +- 0.0  -39.2 +- 3.6  -257.0 +- 7.1  385.1 +- 8.9   \n",
      "4    29.4 +- 0.9   15.9 +- 1.4  -39.2 +- 3.6   124.6 +- 7.6  -67.3 +- 3.0   \n",
      "5    29.4 +- 0.8   17.0 +- 1.4  -39.2 +- 3.6   109.9 +- 8.1  -67.3 +- 3.0   \n",
      "6    29.2 +- 0.9   16.2 +- 1.4  -39.2 +- 3.6   118.2 +- 8.1  -67.2 +- 3.0   \n",
      "7    29.5 +- 0.9   15.9 +- 1.3  -39.2 +- 3.6   128.1 +- 7.3  -67.3 +- 3.0   \n",
      "8    29.3 +- 0.9   16.2 +- 1.4  -39.2 +- 3.6   124.6 +- 7.5  -67.2 +- 3.0   \n",
      "9    28.9 +- 0.9   15.7 +- 1.4  -39.2 +- 3.6   124.1 +- 7.9  -67.4 +- 3.0   \n",
      "10   29.7 +- 0.9   16.7 +- 1.4  -39.2 +- 3.6   124.7 +- 7.7  -67.3 +- 3.0   \n",
      "11   29.8 +- 0.9   17.0 +- 1.4  -39.1 +- 3.6   119.1 +- 7.8  -67.4 +- 3.0   \n",
      "12   26.5 +- 0.7    3.4 +- 1.0   45.7 +- 5.1   -42.5 +- 8.1   36.2 +- 4.1   \n",
      "13   30.1 +- 0.7   17.2 +- 1.3  -37.1 +- 3.5    92.5 +- 7.3  -59.5 +- 2.9   \n",
      "14  100.0 +- 0.0  100.0 +- 0.0   39.2 +- 3.6   257.5 +- 7.0   67.4 +- 3.0   \n",
      "\n",
      "            Wake  \n",
      "0   363.5 +- 8.9  \n",
      "1   -88.9 +- 6.6  \n",
      "2   -88.9 +- 6.6  \n",
      "3   -88.9 +- 6.6  \n",
      "4   -18.2 +- 6.0  \n",
      "5    -3.5 +- 6.5  \n",
      "6   -11.8 +- 6.4  \n",
      "7   -21.6 +- 5.5  \n",
      "8   -18.2 +- 5.7  \n",
      "9   -17.6 +- 6.2  \n",
      "10  -18.2 +- 6.2  \n",
      "11  -12.7 +- 6.3  \n",
      "12  -39.4 +- 5.6  \n",
      "13    4.1 +- 5.9  \n",
      "14   88.9 +- 6.6  \n"
     ]
    }
   ],
   "source": [
    "print(stage_4_df)"
   ]
  },
  {
   "cell_type": "code",
   "execution_count": 96,
   "metadata": {},
   "outputs": [
    {
     "name": "stdout",
     "output_type": "stream",
     "text": [
      "         old_alg_name         new_alg_name\n",
      "0              stages         ground truth\n",
      "1            always_0          always wake\n",
      "2            always_1   always light sleep\n",
      "3            always_2    always deep sleep\n",
      "4            always_3     always REM sleep\n",
      "5         CNN_20_ENMO               CNN 20\n",
      "6         CNN_50_ENMO               CNN 50\n",
      "7        CNN_100_ENMO              CNN 100\n",
      "8        LSTM_20_ENMO              LSTM 20\n",
      "9        LSTM_50_ENMO              LSTM 50\n",
      "10      LSTM_100_ENMO             LSTM 100\n",
      "11          SGD_hinge           Linear SVM\n",
      "12            SGD_log  Logistic Regression\n",
      "13     SGD_perceptron           Perception\n",
      "14  Random_forest_300        Random Forest\n"
     ]
    }
   ],
   "source": [
    "print(readable_4stages_df)"
   ]
  },
  {
   "cell_type": "code",
   "execution_count": 97,
   "metadata": {},
   "outputs": [],
   "source": [
    "stage_4_df['algorithms'] = stage_4_df['algorithms'].apply(lambda x: readable_4stages_algs_dict[x])\n",
    "stage_4_df['acc_for_sort'] = stage_4_df['accuracy'].apply(lambda x: np.float(x.split(\"+-\")[0]))"
   ]
  },
  {
   "cell_type": "code",
   "execution_count": 98,
   "metadata": {},
   "outputs": [
    {
     "data": {
      "text/html": [
       "<div>\n",
       "<style scoped>\n",
       "    .dataframe tbody tr th:only-of-type {\n",
       "        vertical-align: middle;\n",
       "    }\n",
       "\n",
       "    .dataframe tbody tr th {\n",
       "        vertical-align: top;\n",
       "    }\n",
       "\n",
       "    .dataframe thead th {\n",
       "        text-align: right;\n",
       "    }\n",
       "</style>\n",
       "<table border=\"1\" class=\"dataframe\">\n",
       "  <thead>\n",
       "    <tr style=\"text-align: right;\">\n",
       "      <th></th>\n",
       "      <th>algorithms</th>\n",
       "      <th>accuracy</th>\n",
       "      <th>specificity</th>\n",
       "      <th>precision</th>\n",
       "      <th>recall</th>\n",
       "      <th>f1-score</th>\n",
       "      <th>cohen-kappa</th>\n",
       "      <th>Wake</th>\n",
       "      <th>REM sleep</th>\n",
       "      <th>Deep sleep</th>\n",
       "      <th>Light sleep</th>\n",
       "      <th>acc_for_sort</th>\n",
       "    </tr>\n",
       "  </thead>\n",
       "  <tbody>\n",
       "    <tr>\n",
       "      <th>14</th>\n",
       "      <td>ground truth</td>\n",
       "      <td>100.0 +- 0.0</td>\n",
       "      <td>99.7 +- 0.6</td>\n",
       "      <td>100.0 +- 0.0</td>\n",
       "      <td>100.0 +- 0.0</td>\n",
       "      <td>100.0 +- 0.0</td>\n",
       "      <td>100.0 +- 0.0</td>\n",
       "      <td>88.9 +- 6.6</td>\n",
       "      <td>67.4 +- 3.0</td>\n",
       "      <td>39.2 +- 3.6</td>\n",
       "      <td>257.5 +- 7.0</td>\n",
       "      <td>100.0</td>\n",
       "    </tr>\n",
       "    <tr>\n",
       "      <th>7</th>\n",
       "      <td>LSTM 20</td>\n",
       "      <td>60.1 +- 1.1</td>\n",
       "      <td>77.3 +- 0.6</td>\n",
       "      <td>30.1 +- 1.0</td>\n",
       "      <td>33.5 +- 0.8</td>\n",
       "      <td>29.5 +- 0.9</td>\n",
       "      <td>15.9 +- 1.3</td>\n",
       "      <td>-21.6 +- 5.5</td>\n",
       "      <td>-67.3 +- 3.0</td>\n",
       "      <td>-39.2 +- 3.6</td>\n",
       "      <td>128.1 +- 7.3</td>\n",
       "      <td>60.1</td>\n",
       "    </tr>\n",
       "    <tr>\n",
       "      <th>8</th>\n",
       "      <td>LSTM 50</td>\n",
       "      <td>60.0 +- 1.1</td>\n",
       "      <td>77.3 +- 0.6</td>\n",
       "      <td>29.9 +- 1.0</td>\n",
       "      <td>33.4 +- 0.8</td>\n",
       "      <td>29.3 +- 0.9</td>\n",
       "      <td>16.2 +- 1.4</td>\n",
       "      <td>-18.2 +- 5.7</td>\n",
       "      <td>-67.2 +- 3.0</td>\n",
       "      <td>-39.2 +- 3.6</td>\n",
       "      <td>124.6 +- 7.5</td>\n",
       "      <td>60.0</td>\n",
       "    </tr>\n",
       "    <tr>\n",
       "      <th>10</th>\n",
       "      <td>Linear SVM</td>\n",
       "      <td>60.0 +- 1.1</td>\n",
       "      <td>77.3 +- 0.6</td>\n",
       "      <td>30.3 +- 1.0</td>\n",
       "      <td>33.8 +- 0.8</td>\n",
       "      <td>29.7 +- 0.9</td>\n",
       "      <td>16.7 +- 1.4</td>\n",
       "      <td>-18.2 +- 6.2</td>\n",
       "      <td>-67.3 +- 3.0</td>\n",
       "      <td>-39.2 +- 3.6</td>\n",
       "      <td>124.7 +- 7.7</td>\n",
       "      <td>60.0</td>\n",
       "    </tr>\n",
       "    <tr>\n",
       "      <th>9</th>\n",
       "      <td>LSTM 100</td>\n",
       "      <td>59.9 +- 1.1</td>\n",
       "      <td>77.2 +- 0.6</td>\n",
       "      <td>29.2 +- 1.0</td>\n",
       "      <td>33.1 +- 0.8</td>\n",
       "      <td>28.9 +- 0.9</td>\n",
       "      <td>15.7 +- 1.4</td>\n",
       "      <td>-17.6 +- 6.2</td>\n",
       "      <td>-67.4 +- 3.0</td>\n",
       "      <td>-39.2 +- 3.6</td>\n",
       "      <td>124.1 +- 7.9</td>\n",
       "      <td>59.9</td>\n",
       "    </tr>\n",
       "    <tr>\n",
       "      <th>11</th>\n",
       "      <td>Logistic Regression</td>\n",
       "      <td>59.9 +- 1.1</td>\n",
       "      <td>77.5 +- 0.6</td>\n",
       "      <td>30.2 +- 1.0</td>\n",
       "      <td>34.0 +- 0.8</td>\n",
       "      <td>29.8 +- 0.9</td>\n",
       "      <td>17.0 +- 1.4</td>\n",
       "      <td>-12.7 +- 6.3</td>\n",
       "      <td>-67.4 +- 3.0</td>\n",
       "      <td>-39.1 +- 3.6</td>\n",
       "      <td>119.1 +- 7.8</td>\n",
       "      <td>59.9</td>\n",
       "    </tr>\n",
       "    <tr>\n",
       "      <th>4</th>\n",
       "      <td>CNN 20</td>\n",
       "      <td>59.8 +- 1.1</td>\n",
       "      <td>77.2 +- 0.6</td>\n",
       "      <td>30.2 +- 1.0</td>\n",
       "      <td>33.5 +- 0.8</td>\n",
       "      <td>29.4 +- 0.9</td>\n",
       "      <td>15.9 +- 1.4</td>\n",
       "      <td>-18.2 +- 6.0</td>\n",
       "      <td>-67.3 +- 3.0</td>\n",
       "      <td>-39.2 +- 3.6</td>\n",
       "      <td>124.6 +- 7.6</td>\n",
       "      <td>59.8</td>\n",
       "    </tr>\n",
       "    <tr>\n",
       "      <th>6</th>\n",
       "      <td>CNN 100</td>\n",
       "      <td>59.6 +- 1.1</td>\n",
       "      <td>77.4 +- 0.6</td>\n",
       "      <td>30.4 +- 1.0</td>\n",
       "      <td>33.5 +- 0.8</td>\n",
       "      <td>29.2 +- 0.9</td>\n",
       "      <td>16.2 +- 1.4</td>\n",
       "      <td>-11.8 +- 6.4</td>\n",
       "      <td>-67.2 +- 3.0</td>\n",
       "      <td>-39.2 +- 3.6</td>\n",
       "      <td>118.2 +- 8.1</td>\n",
       "      <td>59.6</td>\n",
       "    </tr>\n",
       "    <tr>\n",
       "      <th>5</th>\n",
       "      <td>CNN 50</td>\n",
       "      <td>59.3 +- 1.1</td>\n",
       "      <td>77.5 +- 0.6</td>\n",
       "      <td>29.6 +- 1.0</td>\n",
       "      <td>33.9 +- 0.8</td>\n",
       "      <td>29.4 +- 0.8</td>\n",
       "      <td>17.0 +- 1.4</td>\n",
       "      <td>-3.5 +- 6.5</td>\n",
       "      <td>-67.3 +- 3.0</td>\n",
       "      <td>-39.2 +- 3.6</td>\n",
       "      <td>109.9 +- 8.1</td>\n",
       "      <td>59.3</td>\n",
       "    </tr>\n",
       "    <tr>\n",
       "      <th>13</th>\n",
       "      <td>Random Forest</td>\n",
       "      <td>57.7 +- 1.1</td>\n",
       "      <td>77.8 +- 0.6</td>\n",
       "      <td>34.7 +- 1.0</td>\n",
       "      <td>33.8 +- 0.7</td>\n",
       "      <td>30.1 +- 0.7</td>\n",
       "      <td>17.2 +- 1.3</td>\n",
       "      <td>4.1 +- 5.9</td>\n",
       "      <td>-59.5 +- 2.9</td>\n",
       "      <td>-37.1 +- 3.5</td>\n",
       "      <td>92.5 +- 7.3</td>\n",
       "      <td>57.7</td>\n",
       "    </tr>\n",
       "    <tr>\n",
       "      <th>1</th>\n",
       "      <td>always light sleep</td>\n",
       "      <td>57.4 +- 1.2</td>\n",
       "      <td>74.1 +- 0.5</td>\n",
       "      <td>15.0 +- 0.6</td>\n",
       "      <td>25.9 +- 0.5</td>\n",
       "      <td>18.8 +- 0.6</td>\n",
       "      <td>0.0 +- 0.0</td>\n",
       "      <td>-88.9 +- 6.6</td>\n",
       "      <td>-67.4 +- 3.0</td>\n",
       "      <td>-39.2 +- 3.6</td>\n",
       "      <td>195.5 +- 7.4</td>\n",
       "      <td>57.4</td>\n",
       "    </tr>\n",
       "    <tr>\n",
       "      <th>12</th>\n",
       "      <td>Perception</td>\n",
       "      <td>38.2 +- 1.0</td>\n",
       "      <td>76.1 +- 0.5</td>\n",
       "      <td>31.9 +- 0.8</td>\n",
       "      <td>26.9 +- 0.7</td>\n",
       "      <td>26.5 +- 0.7</td>\n",
       "      <td>3.4 +- 1.0</td>\n",
       "      <td>-39.4 +- 5.6</td>\n",
       "      <td>36.2 +- 4.1</td>\n",
       "      <td>45.7 +- 5.1</td>\n",
       "      <td>-42.5 +- 8.1</td>\n",
       "      <td>38.2</td>\n",
       "    </tr>\n",
       "    <tr>\n",
       "      <th>0</th>\n",
       "      <td>always wake</td>\n",
       "      <td>19.3 +- 1.3</td>\n",
       "      <td>74.1 +- 0.5</td>\n",
       "      <td>5.2 +- 0.6</td>\n",
       "      <td>25.9 +- 0.5</td>\n",
       "      <td>8.2 +- 0.7</td>\n",
       "      <td>0.0 +- 0.0</td>\n",
       "      <td>363.5 +- 8.9</td>\n",
       "      <td>-67.4 +- 3.0</td>\n",
       "      <td>-39.2 +- 3.6</td>\n",
       "      <td>-257.0 +- 7.1</td>\n",
       "      <td>19.3</td>\n",
       "    </tr>\n",
       "    <tr>\n",
       "      <th>3</th>\n",
       "      <td>always REM sleep</td>\n",
       "      <td>15.1 +- 0.8</td>\n",
       "      <td>74.3 +- 0.5</td>\n",
       "      <td>4.0 +- 0.6</td>\n",
       "      <td>25.3 +- 0.5</td>\n",
       "      <td>6.7 +- 0.6</td>\n",
       "      <td>0.0 +- 0.0</td>\n",
       "      <td>-88.9 +- 6.6</td>\n",
       "      <td>385.1 +- 8.9</td>\n",
       "      <td>-39.2 +- 3.6</td>\n",
       "      <td>-257.0 +- 7.1</td>\n",
       "      <td>15.1</td>\n",
       "    </tr>\n",
       "    <tr>\n",
       "      <th>2</th>\n",
       "      <td>always deep sleep</td>\n",
       "      <td>9.0 +- 0.9</td>\n",
       "      <td>74.7 +- 0.4</td>\n",
       "      <td>2.5 +- 0.6</td>\n",
       "      <td>23.8 +- 0.7</td>\n",
       "      <td>4.1 +- 0.6</td>\n",
       "      <td>0.0 +- 0.0</td>\n",
       "      <td>-88.9 +- 6.6</td>\n",
       "      <td>-67.4 +- 3.0</td>\n",
       "      <td>413.3 +- 9.9</td>\n",
       "      <td>-257.0 +- 7.1</td>\n",
       "      <td>9.0</td>\n",
       "    </tr>\n",
       "  </tbody>\n",
       "</table>\n",
       "</div>"
      ],
      "text/plain": [
       "             algorithms      accuracy  specificity     precision  \\\n",
       "14         ground truth  100.0 +- 0.0  99.7 +- 0.6  100.0 +- 0.0   \n",
       "7               LSTM 20   60.1 +- 1.1  77.3 +- 0.6   30.1 +- 1.0   \n",
       "8               LSTM 50   60.0 +- 1.1  77.3 +- 0.6   29.9 +- 1.0   \n",
       "10           Linear SVM   60.0 +- 1.1  77.3 +- 0.6   30.3 +- 1.0   \n",
       "9              LSTM 100   59.9 +- 1.1  77.2 +- 0.6   29.2 +- 1.0   \n",
       "11  Logistic Regression   59.9 +- 1.1  77.5 +- 0.6   30.2 +- 1.0   \n",
       "4                CNN 20   59.8 +- 1.1  77.2 +- 0.6   30.2 +- 1.0   \n",
       "6               CNN 100   59.6 +- 1.1  77.4 +- 0.6   30.4 +- 1.0   \n",
       "5                CNN 50   59.3 +- 1.1  77.5 +- 0.6   29.6 +- 1.0   \n",
       "13        Random Forest   57.7 +- 1.1  77.8 +- 0.6   34.7 +- 1.0   \n",
       "1    always light sleep   57.4 +- 1.2  74.1 +- 0.5   15.0 +- 0.6   \n",
       "12           Perception   38.2 +- 1.0  76.1 +- 0.5   31.9 +- 0.8   \n",
       "0           always wake   19.3 +- 1.3  74.1 +- 0.5    5.2 +- 0.6   \n",
       "3      always REM sleep   15.1 +- 0.8  74.3 +- 0.5    4.0 +- 0.6   \n",
       "2     always deep sleep    9.0 +- 0.9  74.7 +- 0.4    2.5 +- 0.6   \n",
       "\n",
       "          recall      f1-score   cohen-kappa          Wake     REM sleep  \\\n",
       "14  100.0 +- 0.0  100.0 +- 0.0  100.0 +- 0.0   88.9 +- 6.6   67.4 +- 3.0   \n",
       "7    33.5 +- 0.8   29.5 +- 0.9   15.9 +- 1.3  -21.6 +- 5.5  -67.3 +- 3.0   \n",
       "8    33.4 +- 0.8   29.3 +- 0.9   16.2 +- 1.4  -18.2 +- 5.7  -67.2 +- 3.0   \n",
       "10   33.8 +- 0.8   29.7 +- 0.9   16.7 +- 1.4  -18.2 +- 6.2  -67.3 +- 3.0   \n",
       "9    33.1 +- 0.8   28.9 +- 0.9   15.7 +- 1.4  -17.6 +- 6.2  -67.4 +- 3.0   \n",
       "11   34.0 +- 0.8   29.8 +- 0.9   17.0 +- 1.4  -12.7 +- 6.3  -67.4 +- 3.0   \n",
       "4    33.5 +- 0.8   29.4 +- 0.9   15.9 +- 1.4  -18.2 +- 6.0  -67.3 +- 3.0   \n",
       "6    33.5 +- 0.8   29.2 +- 0.9   16.2 +- 1.4  -11.8 +- 6.4  -67.2 +- 3.0   \n",
       "5    33.9 +- 0.8   29.4 +- 0.8   17.0 +- 1.4   -3.5 +- 6.5  -67.3 +- 3.0   \n",
       "13   33.8 +- 0.7   30.1 +- 0.7   17.2 +- 1.3    4.1 +- 5.9  -59.5 +- 2.9   \n",
       "1    25.9 +- 0.5   18.8 +- 0.6    0.0 +- 0.0  -88.9 +- 6.6  -67.4 +- 3.0   \n",
       "12   26.9 +- 0.7   26.5 +- 0.7    3.4 +- 1.0  -39.4 +- 5.6   36.2 +- 4.1   \n",
       "0    25.9 +- 0.5    8.2 +- 0.7    0.0 +- 0.0  363.5 +- 8.9  -67.4 +- 3.0   \n",
       "3    25.3 +- 0.5    6.7 +- 0.6    0.0 +- 0.0  -88.9 +- 6.6  385.1 +- 8.9   \n",
       "2    23.8 +- 0.7    4.1 +- 0.6    0.0 +- 0.0  -88.9 +- 6.6  -67.4 +- 3.0   \n",
       "\n",
       "      Deep sleep    Light sleep  acc_for_sort  \n",
       "14   39.2 +- 3.6   257.5 +- 7.0         100.0  \n",
       "7   -39.2 +- 3.6   128.1 +- 7.3          60.1  \n",
       "8   -39.2 +- 3.6   124.6 +- 7.5          60.0  \n",
       "10  -39.2 +- 3.6   124.7 +- 7.7          60.0  \n",
       "9   -39.2 +- 3.6   124.1 +- 7.9          59.9  \n",
       "11  -39.1 +- 3.6   119.1 +- 7.8          59.9  \n",
       "4   -39.2 +- 3.6   124.6 +- 7.6          59.8  \n",
       "6   -39.2 +- 3.6   118.2 +- 8.1          59.6  \n",
       "5   -39.2 +- 3.6   109.9 +- 8.1          59.3  \n",
       "13  -37.1 +- 3.5    92.5 +- 7.3          57.7  \n",
       "1   -39.2 +- 3.6   195.5 +- 7.4          57.4  \n",
       "12   45.7 +- 5.1   -42.5 +- 8.1          38.2  \n",
       "0   -39.2 +- 3.6  -257.0 +- 7.1          19.3  \n",
       "3   -39.2 +- 3.6  -257.0 +- 7.1          15.1  \n",
       "2   413.3 +- 9.9  -257.0 +- 7.1           9.0  "
      ]
     },
     "execution_count": 98,
     "metadata": {},
     "output_type": "execute_result"
    }
   ],
   "source": [
    "stage_4_df[['algorithms', \"accuracy\", \"specificity\", \"precision\", \"recall\", \"f1-score\",\"cohen-kappa\",\"Wake\",\"REM sleep\", \"Deep sleep\",\"Light sleep\",\"acc_for_sort\"]].sort_values(by=\"acc_for_sort\", ascending=False)"
   ]
  },
  {
   "cell_type": "code",
   "execution_count": 209,
   "metadata": {
    "scrolled": false
   },
   "outputs": [
    {
     "name": "stdout",
     "output_type": "stream",
     "text": [
      "\\begin{tabular}{lllllllllll}\n",
      "\\toprule\n",
      "          algorithms &      accuracy &   specificity &     precision &        recall &      f1-score &   cohen-kappa &    Deep sleep &    Light sleep &     REM sleep &           Wake \\\\\n",
      "\\midrule\n",
      "        ground truth &  100.0 +- 0.0 &  100.0 +- 0.0 &  100.0 +- 0.0 &  100.0 +- 0.0 &  100.0 +- 0.0 &  100.0 +- 0.0 &   39.3 +- 3.6 &   258.2 +- 7.0 &   67.6 +- 3.0 &   187.4 +- 8.6 \\\\\n",
      "            LSTM 100 &   64.1 +- 1.0 &   82.9 +- 0.5 &   35.6 +- 0.7 &   39.6 +- 0.7 &   35.8 +- 0.7 &   33.5 +- 1.4 &  -39.3 +- 3.6 &   139.4 +- 8.5 &  -67.6 +- 3.0 &   -32.5 +- 7.4 \\\\\n",
      "             CNN 100 &   63.9 +- 1.0 &   83.0 +- 0.4 &   36.3 +- 0.9 &   39.6 +- 0.7 &   35.7 +- 0.7 &   33.5 +- 1.4 &  -39.3 +- 3.6 &   133.2 +- 8.7 &  -67.5 +- 3.0 &   -26.4 +- 7.6 \\\\\n",
      "             LSTM 50 &   63.6 +- 1.0 &   82.7 +- 0.4 &   35.6 +- 0.8 &   39.3 +- 0.7 &   35.5 +- 0.7 &   33.0 +- 1.4 &  -39.3 +- 3.6 &   143.0 +- 8.2 &  -67.3 +- 3.0 &   -36.3 +- 7.1 \\\\\n",
      "              CNN 50 &   63.4 +- 1.0 &   82.8 +- 0.4 &   35.2 +- 0.8 &   39.3 +- 0.6 &   35.3 +- 0.7 &   33.1 +- 1.4 &  -39.3 +- 3.6 &   126.3 +- 8.8 &  -67.5 +- 3.0 &   -19.4 +- 7.8 \\\\\n",
      " Logistic Regression &   62.9 +- 1.1 &   82.5 +- 0.4 &   35.2 +- 0.8 &   38.9 +- 0.7 &   35.0 +- 0.8 &   32.2 +- 1.4 &  -39.2 +- 3.6 &   140.9 +- 8.6 &  -67.6 +- 3.0 &   -34.1 +- 7.7 \\\\\n",
      "          Linear SVM &   62.8 +- 1.1 &   82.3 +- 0.4 &   35.3 +- 0.8 &   38.7 +- 0.7 &   34.9 +- 0.8 &   32.0 +- 1.4 &  -39.3 +- 3.6 &   148.2 +- 8.5 &  -67.6 +- 3.0 &   -41.2 +- 7.7 \\\\\n",
      "             LSTM 20 &   62.7 +- 1.0 &   82.3 +- 0.4 &   35.4 +- 0.8 &   38.6 +- 0.7 &   34.8 +- 0.7 &   31.3 +- 1.3 &  -39.3 +- 3.6 &   152.2 +- 8.0 &  -67.5 +- 3.0 &   -45.4 +- 7.0 \\\\\n",
      "              CNN 20 &   62.6 +- 1.0 &   82.3 +- 0.4 &   35.1 +- 0.8 &   38.6 +- 0.7 &   34.8 +- 0.7 &   31.3 +- 1.3 &  -39.3 +- 3.6 &   148.1 +- 8.4 &  -67.6 +- 3.0 &   -41.2 +- 7.4 \\\\\n",
      "       Random Forest &   61.4 +- 1.0 &   82.6 +- 0.4 &   39.6 +- 0.9 &   38.1 +- 0.5 &   35.0 +- 0.6 &   31.2 +- 1.3 &  -37.1 +- 3.6 &   112.1 +- 8.1 &  -59.3 +- 2.9 &   -15.6 +- 7.3 \\\\\n",
      "  always light sleep &   47.0 +- 1.1 &   74.3 +- 0.3 &   12.1 +- 0.3 &   25.7 +- 0.3 &   16.2 +- 0.4 &    0.0 +- 0.0 &  -39.3 +- 3.6 &   294.3 +- 8.2 &  -67.6 +- 3.0 &  -187.4 +- 8.6 \\\\\n",
      "          Perception &   41.3 +- 0.9 &   79.7 +- 0.3 &   37.3 +- 0.6 &   31.1 +- 0.6 &   31.0 +- 0.6 &   11.1 +- 1.1 &   57.6 +- 5.2 &   -32.5 +- 8.6 &   57.2 +- 4.5 &   -82.3 +- 7.3 \\\\\n",
      "         always wake &   33.5 +- 1.4 &   74.3 +- 0.3 &    8.7 +- 0.4 &   25.7 +- 0.3 &   12.6 +- 0.5 &    0.0 +- 0.0 &  -39.3 +- 3.6 &  -258.2 +- 7.0 &  -67.6 +- 3.0 &   365.1 +- 8.7 \\\\\n",
      "    always REM sleep &   12.3 +- 0.5 &   74.5 +- 0.2 &    3.1 +- 0.1 &   25.1 +- 0.3 &    5.4 +- 0.2 &    0.0 +- 0.0 &  -39.3 +- 3.6 &  -258.2 +- 7.0 &  484.8 +- 8.5 &  -187.4 +- 8.6 \\\\\n",
      "   always deep sleep &    7.2 +- 0.7 &   74.9 +- 0.1 &    1.8 +- 0.2 &   23.6 +- 0.6 &    3.2 +- 0.3 &    0.0 +- 0.0 &  513.2 +- 9.4 &  -258.2 +- 7.0 &  -67.6 +- 3.0 &  -187.4 +- 8.6 \\\\\n",
      "\\bottomrule\n",
      "\\end{tabular}\n",
      "\n"
     ]
    }
   ],
   "source": [
    "print(stage_4_df[stage_4_df['algorithms'].isin(bls)].sort_values(by=\"acc_for_sort\", ascending=False)[stages_4_clf_columns].to_latex(index=False))"
   ]
  },
  {
   "cell_type": "markdown",
   "metadata": {},
   "source": [
    "## ================ Task 4 5 stages ==================== "
   ]
  },
  {
   "cell_type": "markdown",
   "metadata": {},
   "source": [
    "###  ENMO&HRV"
   ]
  },
  {
   "cell_type": "code",
   "execution_count": 100,
   "metadata": {},
   "outputs": [
    {
     "name": "stdout",
     "output_type": "stream",
     "text": [
      "summary csv is loaded\n",
      "Pickle file is loaded\n",
      "         old_alg_name         new_alg_name\n",
      "0              stages         ground truth\n",
      "1            always_0          always wake\n",
      "2            always_1      always N1 sleep\n",
      "3            always_2      always N2 sleep\n",
      "4            always_3      always N3 sleep\n",
      "5            always_4     always REM sleep\n",
      "6     CNN_20_ENMO_HRV               CNN 20\n",
      "7     CNN_50_ENMO_HRV               CNN 50\n",
      "8    CNN_100_ENMO_HRV              CNN 100\n",
      "9    LSTM_20_ENMO_HRV              LSTM 20\n",
      "10   LSTM_50_ENMO_HRV              LSTM 50\n",
      "11  LSTM_100_ENMO_HRV             LSTM 100\n",
      "12          SGD_hinge           Linear SVM\n",
      "13            SGD_log  Logistic Regression\n",
      "14     SGD_perceptron           Perception\n",
      "15  Random_forest_300        Random Forest\n"
     ]
    }
   ],
   "source": [
    "num_classes=5\n",
    "stages_5_clf_columns= ['algorithms', \"accuracy\", \"specificity\", \"precision\", \"recall\", \"f1-score\", \"cohen-kappa\", \"N1 sleep\",\"N2 sleep\",\"N3 sleep\",\"REM sleep\",\"Wake\"]\n",
    "stage_5_df = load_task(sub_folder, num_classes, feature_type='ENMO_HRV', stages_clf_columns=stages_5_clf_columns)\n",
    "readable_5stages_algs_dict= {\"stages\":\"ground truth\",\"always_0\":\"always wake\", \"always_1\":\"always N1 sleep\", \"always_2\":\"always N2 sleep\", \"always_3\":\"always N3 sleep\", \"always_4\":\"always REM sleep\", \"CNN_20_ENMO_HRV\": \"CNN 20\", \"CNN_50_ENMO_HRV\":\"CNN 50\", \"CNN_100_ENMO_HRV\":\"CNN 100\", \"LSTM_20_ENMO_HRV\":\"LSTM 20\", \"LSTM_50_ENMO_HRV\":\"LSTM 50\",\"LSTM_100_ENMO_HRV\":\"LSTM 100\", \"SGD_hinge\":\"Linear SVM\", \"SGD_log\":\"Logistic Regression\", \"SGD_perceptron\":\"Perception\", \"Random_forest_300\": \"Random Forest\"}\n",
    "readable_5stages_df = pd.DataFrame(list(readable_5stages_algs_dict.items()), columns=[\"old_alg_name\",\"new_alg_name\"])\n",
    "print(readable_5stages_df)"
   ]
  },
  {
   "cell_type": "code",
   "execution_count": 101,
   "metadata": {},
   "outputs": [],
   "source": [
    "stages_5_baselines = ['stages', 'always_0', 'always_1', 'always_2','always_3',\"always_4\"]\n",
    "stage_5_df['algorithms'] = stage_5_df['algorithms'].apply(lambda x: readable_5stages_algs_dict[x])\n",
    "# get ready the rename df\n",
    "bls = readable_5stages_df.new_alg_name.unique().tolist()\n",
    "stage_5_df['acc_for_sort'] = stage_5_df['accuracy'].apply(lambda x: np.float(x.split(\"+-\")[0]))\n"
   ]
  },
  {
   "cell_type": "code",
   "execution_count": 102,
   "metadata": {},
   "outputs": [
    {
     "data": {
      "text/html": [
       "<div>\n",
       "<style scoped>\n",
       "    .dataframe tbody tr th:only-of-type {\n",
       "        vertical-align: middle;\n",
       "    }\n",
       "\n",
       "    .dataframe tbody tr th {\n",
       "        vertical-align: top;\n",
       "    }\n",
       "\n",
       "    .dataframe thead th {\n",
       "        text-align: right;\n",
       "    }\n",
       "</style>\n",
       "<table border=\"1\" class=\"dataframe\">\n",
       "  <thead>\n",
       "    <tr style=\"text-align: right;\">\n",
       "      <th></th>\n",
       "      <th>algorithms</th>\n",
       "      <th>accuracy</th>\n",
       "      <th>specificity</th>\n",
       "      <th>precision</th>\n",
       "      <th>recall</th>\n",
       "      <th>f1-score</th>\n",
       "      <th>cohen-kappa</th>\n",
       "      <th>Wake</th>\n",
       "      <th>REM sleep</th>\n",
       "      <th>N3 sleep</th>\n",
       "      <th>N2 sleep</th>\n",
       "      <th>N1 sleep</th>\n",
       "      <th>acc_for_sort</th>\n",
       "    </tr>\n",
       "  </thead>\n",
       "  <tbody>\n",
       "    <tr>\n",
       "      <th>15</th>\n",
       "      <td>ground truth</td>\n",
       "      <td>100.0 +- 0.0</td>\n",
       "      <td>99.7 +- 0.6</td>\n",
       "      <td>100.0 +- 0.0</td>\n",
       "      <td>100.0 +- 0.0</td>\n",
       "      <td>100.0 +- 0.0</td>\n",
       "      <td>100.0 +- 0.0</td>\n",
       "      <td>88.9 +- 6.6</td>\n",
       "      <td>67.4 +- 3.0</td>\n",
       "      <td>39.2 +- 3.6</td>\n",
       "      <td>207.9 +- 6.3</td>\n",
       "      <td>49.6 +- 3.3</td>\n",
       "      <td>100.0</td>\n",
       "    </tr>\n",
       "    <tr>\n",
       "      <th>7</th>\n",
       "      <td>CNN 100</td>\n",
       "      <td>59.2 +- 1.2</td>\n",
       "      <td>86.5 +- 0.6</td>\n",
       "      <td>49.7 +- 1.4</td>\n",
       "      <td>42.0 +- 1.0</td>\n",
       "      <td>39.1 +- 1.0</td>\n",
       "      <td>45.1 +- 1.9</td>\n",
       "      <td>-8.6 +- 5.8</td>\n",
       "      <td>5.0 +- 4.8</td>\n",
       "      <td>-34.3 +- 3.5</td>\n",
       "      <td>78.2 +- 7.4</td>\n",
       "      <td>-40.3 +- 3.1</td>\n",
       "      <td>59.2</td>\n",
       "    </tr>\n",
       "    <tr>\n",
       "      <th>6</th>\n",
       "      <td>CNN 50</td>\n",
       "      <td>58.8 +- 1.2</td>\n",
       "      <td>86.4 +- 0.6</td>\n",
       "      <td>46.6 +- 1.4</td>\n",
       "      <td>41.5 +- 0.9</td>\n",
       "      <td>37.8 +- 1.0</td>\n",
       "      <td>44.7 +- 2.0</td>\n",
       "      <td>-4.7 +- 5.7</td>\n",
       "      <td>11.5 +- 5.7</td>\n",
       "      <td>-37.9 +- 3.5</td>\n",
       "      <td>73.1 +- 7.9</td>\n",
       "      <td>-42.0 +- 3.1</td>\n",
       "      <td>58.8</td>\n",
       "    </tr>\n",
       "    <tr>\n",
       "      <th>10</th>\n",
       "      <td>LSTM 100</td>\n",
       "      <td>58.4 +- 1.1</td>\n",
       "      <td>85.9 +- 0.6</td>\n",
       "      <td>44.3 +- 1.4</td>\n",
       "      <td>39.9 +- 0.9</td>\n",
       "      <td>36.7 +- 1.0</td>\n",
       "      <td>43.5 +- 2.0</td>\n",
       "      <td>7.7 +- 5.7</td>\n",
       "      <td>-17.5 +- 3.8</td>\n",
       "      <td>-32.3 +- 3.5</td>\n",
       "      <td>88.0 +- 7.1</td>\n",
       "      <td>-45.9 +- 3.0</td>\n",
       "      <td>58.4</td>\n",
       "    </tr>\n",
       "    <tr>\n",
       "      <th>9</th>\n",
       "      <td>LSTM 50</td>\n",
       "      <td>58.3 +- 1.1</td>\n",
       "      <td>86.2 +- 0.6</td>\n",
       "      <td>43.7 +- 1.5</td>\n",
       "      <td>40.6 +- 0.9</td>\n",
       "      <td>36.5 +- 0.9</td>\n",
       "      <td>44.0 +- 2.0</td>\n",
       "      <td>31.9 +- 6.1</td>\n",
       "      <td>-14.3 +- 3.8</td>\n",
       "      <td>-35.2 +- 3.5</td>\n",
       "      <td>63.4 +- 7.2</td>\n",
       "      <td>-45.8 +- 3.0</td>\n",
       "      <td>58.3</td>\n",
       "    </tr>\n",
       "    <tr>\n",
       "      <th>8</th>\n",
       "      <td>LSTM 20</td>\n",
       "      <td>57.9 +- 1.1</td>\n",
       "      <td>86.3 +- 0.6</td>\n",
       "      <td>40.6 +- 1.2</td>\n",
       "      <td>41.1 +- 0.8</td>\n",
       "      <td>36.2 +- 0.8</td>\n",
       "      <td>43.6 +- 1.9</td>\n",
       "      <td>25.4 +- 5.8</td>\n",
       "      <td>0.5 +- 4.2</td>\n",
       "      <td>-37.7 +- 3.5</td>\n",
       "      <td>57.3 +- 6.8</td>\n",
       "      <td>-45.4 +- 3.0</td>\n",
       "      <td>57.9</td>\n",
       "    </tr>\n",
       "    <tr>\n",
       "      <th>5</th>\n",
       "      <td>CNN 20</td>\n",
       "      <td>57.4 +- 1.2</td>\n",
       "      <td>86.1 +- 0.6</td>\n",
       "      <td>42.4 +- 1.2</td>\n",
       "      <td>40.6 +- 0.8</td>\n",
       "      <td>36.3 +- 0.9</td>\n",
       "      <td>42.6 +- 1.8</td>\n",
       "      <td>2.2 +- 5.8</td>\n",
       "      <td>14.1 +- 5.8</td>\n",
       "      <td>-39.0 +- 3.6</td>\n",
       "      <td>66.0 +- 7.7</td>\n",
       "      <td>-43.3 +- 3.0</td>\n",
       "      <td>57.4</td>\n",
       "    </tr>\n",
       "    <tr>\n",
       "      <th>14</th>\n",
       "      <td>Random Forest</td>\n",
       "      <td>51.3 +- 1.2</td>\n",
       "      <td>83.2 +- 0.5</td>\n",
       "      <td>33.2 +- 1.2</td>\n",
       "      <td>31.1 +- 0.6</td>\n",
       "      <td>25.5 +- 0.7</td>\n",
       "      <td>32.0 +- 1.7</td>\n",
       "      <td>33.9 +- 6.9</td>\n",
       "      <td>-55.2 +- 3.1</td>\n",
       "      <td>-38.6 +- 3.6</td>\n",
       "      <td>108.2 +- 7.9</td>\n",
       "      <td>-48.3 +- 3.2</td>\n",
       "      <td>51.3</td>\n",
       "    </tr>\n",
       "    <tr>\n",
       "      <th>12</th>\n",
       "      <td>Logistic Regression</td>\n",
       "      <td>51.1 +- 1.2</td>\n",
       "      <td>82.7 +- 0.6</td>\n",
       "      <td>25.8 +- 1.1</td>\n",
       "      <td>30.3 +- 0.7</td>\n",
       "      <td>23.8 +- 0.7</td>\n",
       "      <td>30.9 +- 1.7</td>\n",
       "      <td>33.4 +- 7.8</td>\n",
       "      <td>-66.9 +- 3.0</td>\n",
       "      <td>-39.1 +- 3.6</td>\n",
       "      <td>120.1 +- 8.8</td>\n",
       "      <td>-47.5 +- 3.1</td>\n",
       "      <td>51.1</td>\n",
       "    </tr>\n",
       "    <tr>\n",
       "      <th>11</th>\n",
       "      <td>Linear SVM</td>\n",
       "      <td>49.9 +- 1.3</td>\n",
       "      <td>82.9 +- 0.5</td>\n",
       "      <td>27.9 +- 1.0</td>\n",
       "      <td>30.1 +- 0.6</td>\n",
       "      <td>23.9 +- 0.7</td>\n",
       "      <td>29.7 +- 1.7</td>\n",
       "      <td>46.5 +- 8.1</td>\n",
       "      <td>-63.2 +- 3.0</td>\n",
       "      <td>-38.6 +- 3.6</td>\n",
       "      <td>100.0 +- 9.1</td>\n",
       "      <td>-44.7 +- 3.1</td>\n",
       "      <td>49.9</td>\n",
       "    </tr>\n",
       "    <tr>\n",
       "      <th>2</th>\n",
       "      <td>always N2 sleep</td>\n",
       "      <td>46.6 +- 1.2</td>\n",
       "      <td>79.2 +- 0.6</td>\n",
       "      <td>9.9 +- 0.6</td>\n",
       "      <td>20.8 +- 0.6</td>\n",
       "      <td>13.2 +- 0.6</td>\n",
       "      <td>0.0 +- 0.0</td>\n",
       "      <td>-88.9 +- 6.6</td>\n",
       "      <td>-67.4 +- 3.0</td>\n",
       "      <td>-39.2 +- 3.6</td>\n",
       "      <td>244.6 +- 8.1</td>\n",
       "      <td>-49.1 +- 3.2</td>\n",
       "      <td>46.6</td>\n",
       "    </tr>\n",
       "    <tr>\n",
       "      <th>13</th>\n",
       "      <td>Perception</td>\n",
       "      <td>38.7 +- 1.1</td>\n",
       "      <td>81.5 +- 0.5</td>\n",
       "      <td>29.7 +- 0.8</td>\n",
       "      <td>23.7 +- 0.6</td>\n",
       "      <td>21.5 +- 0.7</td>\n",
       "      <td>0.6 +- 1.2</td>\n",
       "      <td>-68.4 +- 6.0</td>\n",
       "      <td>1.0 +- 5.6</td>\n",
       "      <td>20.6 +- 6.0</td>\n",
       "      <td>64.5 +- 9.0</td>\n",
       "      <td>-17.7 +- 3.8</td>\n",
       "      <td>38.7</td>\n",
       "    </tr>\n",
       "    <tr>\n",
       "      <th>0</th>\n",
       "      <td>always wake</td>\n",
       "      <td>19.3 +- 1.3</td>\n",
       "      <td>79.2 +- 0.6</td>\n",
       "      <td>4.2 +- 0.6</td>\n",
       "      <td>20.8 +- 0.6</td>\n",
       "      <td>6.6 +- 0.6</td>\n",
       "      <td>0.0 +- 0.0</td>\n",
       "      <td>363.5 +- 8.9</td>\n",
       "      <td>-67.4 +- 3.0</td>\n",
       "      <td>-39.2 +- 3.6</td>\n",
       "      <td>-207.9 +- 6.3</td>\n",
       "      <td>-49.1 +- 3.2</td>\n",
       "      <td>19.3</td>\n",
       "    </tr>\n",
       "    <tr>\n",
       "      <th>4</th>\n",
       "      <td>always REM sleep</td>\n",
       "      <td>15.1 +- 0.8</td>\n",
       "      <td>79.4 +- 0.5</td>\n",
       "      <td>3.3 +- 0.6</td>\n",
       "      <td>20.2 +- 0.5</td>\n",
       "      <td>5.4 +- 0.6</td>\n",
       "      <td>0.0 +- 0.0</td>\n",
       "      <td>-88.9 +- 6.6</td>\n",
       "      <td>385.1 +- 8.9</td>\n",
       "      <td>-39.2 +- 3.6</td>\n",
       "      <td>-207.9 +- 6.3</td>\n",
       "      <td>-49.1 +- 3.2</td>\n",
       "      <td>15.1</td>\n",
       "    </tr>\n",
       "    <tr>\n",
       "      <th>1</th>\n",
       "      <td>always N1 sleep</td>\n",
       "      <td>11.1 +- 0.8</td>\n",
       "      <td>79.4 +- 0.5</td>\n",
       "      <td>2.5 +- 0.6</td>\n",
       "      <td>20.2 +- 0.5</td>\n",
       "      <td>4.1 +- 0.6</td>\n",
       "      <td>0.0 +- 0.0</td>\n",
       "      <td>-88.9 +- 6.6</td>\n",
       "      <td>-67.4 +- 3.0</td>\n",
       "      <td>-39.2 +- 3.6</td>\n",
       "      <td>-207.9 +- 6.3</td>\n",
       "      <td>403.4 +- 9.3</td>\n",
       "      <td>11.1</td>\n",
       "    </tr>\n",
       "    <tr>\n",
       "      <th>3</th>\n",
       "      <td>always N3 sleep</td>\n",
       "      <td>9.0 +- 0.9</td>\n",
       "      <td>79.6 +- 0.5</td>\n",
       "      <td>2.0 +- 0.6</td>\n",
       "      <td>19.1 +- 0.7</td>\n",
       "      <td>3.3 +- 0.6</td>\n",
       "      <td>0.0 +- 0.0</td>\n",
       "      <td>-88.9 +- 6.6</td>\n",
       "      <td>-67.4 +- 3.0</td>\n",
       "      <td>413.3 +- 9.9</td>\n",
       "      <td>-207.9 +- 6.3</td>\n",
       "      <td>-49.1 +- 3.2</td>\n",
       "      <td>9.0</td>\n",
       "    </tr>\n",
       "  </tbody>\n",
       "</table>\n",
       "</div>"
      ],
      "text/plain": [
       "             algorithms      accuracy  specificity     precision  \\\n",
       "15         ground truth  100.0 +- 0.0  99.7 +- 0.6  100.0 +- 0.0   \n",
       "7               CNN 100   59.2 +- 1.2  86.5 +- 0.6   49.7 +- 1.4   \n",
       "6                CNN 50   58.8 +- 1.2  86.4 +- 0.6   46.6 +- 1.4   \n",
       "10             LSTM 100   58.4 +- 1.1  85.9 +- 0.6   44.3 +- 1.4   \n",
       "9               LSTM 50   58.3 +- 1.1  86.2 +- 0.6   43.7 +- 1.5   \n",
       "8               LSTM 20   57.9 +- 1.1  86.3 +- 0.6   40.6 +- 1.2   \n",
       "5                CNN 20   57.4 +- 1.2  86.1 +- 0.6   42.4 +- 1.2   \n",
       "14        Random Forest   51.3 +- 1.2  83.2 +- 0.5   33.2 +- 1.2   \n",
       "12  Logistic Regression   51.1 +- 1.2  82.7 +- 0.6   25.8 +- 1.1   \n",
       "11           Linear SVM   49.9 +- 1.3  82.9 +- 0.5   27.9 +- 1.0   \n",
       "2       always N2 sleep   46.6 +- 1.2  79.2 +- 0.6    9.9 +- 0.6   \n",
       "13           Perception   38.7 +- 1.1  81.5 +- 0.5   29.7 +- 0.8   \n",
       "0           always wake   19.3 +- 1.3  79.2 +- 0.6    4.2 +- 0.6   \n",
       "4      always REM sleep   15.1 +- 0.8  79.4 +- 0.5    3.3 +- 0.6   \n",
       "1       always N1 sleep   11.1 +- 0.8  79.4 +- 0.5    2.5 +- 0.6   \n",
       "3       always N3 sleep    9.0 +- 0.9  79.6 +- 0.5    2.0 +- 0.6   \n",
       "\n",
       "          recall      f1-score   cohen-kappa          Wake     REM sleep  \\\n",
       "15  100.0 +- 0.0  100.0 +- 0.0  100.0 +- 0.0   88.9 +- 6.6   67.4 +- 3.0   \n",
       "7    42.0 +- 1.0   39.1 +- 1.0   45.1 +- 1.9   -8.6 +- 5.8    5.0 +- 4.8   \n",
       "6    41.5 +- 0.9   37.8 +- 1.0   44.7 +- 2.0   -4.7 +- 5.7   11.5 +- 5.7   \n",
       "10   39.9 +- 0.9   36.7 +- 1.0   43.5 +- 2.0    7.7 +- 5.7  -17.5 +- 3.8   \n",
       "9    40.6 +- 0.9   36.5 +- 0.9   44.0 +- 2.0   31.9 +- 6.1  -14.3 +- 3.8   \n",
       "8    41.1 +- 0.8   36.2 +- 0.8   43.6 +- 1.9   25.4 +- 5.8    0.5 +- 4.2   \n",
       "5    40.6 +- 0.8   36.3 +- 0.9   42.6 +- 1.8    2.2 +- 5.8   14.1 +- 5.8   \n",
       "14   31.1 +- 0.6   25.5 +- 0.7   32.0 +- 1.7   33.9 +- 6.9  -55.2 +- 3.1   \n",
       "12   30.3 +- 0.7   23.8 +- 0.7   30.9 +- 1.7   33.4 +- 7.8  -66.9 +- 3.0   \n",
       "11   30.1 +- 0.6   23.9 +- 0.7   29.7 +- 1.7   46.5 +- 8.1  -63.2 +- 3.0   \n",
       "2    20.8 +- 0.6   13.2 +- 0.6    0.0 +- 0.0  -88.9 +- 6.6  -67.4 +- 3.0   \n",
       "13   23.7 +- 0.6   21.5 +- 0.7    0.6 +- 1.2  -68.4 +- 6.0    1.0 +- 5.6   \n",
       "0    20.8 +- 0.6    6.6 +- 0.6    0.0 +- 0.0  363.5 +- 8.9  -67.4 +- 3.0   \n",
       "4    20.2 +- 0.5    5.4 +- 0.6    0.0 +- 0.0  -88.9 +- 6.6  385.1 +- 8.9   \n",
       "1    20.2 +- 0.5    4.1 +- 0.6    0.0 +- 0.0  -88.9 +- 6.6  -67.4 +- 3.0   \n",
       "3    19.1 +- 0.7    3.3 +- 0.6    0.0 +- 0.0  -88.9 +- 6.6  -67.4 +- 3.0   \n",
       "\n",
       "        N3 sleep       N2 sleep      N1 sleep  acc_for_sort  \n",
       "15   39.2 +- 3.6   207.9 +- 6.3   49.6 +- 3.3         100.0  \n",
       "7   -34.3 +- 3.5    78.2 +- 7.4  -40.3 +- 3.1          59.2  \n",
       "6   -37.9 +- 3.5    73.1 +- 7.9  -42.0 +- 3.1          58.8  \n",
       "10  -32.3 +- 3.5    88.0 +- 7.1  -45.9 +- 3.0          58.4  \n",
       "9   -35.2 +- 3.5    63.4 +- 7.2  -45.8 +- 3.0          58.3  \n",
       "8   -37.7 +- 3.5    57.3 +- 6.8  -45.4 +- 3.0          57.9  \n",
       "5   -39.0 +- 3.6    66.0 +- 7.7  -43.3 +- 3.0          57.4  \n",
       "14  -38.6 +- 3.6   108.2 +- 7.9  -48.3 +- 3.2          51.3  \n",
       "12  -39.1 +- 3.6   120.1 +- 8.8  -47.5 +- 3.1          51.1  \n",
       "11  -38.6 +- 3.6   100.0 +- 9.1  -44.7 +- 3.1          49.9  \n",
       "2   -39.2 +- 3.6   244.6 +- 8.1  -49.1 +- 3.2          46.6  \n",
       "13   20.6 +- 6.0    64.5 +- 9.0  -17.7 +- 3.8          38.7  \n",
       "0   -39.2 +- 3.6  -207.9 +- 6.3  -49.1 +- 3.2          19.3  \n",
       "4   -39.2 +- 3.6  -207.9 +- 6.3  -49.1 +- 3.2          15.1  \n",
       "1   -39.2 +- 3.6  -207.9 +- 6.3  403.4 +- 9.3          11.1  \n",
       "3   413.3 +- 9.9  -207.9 +- 6.3  -49.1 +- 3.2           9.0  "
      ]
     },
     "execution_count": 102,
     "metadata": {},
     "output_type": "execute_result"
    }
   ],
   "source": [
    "stage_5_df[['algorithms', \"accuracy\", \"specificity\", \"precision\", \"recall\", \"f1-score\", \"cohen-kappa\",\"Wake\",\"REM sleep\",\"N3 sleep\",\"N2 sleep\", \"N1 sleep\",\"acc_for_sort\"]].sort_values(by=\"acc_for_sort\", ascending=False)"
   ]
  },
  {
   "cell_type": "code",
   "execution_count": 138,
   "metadata": {},
   "outputs": [
    {
     "name": "stdout",
     "output_type": "stream",
     "text": [
      "\\begin{tabular}{llllllllllll}\n",
      "\\toprule\n",
      "          algorithms &      accuracy &   specificity &     precision &        recall &      f1-score &   cohen-kappa &      N1 sleep &       N2 sleep &      N3 sleep &     REM sleep &           Wake \\\\\n",
      "\\midrule\n",
      "        ground truth &  100.0 +- 0.0 &  100.0 +- 0.0 &  100.0 +- 0.0 &  100.0 +- 0.0 &  100.0 +- 0.0 &  100.0 +- 0.0 &   49.4 +- 3.2 &   208.7 +- 6.2 &   39.3 +- 3.6 &   67.6 +- 3.0 &   187.4 +- 8.6 \\\\\n",
      "             LSTM 50 &   63.7 +- 1.0 &   88.7 +- 0.3 &   47.1 +- 1.4 &   43.0 +- 0.8 &   39.9 +- 0.8 &   56.3 +- 1.8 &  -46.0 +- 3.0 &    71.9 +- 7.5 &  -35.2 +- 3.5 &  -12.9 +- 3.9 &    22.2 +- 7.1 \\\\\n",
      "            LSTM 100 &   63.6 +- 1.0 &   88.7 +- 0.3 &   47.8 +- 1.3 &   43.3 +- 0.8 &   40.5 +- 0.9 &   57.0 +- 1.8 &  -46.2 +- 3.0 &    97.7 +- 7.5 &  -32.3 +- 3.5 &  -15.9 +- 3.9 &    -3.3 +- 6.8 \\\\\n",
      "             CNN 100 &   63.1 +- 1.1 &   88.8 +- 0.3 &   51.5 +- 1.4 &   44.7 +- 0.9 &   41.9 +- 0.9 &   56.2 +- 1.8 &  -40.2 +- 3.1 &    92.4 +- 8.0 &  -34.3 +- 3.5 &    8.2 +- 5.0 &   -26.2 +- 7.1 \\\\\n",
      "              CNN 50 &   62.9 +- 1.1 &   88.8 +- 0.3 &   48.7 +- 1.3 &   44.2 +- 0.8 &   40.6 +- 0.9 &   56.0 +- 1.9 &  -42.0 +- 3.1 &    86.6 +- 8.5 &  -37.9 +- 3.6 &   14.8 +- 5.9 &   -21.5 +- 7.1 \\\\\n",
      "             LSTM 20 &   62.6 +- 1.0 &   88.5 +- 0.3 &   43.6 +- 1.1 &   43.1 +- 0.7 &   39.2 +- 0.7 &   54.2 +- 1.7 &  -45.6 +- 3.0 &    68.3 +- 7.3 &  -37.8 +- 3.5 &    3.8 +- 4.4 &    11.3 +- 7.0 \\\\\n",
      "              CNN 20 &   61.3 +- 1.1 &   88.3 +- 0.3 &   44.7 +- 1.1 &   42.8 +- 0.7 &   38.8 +- 0.8 &   53.0 +- 1.8 &  -43.3 +- 3.1 &    80.8 +- 8.4 &  -39.1 +- 3.6 &   18.5 +- 6.0 &   -16.9 +- 7.2 \\\\\n",
      "       Random Forest &   56.9 +- 1.0 &   86.2 +- 0.3 &   36.4 +- 1.2 &   33.1 +- 0.5 &   28.8 +- 0.5 &   46.3 +- 1.6 &  -48.6 +- 3.2 &   123.6 +- 8.4 &  -38.7 +- 3.6 &  -54.9 +- 3.1 &    18.6 +- 8.1 \\\\\n",
      " Logistic Regression &   56.7 +- 1.1 &   85.8 +- 0.4 &   29.2 +- 0.9 &   32.4 +- 0.5 &   27.1 +- 0.6 &   45.6 +- 1.7 &  -47.7 +- 3.1 &   135.8 +- 9.3 &  -39.2 +- 3.6 &  -67.2 +- 3.0 &    18.3 +- 8.9 \\\\\n",
      "          Linear SVM &   56.1 +- 1.1 &   85.9 +- 0.3 &   31.4 +- 0.9 &   32.1 +- 0.5 &   27.3 +- 0.5 &   44.2 +- 1.7 &  -44.8 +- 3.1 &   113.8 +- 9.6 &  -38.7 +- 3.6 &  -63.3 +- 3.0 &    33.0 +- 9.1 \\\\\n",
      "     always N2 sleep &   38.0 +- 1.0 &   79.4 +- 0.4 &    7.9 +- 0.3 &   20.6 +- 0.4 &   11.2 +- 0.3 &    0.0 +- 0.0 &  -49.4 +- 3.2 &   343.7 +- 8.3 &  -39.3 +- 3.6 &  -67.6 +- 3.0 &  -187.4 +- 8.6 \\\\\n",
      "          Perception &   37.6 +- 0.9 &   83.3 +- 0.2 &   32.0 +- 0.5 &   25.7 +- 0.5 &   23.5 +- 0.5 &    6.8 +- 1.4 &   -6.2 +- 4.1 &    79.3 +- 9.6 &   33.5 +- 6.5 &   26.8 +- 6.1 &  -133.4 +- 7.6 \\\\\n",
      "         always wake &   33.5 +- 1.4 &   79.4 +- 0.4 &    7.0 +- 0.4 &   20.6 +- 0.4 &   10.1 +- 0.4 &    0.0 +- 0.0 &  -49.4 +- 3.2 &  -208.7 +- 6.2 &  -39.3 +- 3.6 &  -67.6 +- 3.0 &   365.1 +- 8.7 \\\\\n",
      "    always REM sleep &   12.3 +- 0.5 &   79.6 +- 0.2 &    2.5 +- 0.1 &   20.0 +- 0.3 &    4.3 +- 0.2 &    0.0 +- 0.0 &  -49.4 +- 3.2 &  -208.7 +- 6.2 &  -39.3 +- 3.6 &  484.8 +- 8.5 &  -187.4 +- 8.6 \\\\\n",
      "     always N1 sleep &    9.0 +- 0.6 &   79.6 +- 0.2 &    1.8 +- 0.1 &   20.0 +- 0.3 &    3.3 +- 0.2 &    0.0 +- 0.0 &  503.0 +- 8.8 &  -208.7 +- 6.2 &  -39.3 +- 3.6 &  -67.6 +- 3.0 &  -187.4 +- 8.6 \\\\\n",
      "     always N3 sleep &    7.2 +- 0.7 &   79.8 +- 0.1 &    1.4 +- 0.1 &   18.9 +- 0.5 &    2.6 +- 0.2 &    0.0 +- 0.0 &  -49.4 +- 3.2 &  -208.7 +- 6.2 &  513.2 +- 9.4 &  -67.6 +- 3.0 &  -187.4 +- 8.6 \\\\\n",
      "\\bottomrule\n",
      "\\end{tabular}\n",
      "\n"
     ]
    }
   ],
   "source": [
    "print(stage_5_df[stage_5_df['algorithms'].isin(bls)].sort_values(by=\"acc_for_sort\", ascending=False)[stages_5_clf_columns].to_latex(index=False))"
   ]
  },
  {
   "cell_type": "markdown",
   "metadata": {},
   "source": [
    "### Task 4 5 stages, single modality ENMO"
   ]
  },
  {
   "cell_type": "code",
   "execution_count": 111,
   "metadata": {},
   "outputs": [
    {
     "name": "stdout",
     "output_type": "stream",
     "text": [
      "summary csv is loaded\n",
      "Pickle file is loaded\n"
     ]
    }
   ],
   "source": [
    "num_classes = 5\n",
    "stages_clf_columns= ['algorithms', \"accuracy\", \"specificity\", \"precision\", \"recall\", \"f1-score\", \"cohen-kappa\", \"N1 sleep\",\"N2 sleep\",\"N3 sleep\",\"REM sleep\",\"Wake\"]\n",
    "stage_5_df = load_task(sub_folder, num_classes=num_classes, feature_type='ENMO', stages_clf_columns=stages_clf_columns)\n",
    "readable_5stages_algs_dict= {\"stages\":\"ground truth\",\"always_0\":\"always wake\", \"always_1\":\"always N1 sleep\", \"always_2\":\"always N2 sleep\", \"always_3\":\"always N3 sleep\", \"always_4\":\"always REM sleep\", \"CNN_20_ENMO\": \"CNN 20\", \"CNN_50_ENMO\":\"CNN 50\", \"CNN_100_ENMO\":\"CNN 100\", \"LSTM_20_ENMO\":\"LSTM 20\", \"LSTM_50_ENMO\":\"LSTM 50\",\"LSTM_100_ENMO\":\"LSTM 100\", \"SGD_hinge\":\"Linear SVM\", \"SGD_log\":\"Logistic Regression\", \"SGD_perceptron\":\"Perception\", \"Random_forest_300\": \"Random Forest\"}\n",
    "readable_5stages_df = pd.DataFrame(list(readable_5stages_algs_dict.items()), columns=[\"old_alg_name\",\"new_alg_name\"])\n",
    "bls = readable_5stages_df.new_alg_name.unique().tolist()"
   ]
  },
  {
   "cell_type": "code",
   "execution_count": 115,
   "metadata": {},
   "outputs": [],
   "source": [
    "# print(stage_5_df)\n",
    "# print(readable_5stages_df)"
   ]
  },
  {
   "cell_type": "code",
   "execution_count": 113,
   "metadata": {},
   "outputs": [],
   "source": [
    "stage_5_df['algorithms'] = stage_5_df['algorithms'].apply(lambda x: readable_5stages_algs_dict[x])\n",
    "stage_5_df['acc_for_sort'] = stage_5_df['accuracy'].apply(lambda x: np.float(x.split(\"+-\")[0]))"
   ]
  },
  {
   "cell_type": "code",
   "execution_count": 116,
   "metadata": {},
   "outputs": [
    {
     "data": {
      "text/html": [
       "<div>\n",
       "<style scoped>\n",
       "    .dataframe tbody tr th:only-of-type {\n",
       "        vertical-align: middle;\n",
       "    }\n",
       "\n",
       "    .dataframe tbody tr th {\n",
       "        vertical-align: top;\n",
       "    }\n",
       "\n",
       "    .dataframe thead th {\n",
       "        text-align: right;\n",
       "    }\n",
       "</style>\n",
       "<table border=\"1\" class=\"dataframe\">\n",
       "  <thead>\n",
       "    <tr style=\"text-align: right;\">\n",
       "      <th></th>\n",
       "      <th>algorithms</th>\n",
       "      <th>accuracy</th>\n",
       "      <th>specificity</th>\n",
       "      <th>precision</th>\n",
       "      <th>recall</th>\n",
       "      <th>f1-score</th>\n",
       "      <th>cohen-kappa</th>\n",
       "      <th>Wake</th>\n",
       "      <th>REM sleep</th>\n",
       "      <th>N3 sleep</th>\n",
       "      <th>N2 sleep</th>\n",
       "      <th>N1 sleep</th>\n",
       "      <th>acc_for_sort</th>\n",
       "    </tr>\n",
       "  </thead>\n",
       "  <tbody>\n",
       "    <tr>\n",
       "      <th>15</th>\n",
       "      <td>ground truth</td>\n",
       "      <td>100.0 +- 0.0</td>\n",
       "      <td>99.7 +- 0.6</td>\n",
       "      <td>100.0 +- 0.0</td>\n",
       "      <td>100.0 +- 0.0</td>\n",
       "      <td>100.0 +- 0.0</td>\n",
       "      <td>100.0 +- 0.0</td>\n",
       "      <td>88.9 +- 6.6</td>\n",
       "      <td>67.4 +- 3.0</td>\n",
       "      <td>39.2 +- 3.6</td>\n",
       "      <td>207.9 +- 6.3</td>\n",
       "      <td>49.6 +- 3.3</td>\n",
       "      <td>100.0</td>\n",
       "    </tr>\n",
       "    <tr>\n",
       "      <th>9</th>\n",
       "      <td>LSTM 50</td>\n",
       "      <td>51.3 +- 1.1</td>\n",
       "      <td>82.0 +- 0.6</td>\n",
       "      <td>21.8 +- 0.9</td>\n",
       "      <td>28.2 +- 0.8</td>\n",
       "      <td>22.7 +- 0.8</td>\n",
       "      <td>27.8 +- 1.9</td>\n",
       "      <td>2.3 +- 6.2</td>\n",
       "      <td>-67.3 +- 3.0</td>\n",
       "      <td>-39.2 +- 3.6</td>\n",
       "      <td>153.3 +- 8.1</td>\n",
       "      <td>-49.1 +- 3.2</td>\n",
       "      <td>51.3</td>\n",
       "    </tr>\n",
       "    <tr>\n",
       "      <th>5</th>\n",
       "      <td>CNN 20</td>\n",
       "      <td>50.9 +- 1.2</td>\n",
       "      <td>82.0 +- 0.6</td>\n",
       "      <td>21.5 +- 0.9</td>\n",
       "      <td>28.1 +- 0.7</td>\n",
       "      <td>22.5 +- 0.8</td>\n",
       "      <td>27.4 +- 1.8</td>\n",
       "      <td>4.6 +- 6.5</td>\n",
       "      <td>-67.1 +- 3.0</td>\n",
       "      <td>-39.2 +- 3.6</td>\n",
       "      <td>150.7 +- 8.1</td>\n",
       "      <td>-49.1 +- 3.2</td>\n",
       "      <td>50.9</td>\n",
       "    </tr>\n",
       "    <tr>\n",
       "      <th>8</th>\n",
       "      <td>LSTM 20</td>\n",
       "      <td>50.9 +- 1.1</td>\n",
       "      <td>82.0 +- 0.6</td>\n",
       "      <td>21.1 +- 0.9</td>\n",
       "      <td>28.3 +- 0.8</td>\n",
       "      <td>22.7 +- 0.8</td>\n",
       "      <td>27.8 +- 1.8</td>\n",
       "      <td>5.1 +- 6.1</td>\n",
       "      <td>-67.4 +- 3.0</td>\n",
       "      <td>-39.1 +- 3.6</td>\n",
       "      <td>150.5 +- 7.9</td>\n",
       "      <td>-49.1 +- 3.2</td>\n",
       "      <td>50.9</td>\n",
       "    </tr>\n",
       "    <tr>\n",
       "      <th>12</th>\n",
       "      <td>Logistic Regression</td>\n",
       "      <td>50.8 +- 1.2</td>\n",
       "      <td>82.0 +- 0.6</td>\n",
       "      <td>21.2 +- 0.9</td>\n",
       "      <td>28.6 +- 0.8</td>\n",
       "      <td>22.8 +- 0.8</td>\n",
       "      <td>29.1 +- 1.8</td>\n",
       "      <td>10.6 +- 6.8</td>\n",
       "      <td>-67.4 +- 3.0</td>\n",
       "      <td>-39.1 +- 3.6</td>\n",
       "      <td>144.9 +- 8.3</td>\n",
       "      <td>-49.1 +- 3.2</td>\n",
       "      <td>50.8</td>\n",
       "    </tr>\n",
       "    <tr>\n",
       "      <th>10</th>\n",
       "      <td>LSTM 100</td>\n",
       "      <td>50.7 +- 1.1</td>\n",
       "      <td>81.9 +- 0.6</td>\n",
       "      <td>20.6 +- 0.9</td>\n",
       "      <td>28.0 +- 0.8</td>\n",
       "      <td>22.4 +- 0.8</td>\n",
       "      <td>27.4 +- 1.9</td>\n",
       "      <td>8.8 +- 6.6</td>\n",
       "      <td>-67.4 +- 3.0</td>\n",
       "      <td>-39.2 +- 3.6</td>\n",
       "      <td>146.8 +- 8.4</td>\n",
       "      <td>-49.1 +- 3.2</td>\n",
       "      <td>50.7</td>\n",
       "    </tr>\n",
       "    <tr>\n",
       "      <th>7</th>\n",
       "      <td>CNN 100</td>\n",
       "      <td>50.3 +- 1.2</td>\n",
       "      <td>82.2 +- 0.6</td>\n",
       "      <td>23.3 +- 1.0</td>\n",
       "      <td>28.3 +- 0.7</td>\n",
       "      <td>22.6 +- 0.8</td>\n",
       "      <td>28.0 +- 1.9</td>\n",
       "      <td>20.4 +- 7.3</td>\n",
       "      <td>-65.5 +- 3.0</td>\n",
       "      <td>-39.2 +- 3.6</td>\n",
       "      <td>133.4 +- 8.8</td>\n",
       "      <td>-49.1 +- 3.2</td>\n",
       "      <td>50.3</td>\n",
       "    </tr>\n",
       "    <tr>\n",
       "      <th>6</th>\n",
       "      <td>CNN 50</td>\n",
       "      <td>50.1 +- 1.2</td>\n",
       "      <td>82.2 +- 0.6</td>\n",
       "      <td>21.1 +- 0.9</td>\n",
       "      <td>28.6 +- 0.7</td>\n",
       "      <td>22.5 +- 0.8</td>\n",
       "      <td>28.5 +- 1.8</td>\n",
       "      <td>29.8 +- 7.5</td>\n",
       "      <td>-67.0 +- 3.0</td>\n",
       "      <td>-39.2 +- 3.6</td>\n",
       "      <td>125.5 +- 8.8</td>\n",
       "      <td>-49.1 +- 3.2</td>\n",
       "      <td>50.1</td>\n",
       "    </tr>\n",
       "    <tr>\n",
       "      <th>11</th>\n",
       "      <td>Linear SVM</td>\n",
       "      <td>48.5 +- 1.2</td>\n",
       "      <td>82.5 +- 0.5</td>\n",
       "      <td>27.6 +- 0.9</td>\n",
       "      <td>28.5 +- 0.6</td>\n",
       "      <td>23.0 +- 0.7</td>\n",
       "      <td>28.5 +- 1.8</td>\n",
       "      <td>42.1 +- 7.7</td>\n",
       "      <td>-60.4 +- 3.0</td>\n",
       "      <td>-37.6 +- 3.5</td>\n",
       "      <td>100.4 +- 8.7</td>\n",
       "      <td>-44.5 +- 3.2</td>\n",
       "      <td>48.5</td>\n",
       "    </tr>\n",
       "    <tr>\n",
       "      <th>14</th>\n",
       "      <td>Random Forest</td>\n",
       "      <td>48.3 +- 1.1</td>\n",
       "      <td>82.5 +- 0.5</td>\n",
       "      <td>28.0 +- 0.9</td>\n",
       "      <td>28.2 +- 0.6</td>\n",
       "      <td>23.4 +- 0.7</td>\n",
       "      <td>27.2 +- 1.7</td>\n",
       "      <td>32.1 +- 6.5</td>\n",
       "      <td>-56.3 +- 2.8</td>\n",
       "      <td>-36.7 +- 3.5</td>\n",
       "      <td>105.2 +- 7.6</td>\n",
       "      <td>-44.3 +- 3.2</td>\n",
       "      <td>48.3</td>\n",
       "    </tr>\n",
       "    <tr>\n",
       "      <th>2</th>\n",
       "      <td>always N2 sleep</td>\n",
       "      <td>46.6 +- 1.2</td>\n",
       "      <td>79.2 +- 0.6</td>\n",
       "      <td>9.9 +- 0.6</td>\n",
       "      <td>20.8 +- 0.6</td>\n",
       "      <td>13.2 +- 0.6</td>\n",
       "      <td>0.0 +- 0.0</td>\n",
       "      <td>-88.9 +- 6.6</td>\n",
       "      <td>-67.4 +- 3.0</td>\n",
       "      <td>-39.2 +- 3.6</td>\n",
       "      <td>244.6 +- 8.1</td>\n",
       "      <td>-49.1 +- 3.2</td>\n",
       "      <td>46.6</td>\n",
       "    </tr>\n",
       "    <tr>\n",
       "      <th>13</th>\n",
       "      <td>Perception</td>\n",
       "      <td>30.8 +- 1.0</td>\n",
       "      <td>80.8 +- 0.5</td>\n",
       "      <td>27.8 +- 0.8</td>\n",
       "      <td>26.2 +- 0.8</td>\n",
       "      <td>19.9 +- 0.7</td>\n",
       "      <td>13.3 +- 1.2</td>\n",
       "      <td>-62.4 +- 5.9</td>\n",
       "      <td>-42.8 +- 4.1</td>\n",
       "      <td>139.0 +- 8.2</td>\n",
       "      <td>-12.0 +- 7.6</td>\n",
       "      <td>-21.8 +- 3.4</td>\n",
       "      <td>30.8</td>\n",
       "    </tr>\n",
       "    <tr>\n",
       "      <th>0</th>\n",
       "      <td>always wake</td>\n",
       "      <td>19.3 +- 1.3</td>\n",
       "      <td>79.2 +- 0.6</td>\n",
       "      <td>4.2 +- 0.6</td>\n",
       "      <td>20.8 +- 0.6</td>\n",
       "      <td>6.6 +- 0.6</td>\n",
       "      <td>0.0 +- 0.0</td>\n",
       "      <td>363.5 +- 8.9</td>\n",
       "      <td>-67.4 +- 3.0</td>\n",
       "      <td>-39.2 +- 3.6</td>\n",
       "      <td>-207.9 +- 6.3</td>\n",
       "      <td>-49.1 +- 3.2</td>\n",
       "      <td>19.3</td>\n",
       "    </tr>\n",
       "    <tr>\n",
       "      <th>4</th>\n",
       "      <td>always REM sleep</td>\n",
       "      <td>15.1 +- 0.8</td>\n",
       "      <td>79.4 +- 0.5</td>\n",
       "      <td>3.3 +- 0.6</td>\n",
       "      <td>20.2 +- 0.5</td>\n",
       "      <td>5.4 +- 0.6</td>\n",
       "      <td>0.0 +- 0.0</td>\n",
       "      <td>-88.9 +- 6.6</td>\n",
       "      <td>385.1 +- 8.9</td>\n",
       "      <td>-39.2 +- 3.6</td>\n",
       "      <td>-207.9 +- 6.3</td>\n",
       "      <td>-49.1 +- 3.2</td>\n",
       "      <td>15.1</td>\n",
       "    </tr>\n",
       "    <tr>\n",
       "      <th>1</th>\n",
       "      <td>always N1 sleep</td>\n",
       "      <td>11.1 +- 0.8</td>\n",
       "      <td>79.4 +- 0.5</td>\n",
       "      <td>2.5 +- 0.6</td>\n",
       "      <td>20.2 +- 0.5</td>\n",
       "      <td>4.1 +- 0.6</td>\n",
       "      <td>0.0 +- 0.0</td>\n",
       "      <td>-88.9 +- 6.6</td>\n",
       "      <td>-67.4 +- 3.0</td>\n",
       "      <td>-39.2 +- 3.6</td>\n",
       "      <td>-207.9 +- 6.3</td>\n",
       "      <td>403.4 +- 9.3</td>\n",
       "      <td>11.1</td>\n",
       "    </tr>\n",
       "    <tr>\n",
       "      <th>3</th>\n",
       "      <td>always N3 sleep</td>\n",
       "      <td>9.0 +- 0.9</td>\n",
       "      <td>79.6 +- 0.5</td>\n",
       "      <td>2.0 +- 0.6</td>\n",
       "      <td>19.1 +- 0.7</td>\n",
       "      <td>3.3 +- 0.6</td>\n",
       "      <td>0.0 +- 0.0</td>\n",
       "      <td>-88.9 +- 6.6</td>\n",
       "      <td>-67.4 +- 3.0</td>\n",
       "      <td>413.3 +- 9.9</td>\n",
       "      <td>-207.9 +- 6.3</td>\n",
       "      <td>-49.1 +- 3.2</td>\n",
       "      <td>9.0</td>\n",
       "    </tr>\n",
       "  </tbody>\n",
       "</table>\n",
       "</div>"
      ],
      "text/plain": [
       "             algorithms      accuracy  specificity     precision  \\\n",
       "15         ground truth  100.0 +- 0.0  99.7 +- 0.6  100.0 +- 0.0   \n",
       "9               LSTM 50   51.3 +- 1.1  82.0 +- 0.6   21.8 +- 0.9   \n",
       "5                CNN 20   50.9 +- 1.2  82.0 +- 0.6   21.5 +- 0.9   \n",
       "8               LSTM 20   50.9 +- 1.1  82.0 +- 0.6   21.1 +- 0.9   \n",
       "12  Logistic Regression   50.8 +- 1.2  82.0 +- 0.6   21.2 +- 0.9   \n",
       "10             LSTM 100   50.7 +- 1.1  81.9 +- 0.6   20.6 +- 0.9   \n",
       "7               CNN 100   50.3 +- 1.2  82.2 +- 0.6   23.3 +- 1.0   \n",
       "6                CNN 50   50.1 +- 1.2  82.2 +- 0.6   21.1 +- 0.9   \n",
       "11           Linear SVM   48.5 +- 1.2  82.5 +- 0.5   27.6 +- 0.9   \n",
       "14        Random Forest   48.3 +- 1.1  82.5 +- 0.5   28.0 +- 0.9   \n",
       "2       always N2 sleep   46.6 +- 1.2  79.2 +- 0.6    9.9 +- 0.6   \n",
       "13           Perception   30.8 +- 1.0  80.8 +- 0.5   27.8 +- 0.8   \n",
       "0           always wake   19.3 +- 1.3  79.2 +- 0.6    4.2 +- 0.6   \n",
       "4      always REM sleep   15.1 +- 0.8  79.4 +- 0.5    3.3 +- 0.6   \n",
       "1       always N1 sleep   11.1 +- 0.8  79.4 +- 0.5    2.5 +- 0.6   \n",
       "3       always N3 sleep    9.0 +- 0.9  79.6 +- 0.5    2.0 +- 0.6   \n",
       "\n",
       "          recall      f1-score   cohen-kappa          Wake     REM sleep  \\\n",
       "15  100.0 +- 0.0  100.0 +- 0.0  100.0 +- 0.0   88.9 +- 6.6   67.4 +- 3.0   \n",
       "9    28.2 +- 0.8   22.7 +- 0.8   27.8 +- 1.9    2.3 +- 6.2  -67.3 +- 3.0   \n",
       "5    28.1 +- 0.7   22.5 +- 0.8   27.4 +- 1.8    4.6 +- 6.5  -67.1 +- 3.0   \n",
       "8    28.3 +- 0.8   22.7 +- 0.8   27.8 +- 1.8    5.1 +- 6.1  -67.4 +- 3.0   \n",
       "12   28.6 +- 0.8   22.8 +- 0.8   29.1 +- 1.8   10.6 +- 6.8  -67.4 +- 3.0   \n",
       "10   28.0 +- 0.8   22.4 +- 0.8   27.4 +- 1.9    8.8 +- 6.6  -67.4 +- 3.0   \n",
       "7    28.3 +- 0.7   22.6 +- 0.8   28.0 +- 1.9   20.4 +- 7.3  -65.5 +- 3.0   \n",
       "6    28.6 +- 0.7   22.5 +- 0.8   28.5 +- 1.8   29.8 +- 7.5  -67.0 +- 3.0   \n",
       "11   28.5 +- 0.6   23.0 +- 0.7   28.5 +- 1.8   42.1 +- 7.7  -60.4 +- 3.0   \n",
       "14   28.2 +- 0.6   23.4 +- 0.7   27.2 +- 1.7   32.1 +- 6.5  -56.3 +- 2.8   \n",
       "2    20.8 +- 0.6   13.2 +- 0.6    0.0 +- 0.0  -88.9 +- 6.6  -67.4 +- 3.0   \n",
       "13   26.2 +- 0.8   19.9 +- 0.7   13.3 +- 1.2  -62.4 +- 5.9  -42.8 +- 4.1   \n",
       "0    20.8 +- 0.6    6.6 +- 0.6    0.0 +- 0.0  363.5 +- 8.9  -67.4 +- 3.0   \n",
       "4    20.2 +- 0.5    5.4 +- 0.6    0.0 +- 0.0  -88.9 +- 6.6  385.1 +- 8.9   \n",
       "1    20.2 +- 0.5    4.1 +- 0.6    0.0 +- 0.0  -88.9 +- 6.6  -67.4 +- 3.0   \n",
       "3    19.1 +- 0.7    3.3 +- 0.6    0.0 +- 0.0  -88.9 +- 6.6  -67.4 +- 3.0   \n",
       "\n",
       "        N3 sleep       N2 sleep      N1 sleep  acc_for_sort  \n",
       "15   39.2 +- 3.6   207.9 +- 6.3   49.6 +- 3.3         100.0  \n",
       "9   -39.2 +- 3.6   153.3 +- 8.1  -49.1 +- 3.2          51.3  \n",
       "5   -39.2 +- 3.6   150.7 +- 8.1  -49.1 +- 3.2          50.9  \n",
       "8   -39.1 +- 3.6   150.5 +- 7.9  -49.1 +- 3.2          50.9  \n",
       "12  -39.1 +- 3.6   144.9 +- 8.3  -49.1 +- 3.2          50.8  \n",
       "10  -39.2 +- 3.6   146.8 +- 8.4  -49.1 +- 3.2          50.7  \n",
       "7   -39.2 +- 3.6   133.4 +- 8.8  -49.1 +- 3.2          50.3  \n",
       "6   -39.2 +- 3.6   125.5 +- 8.8  -49.1 +- 3.2          50.1  \n",
       "11  -37.6 +- 3.5   100.4 +- 8.7  -44.5 +- 3.2          48.5  \n",
       "14  -36.7 +- 3.5   105.2 +- 7.6  -44.3 +- 3.2          48.3  \n",
       "2   -39.2 +- 3.6   244.6 +- 8.1  -49.1 +- 3.2          46.6  \n",
       "13  139.0 +- 8.2   -12.0 +- 7.6  -21.8 +- 3.4          30.8  \n",
       "0   -39.2 +- 3.6  -207.9 +- 6.3  -49.1 +- 3.2          19.3  \n",
       "4   -39.2 +- 3.6  -207.9 +- 6.3  -49.1 +- 3.2          15.1  \n",
       "1   -39.2 +- 3.6  -207.9 +- 6.3  403.4 +- 9.3          11.1  \n",
       "3   413.3 +- 9.9  -207.9 +- 6.3  -49.1 +- 3.2           9.0  "
      ]
     },
     "execution_count": 116,
     "metadata": {},
     "output_type": "execute_result"
    }
   ],
   "source": [
    "stage_5_df[['algorithms', \"accuracy\", \"specificity\", \"precision\", \"recall\", \"f1-score\", \"cohen-kappa\",\"Wake\",\"REM sleep\",\"N3 sleep\",\"N2 sleep\", \"N1 sleep\",\"acc_for_sort\"]].sort_values(by=\"acc_for_sort\", ascending=False)"
   ]
  },
  {
   "cell_type": "code",
   "execution_count": 147,
   "metadata": {
    "scrolled": false
   },
   "outputs": [
    {
     "name": "stdout",
     "output_type": "stream",
     "text": [
      "\\begin{tabular}{llllllllllll}\n",
      "\\toprule\n",
      "          algorithms &      accuracy &   specificity &     precision &        recall &      f1-score &   cohen-kappa &      N1 sleep &       N2 sleep &      N3 sleep &     REM sleep &           Wake \\\\\n",
      "\\midrule\n",
      "        ground truth &  100.0 +- 0.0 &  100.0 +- 0.0 &  100.0 +- 0.0 &  100.0 +- 0.0 &  100.0 +- 0.0 &  100.0 +- 0.0 &   49.4 +- 3.2 &   208.7 +- 6.2 &   39.3 +- 3.6 &   67.6 +- 3.0 &   187.4 +- 8.6 \\\\\n",
      "             LSTM 50 &   56.9 +- 1.0 &   85.7 +- 0.4 &   26.1 +- 0.8 &   32.2 +- 0.6 &   27.1 +- 0.7 &   46.9 +- 1.7 &  -49.4 +- 3.2 &   169.2 +- 8.5 &  -39.3 +- 3.6 &  -67.6 +- 3.0 &   -12.9 +- 7.5 \\\\\n",
      "            LSTM 100 &   56.9 +- 1.0 &   85.7 +- 0.4 &   25.3 +- 0.7 &   32.3 +- 0.6 &   27.1 +- 0.7 &   47.1 +- 1.7 &  -49.4 +- 3.2 &   159.7 +- 8.7 &  -39.3 +- 3.6 &  -67.6 +- 3.0 &    -3.3 +- 7.5 \\\\\n",
      "             CNN 100 &   56.8 +- 1.1 &   85.8 +- 0.3 &   27.7 +- 0.9 &   32.2 +- 0.5 &   27.2 +- 0.6 &   46.9 +- 1.7 &  -49.4 +- 3.2 &   144.7 +- 9.1 &  -39.3 +- 3.6 &  -65.6 +- 3.0 &     9.6 +- 8.3 \\\\\n",
      "              CNN 50 &   56.5 +- 1.1 &   85.7 +- 0.3 &   25.4 +- 0.7 &   32.0 +- 0.5 &   26.7 +- 0.6 &   46.0 +- 1.7 &  -49.4 +- 3.2 &   138.2 +- 9.2 &  -39.3 +- 3.6 &  -67.3 +- 3.0 &    17.8 +- 8.5 \\\\\n",
      " Logistic Regression &   56.1 +- 1.1 &   85.5 +- 0.4 &   25.2 +- 0.7 &   31.8 +- 0.6 &   26.7 +- 0.7 &   45.9 +- 1.7 &  -49.4 +- 3.2 &   163.3 +- 8.8 &  -39.2 +- 3.6 &  -67.6 +- 3.0 &    -7.1 +- 8.0 \\\\\n",
      "             LSTM 20 &   56.0 +- 1.0 &   85.5 +- 0.4 &   25.2 +- 0.7 &   31.7 +- 0.6 &   26.6 +- 0.7 &   45.1 +- 1.7 &  -49.4 +- 3.2 &   170.0 +- 8.4 &  -39.2 +- 3.6 &  -67.6 +- 3.0 &   -13.7 +- 7.4 \\\\\n",
      "              CNN 20 &   55.9 +- 1.0 &   85.5 +- 0.3 &   25.5 +- 0.7 &   31.5 +- 0.5 &   26.5 +- 0.6 &   44.8 +- 1.7 &  -49.4 +- 3.2 &   170.4 +- 8.6 &  -39.3 +- 3.6 &  -67.4 +- 3.0 &   -14.4 +- 7.8 \\\\\n",
      "          Linear SVM &   54.8 +- 1.1 &   85.6 +- 0.3 &   31.3 +- 0.7 &   31.1 +- 0.5 &   26.8 +- 0.5 &   43.8 +- 1.7 &  -44.5 +- 3.2 &   114.3 +- 9.2 &  -37.7 +- 3.6 &  -60.3 +- 3.0 &    28.2 +- 8.8 \\\\\n",
      "       Random Forest &   54.4 +- 1.0 &   85.6 +- 0.3 &   31.7 +- 0.8 &   31.1 +- 0.4 &   27.2 +- 0.5 &   42.7 +- 1.6 &  -44.3 +- 3.3 &   120.8 +- 8.0 &  -36.7 +- 3.5 &  -56.0 +- 2.8 &    16.2 +- 7.6 \\\\\n",
      "     always N2 sleep &   38.0 +- 1.0 &   79.4 +- 0.4 &    7.9 +- 0.3 &   20.6 +- 0.4 &   11.2 +- 0.3 &    0.0 +- 0.0 &  -49.4 +- 3.2 &   343.7 +- 8.3 &  -39.3 +- 3.6 &  -67.6 +- 3.0 &  -187.4 +- 8.6 \\\\\n",
      "         always wake &   33.5 +- 1.4 &   79.4 +- 0.4 &    7.0 +- 0.4 &   20.6 +- 0.4 &   10.1 +- 0.4 &    0.0 +- 0.0 &  -49.4 +- 3.2 &  -208.7 +- 6.2 &  -39.3 +- 3.6 &  -67.6 +- 3.0 &   365.1 +- 8.7 \\\\\n",
      "          Perception &   32.9 +- 0.9 &   82.9 +- 0.2 &   31.0 +- 0.5 &   29.1 +- 0.7 &   23.2 +- 0.6 &   21.8 +- 1.4 &  -13.3 +- 3.5 &     5.9 +- 8.1 &  151.6 +- 8.3 &  -26.4 +- 4.5 &  -117.8 +- 7.6 \\\\\n",
      "    always REM sleep &   12.3 +- 0.5 &   79.6 +- 0.2 &    2.5 +- 0.1 &   20.0 +- 0.3 &    4.3 +- 0.2 &    0.0 +- 0.0 &  -49.4 +- 3.2 &  -208.7 +- 6.2 &  -39.3 +- 3.6 &  484.8 +- 8.5 &  -187.4 +- 8.6 \\\\\n",
      "     always N1 sleep &    9.0 +- 0.6 &   79.6 +- 0.2 &    1.8 +- 0.1 &   20.0 +- 0.3 &    3.3 +- 0.2 &    0.0 +- 0.0 &  503.0 +- 8.8 &  -208.7 +- 6.2 &  -39.3 +- 3.6 &  -67.6 +- 3.0 &  -187.4 +- 8.6 \\\\\n",
      "     always N3 sleep &    7.2 +- 0.7 &   79.8 +- 0.1 &    1.4 +- 0.1 &   18.9 +- 0.5 &    2.6 +- 0.2 &    0.0 +- 0.0 &  -49.4 +- 3.2 &  -208.7 +- 6.2 &  513.2 +- 9.4 &  -67.6 +- 3.0 &  -187.4 +- 8.6 \\\\\n",
      "\\bottomrule\n",
      "\\end{tabular}\n",
      "\n"
     ]
    }
   ],
   "source": [
    "print(stage_5_df[stage_5_df['algorithms'].isin(bls)].sort_values(by=\"acc_for_sort\", ascending=False)[stages_clf_columns].to_latex(index=False))"
   ]
  },
  {
   "cell_type": "markdown",
   "metadata": {},
   "source": [
    "### Task 4 5 stages only HRV"
   ]
  },
  {
   "cell_type": "code",
   "execution_count": 117,
   "metadata": {},
   "outputs": [
    {
     "name": "stdout",
     "output_type": "stream",
     "text": [
      "summary csv is loaded\n",
      "Pickle file is loaded\n"
     ]
    }
   ],
   "source": [
    "num_classes = 5\n",
    "stages_clf_columns= ['algorithms', \"accuracy\", \"specificity\", \"precision\", \"recall\", \"f1-score\", \"cohen-kappa\", \"N1 sleep\",\"N2 sleep\",\"N3 sleep\",\"REM sleep\",\"Wake\"]\n",
    "stage_5_df = load_task(sub_folder,num_classes=num_classes, feature_type='HRV', stages_clf_columns=stages_clf_columns)\n",
    "readable_5stages_algs_dict= {\"stages\":\"ground truth\",\"always_0\":\"always wake\", \"always_1\":\"always N1 sleep\", \"always_2\":\"always N2 sleep\", \"always_3\":\"always N3 sleep\", \"always_4\":\"always REM sleep\", \"CNN_20_HRV\": \"CNN 20\", \"CNN_50_HRV\":\"CNN 50\", \"CNN_100_HRV\":\"CNN 100\", \"LSTM_20_HRV\":\"LSTM 20\", \"LSTM_50_HRV\":\"LSTM 50\",\"LSTM_100_HRV\":\"LSTM 100\", \"SGD_hinge\":\"Linear SVM\", \"SGD_log\":\"Logistic Regression\", \"SGD_perceptron\":\"Perception\", \"Random_forest_300\": \"Random Forest\"}\n",
    "rreadable_5stages_df = pd.DataFrame(list(readable_5stages_algs_dict.items()), columns=[\"old_alg_name\",\"new_alg_name\"])\n",
    "bls = readable_5stages_df.new_alg_name.unique().tolist()"
   ]
  },
  {
   "cell_type": "code",
   "execution_count": 118,
   "metadata": {},
   "outputs": [],
   "source": [
    "# print(stage_5_df)\n",
    "# print(readable_5stages_df)"
   ]
  },
  {
   "cell_type": "code",
   "execution_count": 119,
   "metadata": {},
   "outputs": [],
   "source": [
    "stage_5_df['algorithms'] = stage_5_df['algorithms'].apply(lambda x: readable_5stages_algs_dict[x])\n",
    "stage_5_df['acc_for_sort'] = stage_5_df['accuracy'].apply(lambda x: np.float(x.split(\"+-\")[0]))"
   ]
  },
  {
   "cell_type": "code",
   "execution_count": 120,
   "metadata": {},
   "outputs": [
    {
     "data": {
      "text/html": [
       "<div>\n",
       "<style scoped>\n",
       "    .dataframe tbody tr th:only-of-type {\n",
       "        vertical-align: middle;\n",
       "    }\n",
       "\n",
       "    .dataframe tbody tr th {\n",
       "        vertical-align: top;\n",
       "    }\n",
       "\n",
       "    .dataframe thead th {\n",
       "        text-align: right;\n",
       "    }\n",
       "</style>\n",
       "<table border=\"1\" class=\"dataframe\">\n",
       "  <thead>\n",
       "    <tr style=\"text-align: right;\">\n",
       "      <th></th>\n",
       "      <th>algorithms</th>\n",
       "      <th>accuracy</th>\n",
       "      <th>specificity</th>\n",
       "      <th>precision</th>\n",
       "      <th>recall</th>\n",
       "      <th>f1-score</th>\n",
       "      <th>cohen-kappa</th>\n",
       "      <th>Wake</th>\n",
       "      <th>REM sleep</th>\n",
       "      <th>N3 sleep</th>\n",
       "      <th>N2 sleep</th>\n",
       "      <th>N1 sleep</th>\n",
       "      <th>acc_for_sort</th>\n",
       "    </tr>\n",
       "  </thead>\n",
       "  <tbody>\n",
       "    <tr>\n",
       "      <th>15</th>\n",
       "      <td>ground truth</td>\n",
       "      <td>100.0 +- 0.0</td>\n",
       "      <td>99.7 +- 0.6</td>\n",
       "      <td>100.0 +- 0.0</td>\n",
       "      <td>100.0 +- 0.0</td>\n",
       "      <td>100.0 +- 0.0</td>\n",
       "      <td>100.0 +- 0.0</td>\n",
       "      <td>88.9 +- 6.6</td>\n",
       "      <td>67.4 +- 3.0</td>\n",
       "      <td>39.2 +- 3.6</td>\n",
       "      <td>207.9 +- 6.3</td>\n",
       "      <td>49.6 +- 3.3</td>\n",
       "      <td>100.0</td>\n",
       "    </tr>\n",
       "    <tr>\n",
       "      <th>5</th>\n",
       "      <td>CNN 20</td>\n",
       "      <td>53.8 +- 1.3</td>\n",
       "      <td>85.0 +- 0.6</td>\n",
       "      <td>38.9 +- 1.3</td>\n",
       "      <td>36.7 +- 0.9</td>\n",
       "      <td>32.1 +- 1.0</td>\n",
       "      <td>28.7 +- 1.8</td>\n",
       "      <td>18.8 +- 8.2</td>\n",
       "      <td>-9.4 +- 5.4</td>\n",
       "      <td>-39.0 +- 3.6</td>\n",
       "      <td>74.0 +- 8.7</td>\n",
       "      <td>-44.4 +- 3.0</td>\n",
       "      <td>53.8</td>\n",
       "    </tr>\n",
       "    <tr>\n",
       "      <th>7</th>\n",
       "      <td>CNN 100</td>\n",
       "      <td>52.4 +- 1.3</td>\n",
       "      <td>85.1 +- 0.6</td>\n",
       "      <td>42.8 +- 1.4</td>\n",
       "      <td>37.6 +- 1.0</td>\n",
       "      <td>33.6 +- 1.1</td>\n",
       "      <td>26.8 +- 1.9</td>\n",
       "      <td>28.9 +- 9.0</td>\n",
       "      <td>-15.7 +- 4.5</td>\n",
       "      <td>-29.8 +- 3.5</td>\n",
       "      <td>57.6 +- 8.4</td>\n",
       "      <td>-41.0 +- 3.1</td>\n",
       "      <td>52.4</td>\n",
       "    </tr>\n",
       "    <tr>\n",
       "      <th>6</th>\n",
       "      <td>CNN 50</td>\n",
       "      <td>50.4 +- 1.3</td>\n",
       "      <td>84.6 +- 0.6</td>\n",
       "      <td>39.2 +- 1.4</td>\n",
       "      <td>35.2 +- 0.9</td>\n",
       "      <td>30.0 +- 1.1</td>\n",
       "      <td>22.9 +- 1.9</td>\n",
       "      <td>62.0 +- 10.4</td>\n",
       "      <td>-30.8 +- 4.8</td>\n",
       "      <td>-36.4 +- 3.5</td>\n",
       "      <td>46.2 +- 9.8</td>\n",
       "      <td>-40.9 +- 3.0</td>\n",
       "      <td>50.4</td>\n",
       "    </tr>\n",
       "    <tr>\n",
       "      <th>8</th>\n",
       "      <td>LSTM 20</td>\n",
       "      <td>49.3 +- 1.2</td>\n",
       "      <td>81.8 +- 0.5</td>\n",
       "      <td>27.8 +- 1.1</td>\n",
       "      <td>27.8 +- 0.7</td>\n",
       "      <td>22.5 +- 0.8</td>\n",
       "      <td>16.6 +- 1.5</td>\n",
       "      <td>-9.7 +- 8.8</td>\n",
       "      <td>-58.9 +- 3.1</td>\n",
       "      <td>-39.2 +- 3.6</td>\n",
       "      <td>155.7 +- 9.7</td>\n",
       "      <td>-48.0 +- 3.1</td>\n",
       "      <td>49.3</td>\n",
       "    </tr>\n",
       "    <tr>\n",
       "      <th>2</th>\n",
       "      <td>always N2 sleep</td>\n",
       "      <td>46.6 +- 1.2</td>\n",
       "      <td>79.2 +- 0.6</td>\n",
       "      <td>9.9 +- 0.6</td>\n",
       "      <td>20.8 +- 0.6</td>\n",
       "      <td>13.2 +- 0.6</td>\n",
       "      <td>0.0 +- 0.0</td>\n",
       "      <td>-88.9 +- 6.6</td>\n",
       "      <td>-67.4 +- 3.0</td>\n",
       "      <td>-39.2 +- 3.6</td>\n",
       "      <td>244.6 +- 8.1</td>\n",
       "      <td>-49.1 +- 3.2</td>\n",
       "      <td>46.6</td>\n",
       "    </tr>\n",
       "    <tr>\n",
       "      <th>10</th>\n",
       "      <td>LSTM 100</td>\n",
       "      <td>46.6 +- 1.2</td>\n",
       "      <td>80.9 +- 0.5</td>\n",
       "      <td>20.0 +- 1.0</td>\n",
       "      <td>24.7 +- 0.7</td>\n",
       "      <td>19.0 +- 0.7</td>\n",
       "      <td>10.4 +- 1.5</td>\n",
       "      <td>-5.9 +- 8.6</td>\n",
       "      <td>-65.8 +- 3.0</td>\n",
       "      <td>-39.2 +- 3.6</td>\n",
       "      <td>160.0 +- 9.6</td>\n",
       "      <td>-49.1 +- 3.2</td>\n",
       "      <td>46.6</td>\n",
       "    </tr>\n",
       "    <tr>\n",
       "      <th>9</th>\n",
       "      <td>LSTM 50</td>\n",
       "      <td>45.0 +- 1.3</td>\n",
       "      <td>81.8 +- 0.6</td>\n",
       "      <td>20.1 +- 1.0</td>\n",
       "      <td>27.4 +- 0.7</td>\n",
       "      <td>20.1 +- 0.8</td>\n",
       "      <td>13.8 +- 1.5</td>\n",
       "      <td>70.6 +- 11.9</td>\n",
       "      <td>-66.7 +- 3.0</td>\n",
       "      <td>-39.2 +- 3.6</td>\n",
       "      <td>84.3 +- 12.3</td>\n",
       "      <td>-49.0 +- 3.2</td>\n",
       "      <td>45.0</td>\n",
       "    </tr>\n",
       "    <tr>\n",
       "      <th>12</th>\n",
       "      <td>Logistic Regression</td>\n",
       "      <td>44.4 +- 1.4</td>\n",
       "      <td>81.6 +- 0.6</td>\n",
       "      <td>20.8 +- 1.0</td>\n",
       "      <td>27.1 +- 0.7</td>\n",
       "      <td>19.9 +- 0.8</td>\n",
       "      <td>11.7 +- 1.3</td>\n",
       "      <td>67.6 +- 13.8</td>\n",
       "      <td>-67.3 +- 3.0</td>\n",
       "      <td>-39.2 +- 3.6</td>\n",
       "      <td>87.1 +- 13.9</td>\n",
       "      <td>-48.2 +- 3.2</td>\n",
       "      <td>44.4</td>\n",
       "    </tr>\n",
       "    <tr>\n",
       "      <th>14</th>\n",
       "      <td>Random Forest</td>\n",
       "      <td>43.1 +- 1.3</td>\n",
       "      <td>81.8 +- 0.5</td>\n",
       "      <td>28.5 +- 1.1</td>\n",
       "      <td>27.0 +- 0.6</td>\n",
       "      <td>20.4 +- 0.7</td>\n",
       "      <td>10.2 +- 1.1</td>\n",
       "      <td>83.9 +- 12.2</td>\n",
       "      <td>-61.7 +- 3.1</td>\n",
       "      <td>-38.8 +- 3.6</td>\n",
       "      <td>62.8 +- 12.1</td>\n",
       "      <td>-46.1 +- 3.1</td>\n",
       "      <td>43.1</td>\n",
       "    </tr>\n",
       "    <tr>\n",
       "      <th>11</th>\n",
       "      <td>Linear SVM</td>\n",
       "      <td>36.5 +- 1.6</td>\n",
       "      <td>81.4 +- 0.6</td>\n",
       "      <td>22.8 +- 1.1</td>\n",
       "      <td>25.7 +- 0.7</td>\n",
       "      <td>17.4 +- 0.9</td>\n",
       "      <td>8.0 +- 1.2</td>\n",
       "      <td>163.5 +- 15.4</td>\n",
       "      <td>-62.2 +- 3.2</td>\n",
       "      <td>-31.5 +- 4.1</td>\n",
       "      <td>-23.8 +- 14.3</td>\n",
       "      <td>-45.9 +- 3.1</td>\n",
       "      <td>36.5</td>\n",
       "    </tr>\n",
       "    <tr>\n",
       "      <th>13</th>\n",
       "      <td>Perception</td>\n",
       "      <td>22.5 +- 1.5</td>\n",
       "      <td>80.7 +- 0.5</td>\n",
       "      <td>25.7 +- 1.0</td>\n",
       "      <td>23.5 +- 0.7</td>\n",
       "      <td>14.1 +- 0.8</td>\n",
       "      <td>3.1 +- 1.0</td>\n",
       "      <td>-81.7 +- 6.5</td>\n",
       "      <td>1.3 +- 6.9</td>\n",
       "      <td>153.9 +- 13.3</td>\n",
       "      <td>-102.3 +- 14.1</td>\n",
       "      <td>28.8 +- 11.2</td>\n",
       "      <td>22.5</td>\n",
       "    </tr>\n",
       "    <tr>\n",
       "      <th>0</th>\n",
       "      <td>always wake</td>\n",
       "      <td>19.3 +- 1.3</td>\n",
       "      <td>79.2 +- 0.6</td>\n",
       "      <td>4.2 +- 0.6</td>\n",
       "      <td>20.8 +- 0.6</td>\n",
       "      <td>6.6 +- 0.6</td>\n",
       "      <td>0.0 +- 0.0</td>\n",
       "      <td>363.5 +- 8.9</td>\n",
       "      <td>-67.4 +- 3.0</td>\n",
       "      <td>-39.2 +- 3.6</td>\n",
       "      <td>-207.9 +- 6.3</td>\n",
       "      <td>-49.1 +- 3.2</td>\n",
       "      <td>19.3</td>\n",
       "    </tr>\n",
       "    <tr>\n",
       "      <th>4</th>\n",
       "      <td>always REM sleep</td>\n",
       "      <td>15.1 +- 0.8</td>\n",
       "      <td>79.4 +- 0.5</td>\n",
       "      <td>3.3 +- 0.6</td>\n",
       "      <td>20.2 +- 0.5</td>\n",
       "      <td>5.4 +- 0.6</td>\n",
       "      <td>0.0 +- 0.0</td>\n",
       "      <td>-88.9 +- 6.6</td>\n",
       "      <td>385.1 +- 8.9</td>\n",
       "      <td>-39.2 +- 3.6</td>\n",
       "      <td>-207.9 +- 6.3</td>\n",
       "      <td>-49.1 +- 3.2</td>\n",
       "      <td>15.1</td>\n",
       "    </tr>\n",
       "    <tr>\n",
       "      <th>1</th>\n",
       "      <td>always N1 sleep</td>\n",
       "      <td>11.1 +- 0.8</td>\n",
       "      <td>79.4 +- 0.5</td>\n",
       "      <td>2.5 +- 0.6</td>\n",
       "      <td>20.2 +- 0.5</td>\n",
       "      <td>4.1 +- 0.6</td>\n",
       "      <td>0.0 +- 0.0</td>\n",
       "      <td>-88.9 +- 6.6</td>\n",
       "      <td>-67.4 +- 3.0</td>\n",
       "      <td>-39.2 +- 3.6</td>\n",
       "      <td>-207.9 +- 6.3</td>\n",
       "      <td>403.4 +- 9.3</td>\n",
       "      <td>11.1</td>\n",
       "    </tr>\n",
       "    <tr>\n",
       "      <th>3</th>\n",
       "      <td>always N3 sleep</td>\n",
       "      <td>9.0 +- 0.9</td>\n",
       "      <td>79.6 +- 0.5</td>\n",
       "      <td>2.0 +- 0.6</td>\n",
       "      <td>19.1 +- 0.7</td>\n",
       "      <td>3.3 +- 0.6</td>\n",
       "      <td>0.0 +- 0.0</td>\n",
       "      <td>-88.9 +- 6.6</td>\n",
       "      <td>-67.4 +- 3.0</td>\n",
       "      <td>413.3 +- 9.9</td>\n",
       "      <td>-207.9 +- 6.3</td>\n",
       "      <td>-49.1 +- 3.2</td>\n",
       "      <td>9.0</td>\n",
       "    </tr>\n",
       "  </tbody>\n",
       "</table>\n",
       "</div>"
      ],
      "text/plain": [
       "             algorithms      accuracy  specificity     precision  \\\n",
       "15         ground truth  100.0 +- 0.0  99.7 +- 0.6  100.0 +- 0.0   \n",
       "5                CNN 20   53.8 +- 1.3  85.0 +- 0.6   38.9 +- 1.3   \n",
       "7               CNN 100   52.4 +- 1.3  85.1 +- 0.6   42.8 +- 1.4   \n",
       "6                CNN 50   50.4 +- 1.3  84.6 +- 0.6   39.2 +- 1.4   \n",
       "8               LSTM 20   49.3 +- 1.2  81.8 +- 0.5   27.8 +- 1.1   \n",
       "2       always N2 sleep   46.6 +- 1.2  79.2 +- 0.6    9.9 +- 0.6   \n",
       "10             LSTM 100   46.6 +- 1.2  80.9 +- 0.5   20.0 +- 1.0   \n",
       "9               LSTM 50   45.0 +- 1.3  81.8 +- 0.6   20.1 +- 1.0   \n",
       "12  Logistic Regression   44.4 +- 1.4  81.6 +- 0.6   20.8 +- 1.0   \n",
       "14        Random Forest   43.1 +- 1.3  81.8 +- 0.5   28.5 +- 1.1   \n",
       "11           Linear SVM   36.5 +- 1.6  81.4 +- 0.6   22.8 +- 1.1   \n",
       "13           Perception   22.5 +- 1.5  80.7 +- 0.5   25.7 +- 1.0   \n",
       "0           always wake   19.3 +- 1.3  79.2 +- 0.6    4.2 +- 0.6   \n",
       "4      always REM sleep   15.1 +- 0.8  79.4 +- 0.5    3.3 +- 0.6   \n",
       "1       always N1 sleep   11.1 +- 0.8  79.4 +- 0.5    2.5 +- 0.6   \n",
       "3       always N3 sleep    9.0 +- 0.9  79.6 +- 0.5    2.0 +- 0.6   \n",
       "\n",
       "          recall      f1-score   cohen-kappa           Wake     REM sleep  \\\n",
       "15  100.0 +- 0.0  100.0 +- 0.0  100.0 +- 0.0    88.9 +- 6.6   67.4 +- 3.0   \n",
       "5    36.7 +- 0.9   32.1 +- 1.0   28.7 +- 1.8    18.8 +- 8.2   -9.4 +- 5.4   \n",
       "7    37.6 +- 1.0   33.6 +- 1.1   26.8 +- 1.9    28.9 +- 9.0  -15.7 +- 4.5   \n",
       "6    35.2 +- 0.9   30.0 +- 1.1   22.9 +- 1.9   62.0 +- 10.4  -30.8 +- 4.8   \n",
       "8    27.8 +- 0.7   22.5 +- 0.8   16.6 +- 1.5    -9.7 +- 8.8  -58.9 +- 3.1   \n",
       "2    20.8 +- 0.6   13.2 +- 0.6    0.0 +- 0.0   -88.9 +- 6.6  -67.4 +- 3.0   \n",
       "10   24.7 +- 0.7   19.0 +- 0.7   10.4 +- 1.5    -5.9 +- 8.6  -65.8 +- 3.0   \n",
       "9    27.4 +- 0.7   20.1 +- 0.8   13.8 +- 1.5   70.6 +- 11.9  -66.7 +- 3.0   \n",
       "12   27.1 +- 0.7   19.9 +- 0.8   11.7 +- 1.3   67.6 +- 13.8  -67.3 +- 3.0   \n",
       "14   27.0 +- 0.6   20.4 +- 0.7   10.2 +- 1.1   83.9 +- 12.2  -61.7 +- 3.1   \n",
       "11   25.7 +- 0.7   17.4 +- 0.9    8.0 +- 1.2  163.5 +- 15.4  -62.2 +- 3.2   \n",
       "13   23.5 +- 0.7   14.1 +- 0.8    3.1 +- 1.0   -81.7 +- 6.5    1.3 +- 6.9   \n",
       "0    20.8 +- 0.6    6.6 +- 0.6    0.0 +- 0.0   363.5 +- 8.9  -67.4 +- 3.0   \n",
       "4    20.2 +- 0.5    5.4 +- 0.6    0.0 +- 0.0   -88.9 +- 6.6  385.1 +- 8.9   \n",
       "1    20.2 +- 0.5    4.1 +- 0.6    0.0 +- 0.0   -88.9 +- 6.6  -67.4 +- 3.0   \n",
       "3    19.1 +- 0.7    3.3 +- 0.6    0.0 +- 0.0   -88.9 +- 6.6  -67.4 +- 3.0   \n",
       "\n",
       "         N3 sleep        N2 sleep      N1 sleep  acc_for_sort  \n",
       "15    39.2 +- 3.6    207.9 +- 6.3   49.6 +- 3.3         100.0  \n",
       "5    -39.0 +- 3.6     74.0 +- 8.7  -44.4 +- 3.0          53.8  \n",
       "7    -29.8 +- 3.5     57.6 +- 8.4  -41.0 +- 3.1          52.4  \n",
       "6    -36.4 +- 3.5     46.2 +- 9.8  -40.9 +- 3.0          50.4  \n",
       "8    -39.2 +- 3.6    155.7 +- 9.7  -48.0 +- 3.1          49.3  \n",
       "2    -39.2 +- 3.6    244.6 +- 8.1  -49.1 +- 3.2          46.6  \n",
       "10   -39.2 +- 3.6    160.0 +- 9.6  -49.1 +- 3.2          46.6  \n",
       "9    -39.2 +- 3.6    84.3 +- 12.3  -49.0 +- 3.2          45.0  \n",
       "12   -39.2 +- 3.6    87.1 +- 13.9  -48.2 +- 3.2          44.4  \n",
       "14   -38.8 +- 3.6    62.8 +- 12.1  -46.1 +- 3.1          43.1  \n",
       "11   -31.5 +- 4.1   -23.8 +- 14.3  -45.9 +- 3.1          36.5  \n",
       "13  153.9 +- 13.3  -102.3 +- 14.1  28.8 +- 11.2          22.5  \n",
       "0    -39.2 +- 3.6   -207.9 +- 6.3  -49.1 +- 3.2          19.3  \n",
       "4    -39.2 +- 3.6   -207.9 +- 6.3  -49.1 +- 3.2          15.1  \n",
       "1    -39.2 +- 3.6   -207.9 +- 6.3  403.4 +- 9.3          11.1  \n",
       "3    413.3 +- 9.9   -207.9 +- 6.3  -49.1 +- 3.2           9.0  "
      ]
     },
     "execution_count": 120,
     "metadata": {},
     "output_type": "execute_result"
    }
   ],
   "source": [
    "stage_5_df[['algorithms', \"accuracy\", \"specificity\", \"precision\", \"recall\", \"f1-score\", \"cohen-kappa\",\"Wake\",\"REM sleep\",\"N3 sleep\",\"N2 sleep\", \"N1 sleep\",\"acc_for_sort\"]].sort_values(by=\"acc_for_sort\", ascending=False)"
   ]
  },
  {
   "cell_type": "code",
   "execution_count": 156,
   "metadata": {},
   "outputs": [
    {
     "name": "stdout",
     "output_type": "stream",
     "text": [
      "\\begin{tabular}{llllllllllll}\n",
      "\\toprule\n",
      "          algorithms &      accuracy &   specificity &     precision &        recall &      f1-score &   cohen-kappa &      N1 sleep &       N2 sleep &       N3 sleep &     REM sleep &           Wake \\\\\n",
      "\\midrule\n",
      "        ground truth &  100.0 +- 0.0 &  100.0 +- 0.0 &  100.0 +- 0.0 &  100.0 +- 0.0 &  100.0 +- 0.0 &  100.0 +- 0.0 &   49.4 +- 3.2 &   208.7 +- 6.2 &    39.3 +- 3.6 &   67.6 +- 3.0 &   187.4 +- 8.6 \\\\\n",
      "              CNN 20 &   55.6 +- 1.1 &   86.4 +- 0.3 &   40.4 +- 1.2 &   37.3 +- 0.8 &   33.6 +- 0.9 &   36.2 +- 1.8 &  -44.4 +- 3.0 &   103.0 +- 9.8 &   -39.1 +- 3.6 &   -3.9 +- 5.8 &  -15.6 +- 10.1 \\\\\n",
      "             CNN 100 &   55.6 +- 1.1 &   86.7 +- 0.3 &   44.9 +- 1.4 &   38.9 +- 0.9 &   35.9 +- 1.0 &   37.1 +- 1.8 &  -40.8 +- 3.1 &    81.2 +- 9.4 &   -29.5 +- 3.6 &  -12.0 +- 4.8 &    1.1 +- 10.7 \\\\\n",
      "              CNN 50 &   54.2 +- 1.1 &   86.0 +- 0.3 &   41.2 +- 1.3 &   35.6 +- 0.8 &   32.1 +- 1.0 &   32.3 +- 1.9 &  -40.6 +- 3.1 &   69.5 +- 11.0 &   -36.4 +- 3.5 &  -28.2 +- 5.1 &   35.7 +- 12.1 \\\\\n",
      "            LSTM 100 &   50.6 +- 1.0 &   83.9 +- 0.3 &   25.7 +- 0.8 &   28.9 +- 0.5 &   23.8 +- 0.6 &   29.6 +- 1.7 &  -49.4 +- 3.2 &  189.7 +- 10.4 &   -39.3 +- 3.6 &  -66.0 +- 2.9 &  -34.9 +- 10.3 \\\\\n",
      "             LSTM 50 &   50.4 +- 1.1 &   84.1 +- 0.4 &   23.8 +- 0.9 &   29.2 +- 0.5 &   23.4 +- 0.6 &   27.0 +- 1.7 &  -49.3 +- 3.2 &  107.0 +- 13.3 &   -39.3 +- 3.6 &  -67.0 +- 3.0 &   48.6 +- 13.4 \\\\\n",
      "             LSTM 20 &   50.1 +- 1.0 &   83.8 +- 0.3 &   30.7 +- 1.0 &   29.2 +- 0.5 &   24.6 +- 0.6 &   28.0 +- 1.6 &  -48.3 +- 3.1 &  199.2 +- 10.7 &   -39.3 +- 3.6 &  -58.2 +- 3.2 &  -53.4 +- 10.7 \\\\\n",
      " Logistic Regression &   46.7 +- 1.1 &   82.8 +- 0.4 &   22.6 +- 0.8 &   26.8 +- 0.5 &   21.2 +- 0.6 &   18.4 +- 1.7 &  -48.5 +- 3.2 &  128.0 +- 15.8 &   -39.3 +- 3.6 &  -67.6 +- 3.0 &   27.4 +- 16.2 \\\\\n",
      "       Random Forest &   46.6 +- 1.0 &   83.1 +- 0.3 &   29.9 +- 1.0 &   27.1 +- 0.4 &   22.3 +- 0.5 &   17.6 +- 1.4 &  -46.2 +- 3.2 &   97.8 +- 13.7 &   -38.9 +- 3.6 &  -61.3 +- 3.1 &   48.5 +- 14.3 \\\\\n",
      "          Linear SVM &   43.2 +- 1.3 &   82.4 +- 0.4 &   24.4 +- 1.0 &   25.6 +- 0.6 &   19.9 +- 0.7 &   13.5 +- 1.6 &  -45.9 +- 3.1 &   -1.7 +- 16.1 &   -30.8 +- 4.1 &  -62.1 +- 3.2 &  140.5 +- 17.5 \\\\\n",
      "     always N2 sleep &   38.0 +- 1.0 &   79.4 +- 0.4 &    7.9 +- 0.3 &   20.6 +- 0.4 &   11.2 +- 0.3 &    0.0 +- 0.0 &  -49.4 +- 3.2 &   343.7 +- 8.3 &   -39.3 +- 3.6 &  -67.6 +- 3.0 &  -187.4 +- 8.6 \\\\\n",
      "         always wake &   33.5 +- 1.4 &   79.4 +- 0.4 &    7.0 +- 0.4 &   20.6 +- 0.4 &   10.1 +- 0.4 &    0.0 +- 0.0 &  -49.4 +- 3.2 &  -208.7 +- 6.2 &   -39.3 +- 3.6 &  -67.6 +- 3.0 &   365.1 +- 8.7 \\\\\n",
      "          Perception &   19.2 +- 1.1 &   81.0 +- 0.1 &   27.6 +- 0.7 &   23.6 +- 0.6 &   13.2 +- 0.5 &    7.6 +- 1.2 &  60.7 +- 13.2 &  -87.5 +- 16.0 &  188.3 +- 15.3 &   13.3 +- 7.5 &  -174.8 +- 8.5 \\\\\n",
      "    always REM sleep &   12.3 +- 0.5 &   79.6 +- 0.2 &    2.5 +- 0.1 &   20.0 +- 0.3 &    4.3 +- 0.2 &    0.0 +- 0.0 &  -49.4 +- 3.2 &  -208.7 +- 6.2 &   -39.3 +- 3.6 &  484.8 +- 8.5 &  -187.4 +- 8.6 \\\\\n",
      "     always N1 sleep &    9.0 +- 0.6 &   79.6 +- 0.2 &    1.8 +- 0.1 &   20.0 +- 0.3 &    3.3 +- 0.2 &    0.0 +- 0.0 &  503.0 +- 8.8 &  -208.7 +- 6.2 &   -39.3 +- 3.6 &  -67.6 +- 3.0 &  -187.4 +- 8.6 \\\\\n",
      "     always N3 sleep &    7.2 +- 0.7 &   79.8 +- 0.1 &    1.4 +- 0.1 &   18.9 +- 0.5 &    2.6 +- 0.2 &    0.0 +- 0.0 &  -49.4 +- 3.2 &  -208.7 +- 6.2 &   513.2 +- 9.4 &  -67.6 +- 3.0 &  -187.4 +- 8.6 \\\\\n",
      "\\bottomrule\n",
      "\\end{tabular}\n",
      "\n"
     ]
    }
   ],
   "source": [
    "print(stage_5_df[stage_5_df['algorithms'].isin(bls)].sort_values(by=\"acc_for_sort\", ascending=False)[stages_clf_columns].to_latex(index=False))"
   ]
  },
  {
   "cell_type": "markdown",
   "metadata": {},
   "source": [
    "### To print  the latex of HRV feature description"
   ]
  },
  {
   "cell_type": "code",
   "execution_count": 177,
   "metadata": {
    "scrolled": false
   },
   "outputs": [
    {
     "name": "stdout",
     "output_type": "stream",
     "text": [
      "\\begin{tabular}{ll}\n",
      "\\toprule\n",
      "             SDNN &                                                                                                                                                     Standard deviation of Normal-to-Normal interval \\\\\n",
      "\\midrule\n",
      "             SDSD &                                                                                                                                                               Standard deviation of NNI differences \\\\\n",
      "             NN50 &                                                                                                                                                      Number of NN interval differences greater 50ms \\\\\n",
      "            pNN50 &                                                                                                                                                 Ratio between NN50 and total number of NN intervals \\\\\n",
      "             NN20 &                                                                                                                                                      Number of NN interval differences greater 20ms \\\\\n",
      "            pNN20 &                                                                                                                                                Ratio between NN20 and total number of NN intervals  \\\\\n",
      "            RMSSD &                                                                                                                                                                Root mean of squared NNI differences \\\\\n",
      "        Median\\_NN &                                                                                                                                                                 Median of Normal-to-Normal interval \\\\\n",
      "         Range\\_NN &                                                                                                                                                          Range between smallest RRI to largest RRI  \\\\\n",
      "             CVSD &                                                                                     The coefficient of variation of successive differences (van Dellen et al., 1985), the RMSSD divided by mean\\_NN. \\\\\n",
      "           CV\\_NNI &                                                                                                                       The Coefficient of Variation of NNI, i.e. the ratio of sdNN divided by meanNN \\\\\n",
      "          Mean\\_HR &                                                                                                                                           Mean of heart rate which is equivalent to the mean of RRI \\\\\n",
      "           Max\\_HR &                                                                                                                                                                                  Maximum heart rate \\\\\n",
      "           Min\\_HR &                                                                                                                                                                                  Minimum heart rate \\\\\n",
      "           STD\\_HR &                                                                                                                                                         Standard deviation of the heart rate series \\\\\n",
      " Triangular\\_index &  The HRV triangular index measurement is the integral of the density distribution (that is, the number of all RR intervals) divided by the maximum of the density distribution (class width of 8ms) \\\\\n",
      "               LF &                                             Low Frequency is the variance (i.e., power) in HRV in the Low Frequency (.04 to .15 Hz). Reflects a mixture of sympathetic and parasympathetic activity \\\\\n",
      "               HF &               High Frequency is the variance (i.e., power) in HRV in the High Frequency (.15 to .40 Hz). Reflects fast changes in beat-to-beat variability due to parasympathetic (vagal) activity. \\\\\n",
      "              VLF &     VLF is the variance (i.e., power) in HRV in the Very Low Frequency (.003 to .04 Hz). Reflect an intrinsic rhythm produced by the heart which is modulated by primarily by sympathetic activity. \\\\\n",
      "      LH/HF ratio &                                                                                      The LF/HF ratio is sometimes used by some investigators as a quantitative mirror of the sympathy/vagal balance \\\\\n",
      "             LFnu &                                                                 Normalized low frequency ratio calculated from the raw values of low frequency band (LF or HF) divided by the total spectral power  \\\\\n",
      "             HFnu &                                                                Normalized high frequency ratio calculated from the raw values of high frequency band (LF or HF) divided by the total spectral power \\\\\n",
      "      Total\\_Power &                                                                                                                                                                 Total power of the density spectra. \\\\\n",
      "              CSI &                                                                                                                                       Cardiac Sympathetic Index(Ponnusamy, Marques, \\& Reuber, 2012) \\\\\n",
      "              CVI &                                                                                                                                                        Cardiac Vagal Index (Ponnusamy et al., 2012) \\\\\n",
      "     Modified\\_CSI &                                                                                                                                                                    A modified CSI is calculated by  \\\\\n",
      "              SD1 &                                                                                                                                 Poincaré plot standard deviation perpendicular the line of identity \\\\\n",
      "              SD2 &                                                                                                                                         Poincaré plot standard deviation along the line of identity \\\\\n",
      "    SD1/SD2 ratio &                                                                                                                                                                                 Ratio of SD1-to-SD2 \\\\\n",
      "           SampEn &                                                                                                                                                 Sample Entropy (SampEn) over the RR intervals array \\\\\n",
      "\\bottomrule\n",
      "\\end{tabular}\n",
      "\n"
     ]
    }
   ],
   "source": [
    "hrv_description = pd.read_csv(\"C:/tmp/hrv_feature-description.csv\")\n",
    "pd.set_option('max_colwidth',500)\n",
    "print(hrv_description.to_latex(index=False, float_format=\"%s\"))\n"
   ]
  },
  {
   "cell_type": "markdown",
   "metadata": {},
   "source": [
    "### This is for task 4: 5 stages tasks multimodality HRV & ENMO"
   ]
  },
  {
   "cell_type": "code",
   "execution_count": 219,
   "metadata": {
    "ExecuteTime": {
     "end_time": "2019-01-09T07:13:22.843067Z",
     "start_time": "2019-01-09T07:13:22.801557Z"
    },
    "pycharm": {
     "is_executing": false
    },
    "scrolled": true
   },
   "outputs": [],
   "source": [
    "# ml_dl_algorithms = []\n",
    "# print(summary.loc[traditional].sort_values(by=\"Accuracy\", ascending=False)[metrics].to_latex())\n",
    "\n",
    "# t = summary.loc[traditional].sort_values(by=\"Accuracy\", ascending=False)[metrics]\n",
    "# print(get_group_average(t, metrics))"
   ]
  },
  {
   "cell_type": "code",
   "execution_count": null,
   "metadata": {
    "ExecuteTime": {
     "end_time": "2019-01-09T07:13:33.624794Z",
     "start_time": "2019-01-09T07:13:33.577433Z"
    },
    "pycharm": {
     "is_executing": false
    }
   },
   "outputs": [],
   "source": [
    "traditionalresc = [\"resc_\" + alg for alg in defaultalgs]\n",
    "print(summary.loc[traditionalresc].sort_values(by=\"Accuracy\", ascending=False)[metrics].to_latex())\n",
    "\n",
    "t = summary.loc[traditionalresc].sort_values(by=\"Accuracy\", ascending=False)[metrics]\n",
    "print(get_group_average(t, metrics))"
   ]
  },
  {
   "cell_type": "code",
   "execution_count": null,
   "metadata": {
    "ExecuteTime": {
     "end_time": "2019-01-09T07:13:41.872982Z",
     "start_time": "2019-01-09T07:13:41.830026Z"
    },
    "pycharm": {
     "is_executing": false
    }
   },
   "outputs": [],
   "source": [
    "ml = [alg for alg in defaultml]\n",
    "print(summary.loc[ml].sort_values(by=\"Accuracy\", ascending=False)[metrics].to_latex())\n",
    "\n",
    "\n",
    "t = summary.loc[ml].sort_values(by=\"Accuracy\", ascending=False)[metrics]\n",
    "print(get_group_average(t, metrics))"
   ]
  },
  {
   "cell_type": "code",
   "execution_count": null,
   "metadata": {
    "ExecuteTime": {
     "end_time": "2019-01-09T07:13:50.911493Z",
     "start_time": "2019-01-09T07:13:50.864690Z"
    },
    "pycharm": {
     "is_executing": false
    },
    "scrolled": true
   },
   "outputs": [],
   "source": [
    "mlresc = [\"resc_\" + alg for alg in defaultml]\n",
    "print(summary.loc[mlresc].sort_values(by=\"Accuracy\", ascending=False)[metrics].to_latex())\n",
    "\n",
    "t = summary.loc[mlresc].sort_values(by=\"Accuracy\", ascending=False)[metrics]\n",
    "print(get_group_average(t, metrics))"
   ]
  },
  {
   "cell_type": "code",
   "execution_count": null,
   "metadata": {
    "ExecuteTime": {
     "end_time": "2019-01-09T07:13:59.349575Z",
     "start_time": "2019-01-09T07:13:59.296384Z"
    },
    "pycharm": {
     "is_executing": false
    }
   },
   "outputs": [],
   "source": [
    "dl = [alg for alg in defaultdl]\n",
    "print(summary.loc[dl].sort_values(by=\"Accuracy\", ascending=False)[metrics].to_latex())\n",
    "\n",
    "t = summary.loc[dl].sort_values(by=\"Accuracy\", ascending=False)[metrics]\n",
    "print(get_group_average(t, metrics))"
   ]
  },
  {
   "cell_type": "code",
   "execution_count": null,
   "metadata": {
    "ExecuteTime": {
     "end_time": "2019-01-09T07:14:08.295624Z",
     "start_time": "2019-01-09T07:14:08.231242Z"
    },
    "pycharm": {
     "is_executing": false
    }
   },
   "outputs": [],
   "source": [
    "dlresc = [\"resc_\" + alg for alg in defaultdl]\n",
    "print(summary.loc[dlresc].sort_values(by=\"Accuracy\", ascending=False)[metrics].to_latex())\n",
    "\n",
    "t = summary.loc[dlresc].sort_values(by=\"Accuracy\", ascending=False)[metrics]\n",
    "print(get_group_average(t, metrics))"
   ]
  },
  {
   "cell_type": "markdown",
   "metadata": {},
   "source": [
    "# T test start from here "
   ]
  },
  {
   "cell_type": "markdown",
   "metadata": {},
   "source": [
    "## Ensemble method"
   ]
  },
  {
   "cell_type": "markdown",
   "metadata": {},
   "source": [
    "##### to compare the F1, accuracy, and kappa between ensemble method and 2 stages ENMO_HRV ### task 1"
   ]
  },
  {
   "cell_type": "code",
   "execution_count": 277,
   "metadata": {},
   "outputs": [
    {
     "name": "stdout",
     "output_type": "stream",
     "text": [
      "test dataset size is: \n",
      "(348, 6)\n",
      "non ensemble\n",
      "dict_keys(['always_0', 'always_1', 'CNN_20_ENMO_HRV', 'CNN_50_ENMO_HRV', 'CNN_100_ENMO_HRV', 'LSTM_20_ENMO_HRV', 'LSTM_50_ENMO_HRV', 'LSTM_100_ENMO_HRV', 'SGD_hinge', 'SGD_log', 'SGD_perceptron', 'Random_forest_300', 'stages'])\n",
      "dict_keys(['stages', 'CNN_20', 'CNN_50', 'CNN_100', 'LSTM_20', 'LSTM_50', 'LSTM_100', 'max_ensemble', 'mean_ensemble'])\n"
     ]
    }
   ],
   "source": [
    "# setup the comparision\n",
    "num_classes = 2\n",
    "feature_type = 'ENMO_HRV'\n",
    "result_folder = cfg.STAGE_OUTPUT_FOLDER_HRV30s[num_classes]\n",
    "# data loading part for task 2\n",
    "ENMO_HRV_PICKLE_RESULT_FILE = os.path.join(result_folder, sub_folder, \"%d_stages_results_%s.pkl\"\n",
    "                                          % (num_classes, feature_type))\n",
    "with open(ENMO_HRV_PICKLE_RESULT_FILE, \"rb\") as f:\n",
    "    task_results = pickle.load(f)\n",
    "\n",
    "# data loading part for ensemble\n",
    "ENSEMBLE_PICKLE_RESULT_FILE = os.path.join(result_folder, \"ensemble_all\", \"%d_stages_ensemble_results_%s.pkl\"\n",
    "                                          % (num_classes, feature_type))\n",
    "with open(ENSEMBLE_PICKLE_RESULT_FILE, \"rb\") as f:\n",
    "    ensemble_results = pickle.load(f)\n",
    "print(\"test dataset size is: \")\n",
    "print(ensemble_results['mean_ensemble'].shape)\n",
    "print(\"non ensemble\")\n",
    "print(task_results.keys())\n",
    "print(ensemble_results.keys())"
   ]
  },
  {
   "cell_type": "code",
   "execution_count": 278,
   "metadata": {
    "scrolled": true
   },
   "outputs": [
    {
     "name": "stdout",
     "output_type": "stream",
     "text": [
      "T-Test for metric: f1-score, the p value = 0.267\n",
      "T-Test for metric: accuracy, the p value = 0.191\n",
      "T-Test for metric: cohen-kappa, the p value = 0.112\n"
     ]
    }
   ],
   "source": [
    "ttest(task_results, ensemble_results,'CNN_100_ENMO_HRV', 'mean_ensemble', ['f1-score', 'accuracy','cohen-kappa'])"
   ]
  },
  {
   "cell_type": "code",
   "execution_count": 286,
   "metadata": {},
   "outputs": [
    {
     "name": "stdout",
     "output_type": "stream",
     "text": [
      "T-Test for metric: f1-score, the p value = 0.218\n"
     ]
    }
   ],
   "source": [
    "ttest(task_results, ensemble_results,'LSTM_100_ENMO_HRV', 'mean_ensemble', ['f1-score'])"
   ]
  },
  {
   "cell_type": "markdown",
   "metadata": {},
   "source": [
    "##### to compare the F1, accuracy, and kappa between ensemble method and 3 stages ENMO_HRV ### task 2"
   ]
  },
  {
   "cell_type": "code",
   "execution_count": 288,
   "metadata": {},
   "outputs": [
    {
     "name": "stdout",
     "output_type": "stream",
     "text": [
      "test dataset size is: \n",
      "(348, 6)\n",
      "non ensemble\n",
      "dict_keys(['always_0', 'always_1', 'always_2', 'CNN_20_ENMO_HRV', 'CNN_50_ENMO_HRV', 'CNN_100_ENMO_HRV', 'LSTM_20_ENMO_HRV', 'LSTM_50_ENMO_HRV', 'LSTM_100_ENMO_HRV', 'SGD_hinge', 'SGD_log', 'SGD_perceptron', 'Random_forest_300', 'stages'])\n",
      "dict_keys(['stages', 'CNN_20', 'CNN_50', 'CNN_100', 'LSTM_20', 'LSTM_50', 'LSTM_100', 'max_ensemble', 'mean_ensemble'])\n"
     ]
    }
   ],
   "source": [
    "# setup the comparision\n",
    "num_classes = 3\n",
    "feature_type = 'ENMO_HRV'\n",
    "result_folder = cfg.STAGE_OUTPUT_FOLDER_HRV30s[num_classes]\n",
    "# data loading part for task 2\n",
    "ENMO_HRV_PICKLE_RESULT_FILE = os.path.join(result_folder, sub_folder, \"%d_stages_results_%s.pkl\"\n",
    "                                          % (num_classes, feature_type))\n",
    "with open(ENMO_HRV_PICKLE_RESULT_FILE, \"rb\") as f:\n",
    "    task_results = pickle.load(f)\n",
    "\n",
    "# data loading part for ensemble\n",
    "ENSEMBLE_PICKLE_RESULT_FILE = os.path.join(result_folder, \"ensemble_all\", \"%d_stages_ensemble_results_%s.pkl\"\n",
    "                                          % (num_classes, feature_type))\n",
    "with open(ENSEMBLE_PICKLE_RESULT_FILE, \"rb\") as f:\n",
    "    ensemble_results = pickle.load(f)\n",
    "print(\"test dataset size is: \")\n",
    "print(ensemble_results['mean_ensemble'].shape)\n",
    "print(\"non ensemble\")\n",
    "print(task_results.keys())\n",
    "print(ensemble_results.keys())"
   ]
  },
  {
   "cell_type": "code",
   "execution_count": 289,
   "metadata": {
    "scrolled": false
   },
   "outputs": [
    {
     "name": "stdout",
     "output_type": "stream",
     "text": [
      "T-Test for metric: f1-score, the p value = 0.041\n",
      "T-Test for metric: accuracy, the p value = 0.004\n",
      "T-Test for metric: cohen-kappa, the p value = 0.009\n"
     ]
    }
   ],
   "source": [
    "ttest(task_results, ensemble_results,'LSTM_50_ENMO_HRV', 'mean_ensemble', ['f1-score', 'accuracy','cohen-kappa'])"
   ]
  },
  {
   "cell_type": "code",
   "execution_count": 290,
   "metadata": {},
   "outputs": [
    {
     "name": "stdout",
     "output_type": "stream",
     "text": [
      "T-Test for metric: f1-score, the p value = 0.065\n",
      "T-Test for metric: accuracy, the p value = 0.002\n",
      "T-Test for metric: cohen-kappa, the p value = 0.015\n"
     ]
    }
   ],
   "source": [
    "ttest(task_results, ensemble_results,'CNN_100_ENMO_HRV', 'mean_ensemble', ['f1-score', 'accuracy','cohen-kappa'])"
   ]
  },
  {
   "cell_type": "markdown",
   "metadata": {},
   "source": [
    "##### to compare the F1, accuracy, and kappa between ensemble method and 4 stages ENMO_HRV ### task 3 "
   ]
  },
  {
   "cell_type": "code",
   "execution_count": 281,
   "metadata": {},
   "outputs": [
    {
     "name": "stdout",
     "output_type": "stream",
     "text": [
      "test dataset size is: \n",
      "(348, 6)\n",
      "non ensemble\n",
      "dict_keys(['always_0', 'always_1', 'always_2', 'always_3', 'CNN_20_ENMO_HRV', 'CNN_50_ENMO_HRV', 'CNN_100_ENMO_HRV', 'LSTM_20_ENMO_HRV', 'LSTM_50_ENMO_HRV', 'LSTM_100_ENMO_HRV', 'SGD_hinge', 'SGD_log', 'SGD_perceptron', 'Random_forest_300', 'stages'])\n",
      "dict_keys(['stages', 'CNN_20', 'CNN_50', 'CNN_100', 'LSTM_20', 'LSTM_50', 'LSTM_100', 'max_ensemble', 'mean_ensemble'])\n"
     ]
    }
   ],
   "source": [
    "# setup the comparision\n",
    "num_classes = 4\n",
    "feature_type = 'ENMO_HRV'\n",
    "result_folder = cfg.STAGE_OUTPUT_FOLDER_HRV30s[num_classes]\n",
    "# data loading part for task 2\n",
    "ENMO_HRV_PICKLE_RESULT_FILE = os.path.join(result_folder, sub_folder, \"%d_stages_results_%s.pkl\"\n",
    "                                          % (num_classes, feature_type))\n",
    "with open(ENMO_HRV_PICKLE_RESULT_FILE, \"rb\") as f:\n",
    "    task_results = pickle.load(f)\n",
    "\n",
    "# data loading part for ensemble\n",
    "ENSEMBLE_PICKLE_RESULT_FILE = os.path.join(result_folder, \"ensemble_all\", \"%d_stages_ensemble_results_%s.pkl\"\n",
    "                                          % (num_classes, feature_type))\n",
    "with open(ENSEMBLE_PICKLE_RESULT_FILE, \"rb\") as f:\n",
    "    ensemble_results = pickle.load(f)\n",
    "print(\"test dataset size is: \")\n",
    "print(ensemble_results['mean_ensemble'].shape)\n",
    "print(\"non ensemble\")\n",
    "print(task_results.keys())\n",
    "print(ensemble_results.keys())"
   ]
  },
  {
   "cell_type": "code",
   "execution_count": 282,
   "metadata": {
    "scrolled": true
   },
   "outputs": [
    {
     "name": "stdout",
     "output_type": "stream",
     "text": [
      "T-Test for metric: f1-score, the p value = 0.772\n",
      "T-Test for metric: accuracy, the p value = 0.067\n",
      "T-Test for metric: cohen-kappa, the p value = 0.087\n"
     ]
    }
   ],
   "source": [
    "ttest(task_results, ensemble_results,'LSTM_50_ENMO_HRV', 'mean_ensemble', ['f1-score', 'accuracy','cohen-kappa'])"
   ]
  },
  {
   "cell_type": "markdown",
   "metadata": {},
   "source": [
    "##### to compare the F1, accuracy, and kappa between ensemble method and 5 stages ENMO_HRV ### task 4"
   ]
  },
  {
   "cell_type": "code",
   "execution_count": 284,
   "metadata": {},
   "outputs": [
    {
     "name": "stdout",
     "output_type": "stream",
     "text": [
      "test dataset size is: \n",
      "(348, 6)\n",
      "non ensemble\n",
      "dict_keys(['always_0', 'always_1', 'always_2', 'always_3', 'always_4', 'CNN_20_ENMO_HRV', 'CNN_50_ENMO_HRV', 'CNN_100_ENMO_HRV', 'LSTM_20_ENMO_HRV', 'LSTM_50_ENMO_HRV', 'LSTM_100_ENMO_HRV', 'SGD_hinge', 'SGD_log', 'SGD_perceptron', 'Random_forest_300', 'stages'])\n",
      "dict_keys(['stages', 'CNN_20', 'CNN_50', 'CNN_100', 'LSTM_20', 'LSTM_50', 'LSTM_100', 'max_ensemble', 'mean_ensemble'])\n"
     ]
    }
   ],
   "source": [
    "# setup the comparision\n",
    "num_classes = 5\n",
    "feature_type = 'ENMO_HRV'\n",
    "result_folder = cfg.STAGE_OUTPUT_FOLDER_HRV30s[num_classes]\n",
    "# data loading part for task 2\n",
    "ENMO_HRV_PICKLE_RESULT_FILE = os.path.join(result_folder, sub_folder, \"%d_stages_results_%s.pkl\"\n",
    "                                          % (num_classes, feature_type))\n",
    "with open(ENMO_HRV_PICKLE_RESULT_FILE, \"rb\") as f:\n",
    "    task_results = pickle.load(f)\n",
    "\n",
    "# data loading part for ensemble\n",
    "ENSEMBLE_PICKLE_RESULT_FILE = os.path.join(result_folder, \"ensemble_all\", \"%d_stages_ensemble_results_%s.pkl\"\n",
    "                                          % (num_classes, feature_type))\n",
    "with open(ENSEMBLE_PICKLE_RESULT_FILE, \"rb\") as f:\n",
    "    ensemble_results = pickle.load(f)\n",
    "print(\"test dataset size is: \")\n",
    "print(ensemble_results['mean_ensemble'].shape)\n",
    "print(\"non ensemble\")\n",
    "print(task_results.keys())\n",
    "print(ensemble_results.keys())"
   ]
  },
  {
   "cell_type": "code",
   "execution_count": 285,
   "metadata": {
    "scrolled": true
   },
   "outputs": [
    {
     "name": "stdout",
     "output_type": "stream",
     "text": [
      "T-Test for metric: f1-score, the p value = 0.028\n",
      "T-Test for metric: accuracy, the p value = 0.016\n",
      "T-Test for metric: cohen-kappa, the p value = 0.004\n"
     ]
    }
   ],
   "source": [
    "ttest(task_results, ensemble_results,'LSTM_50_ENMO_HRV', 'mean_ensemble', ['f1-score', 'accuracy','cohen-kappa'])"
   ]
  },
  {
   "cell_type": "markdown",
   "metadata": {},
   "source": [
    "### #### Non ensemble method: Task 1 "
   ]
  },
  {
   "cell_type": "markdown",
   "metadata": {},
   "source": [
    "##### compare between combined snesing ENMO + HRV vs ENMO "
   ]
  },
  {
   "cell_type": "code",
   "execution_count": 297,
   "metadata": {},
   "outputs": [
    {
     "name": "stdout",
     "output_type": "stream",
     "text": [
      "test dataset size is: \n",
      "non ensemble\n",
      "dict_keys(['always_0', 'always_1', 'CNN_20_ENMO_HRV', 'CNN_50_ENMO_HRV', 'CNN_100_ENMO_HRV', 'LSTM_20_ENMO_HRV', 'LSTM_50_ENMO_HRV', 'LSTM_100_ENMO_HRV', 'SGD_hinge', 'SGD_log', 'SGD_perceptron', 'Random_forest_300', 'stages'])\n",
      "dict_keys(['always_0', 'always_1', 'CNN_20_ENMO', 'CNN_50_ENMO', 'CNN_100_ENMO', 'LSTM_20_ENMO', 'LSTM_50_ENMO', 'LSTM_100_ENMO', 'SGD_hinge', 'SGD_log', 'SGD_perceptron', 'Random_forest_300', 'stages'])\n"
     ]
    }
   ],
   "source": [
    "# setup the comparision\n",
    "num_classes = 2\n",
    "feature_type1 = 'ENMO_HRV'\n",
    "feature_type2 = 'ENMO'\n",
    "result_folder = cfg.STAGE_OUTPUT_FOLDER_HRV30s[num_classes]\n",
    "# data loading part for task 2\n",
    "ENMO_HRV_PICKLE_RESULT_FILE1 = os.path.join(result_folder, sub_folder, \"%d_stages_results_%s.pkl\"\n",
    "                                          % (num_classes, feature_type1))\n",
    "with open(ENMO_HRV_PICKLE_RESULT_FILE1, \"rb\") as f:\n",
    "    task_results1 = pickle.load(f)\n",
    "\n",
    "# data loading part for ensemble\n",
    "ENMO_HRV_PICKLE_RESULT_FILE2 = os.path.join(result_folder, sub_folder, \"%d_stages_results_%s.pkl\"\n",
    "                                          % (num_classes, feature_type2))\n",
    "with open(ENMO_HRV_PICKLE_RESULT_FILE2, \"rb\") as f:\n",
    "    task_results2 = pickle.load(f)\n",
    "print(\"test dataset size is: \")\n",
    "print(\"non ensemble\")\n",
    "print(task_results1.keys())\n",
    "print(task_results2.keys())"
   ]
  },
  {
   "cell_type": "code",
   "execution_count": 298,
   "metadata": {
    "scrolled": true
   },
   "outputs": [
    {
     "name": "stdout",
     "output_type": "stream",
     "text": [
      "T-Test for metric: f1-score, the p value = 0.347\n",
      "T-Test for metric: accuracy, the p value = 0.499\n",
      "T-Test for metric: cohen-kappa, the p value = 0.506\n"
     ]
    }
   ],
   "source": [
    "ttest(task_results1, task_results2,'CNN_100_ENMO_HRV', 'CNN_100_ENMO', ['f1-score', 'accuracy','cohen-kappa'])"
   ]
  },
  {
   "cell_type": "markdown",
   "metadata": {},
   "source": [
    "##### compare between combined snesing ENMO + HRV vs HRV "
   ]
  },
  {
   "cell_type": "code",
   "execution_count": null,
   "metadata": {},
   "outputs": [],
   "source": [
    "['f1-score', 'accuracy','cohen-kappa', 'precision', 'recall', 'specificity']"
   ]
  },
  {
   "cell_type": "markdown",
   "metadata": {},
   "source": [
    "### #### Non ensemble method: Task 2"
   ]
  },
  {
   "cell_type": "code",
   "execution_count": 8,
   "metadata": {
    "scrolled": false
   },
   "outputs": [
    {
     "name": "stdout",
     "output_type": "stream",
     "text": [
      "test dataset size is: \n",
      "non ensemble\n",
      "dict_keys(['always_0', 'always_1', 'always_2', 'CNN_20_ENMO_HRV', 'CNN_50_ENMO_HRV', 'CNN_100_ENMO_HRV', 'LSTM_20_ENMO_HRV', 'LSTM_50_ENMO_HRV', 'LSTM_100_ENMO_HRV', 'SGD_hinge', 'SGD_log', 'SGD_perceptron', 'Random_forest_300', 'stages'])\n",
      "dict_keys(['always_0', 'always_1', 'always_2', 'CNN_20_ENMO_HRV', 'CNN_50_ENMO_HRV', 'CNN_100_ENMO_HRV', 'LSTM_20_ENMO_HRV', 'LSTM_50_ENMO_HRV', 'LSTM_100_ENMO_HRV', 'SGD_hinge', 'SGD_log', 'SGD_perceptron', 'Random_forest_300', 'stages'])\n"
     ]
    }
   ],
   "source": [
    "# setup the comparision\n",
    "num_classes = 3\n",
    "feature_type1 = 'ENMO_HRV'\n",
    "feature_type2 = 'ENMO_HRV'\n",
    "result_folder = cfg.STAGE_OUTPUT_FOLDER_HRV30s[num_classes]\n",
    "# data loading part for task 2\n",
    "ENMO_HRV_PICKLE_RESULT_FILE1 = os.path.join(result_folder, sub_folder, \"%d_stages_results_%s.pkl\"\n",
    "                                          % (num_classes, feature_type1))\n",
    "with open(ENMO_HRV_PICKLE_RESULT_FILE1, \"rb\") as f:\n",
    "    task_results1 = pickle.load(f)\n",
    "\n",
    "# data loading part for ensemble\n",
    "ENMO_HRV_PICKLE_RESULT_FILE2 = os.path.join(result_folder, sub_folder, \"%d_stages_results_%s.pkl\"\n",
    "                                          % (num_classes, feature_type2))\n",
    "with open(ENMO_HRV_PICKLE_RESULT_FILE2, \"rb\") as f:\n",
    "    task_results2 = pickle.load(f)\n",
    "print(\"test dataset size is: \")\n",
    "print(\"non ensemble\")\n",
    "print(task_results1.keys())\n",
    "print(task_results2.keys())"
   ]
  },
  {
   "cell_type": "code",
   "execution_count": 322,
   "metadata": {},
   "outputs": [
    {
     "name": "stdout",
     "output_type": "stream",
     "text": [
      "T-Test for metric: f1-score, the p value = 0.000\n",
      "T-Test for metric: accuracy, the p value = 0.000\n",
      "T-Test for metric: cohen-kappa, the p value = 0.000\n",
      "T-Test for metric: precision, the p value = 0.000\n",
      "T-Test for metric: recall, the p value = 0.000\n",
      "T-Test for metric: specificity, the p value = 0.000\n"
     ]
    }
   ],
   "source": [
    "ttest(task_results1, task_results1,'LSTM_50_ENMO_HRV', 'Random_forest_300', ['f1-score', 'accuracy','cohen-kappa', 'precision', 'recall', 'specificity'])"
   ]
  },
  {
   "cell_type": "code",
   "execution_count": 321,
   "metadata": {},
   "outputs": [
    {
     "name": "stdout",
     "output_type": "stream",
     "text": [
      "T-Test for metric: f1-score, the p value = 0.000\n",
      "T-Test for metric: accuracy, the p value = 0.000\n",
      "T-Test for metric: cohen-kappa, the p value = 0.002\n",
      "T-Test for metric: precision, the p value = 0.027\n",
      "T-Test for metric: recall, the p value = 0.001\n",
      "T-Test for metric: specificity, the p value = 0.000\n"
     ]
    }
   ],
   "source": [
    "ttest(task_results1, task_results1,'LSTM_50_ENMO_HRV', 'CNN_20_ENMO_HRV', ['f1-score', 'accuracy','cohen-kappa', 'precision', 'recall', 'specificity'])"
   ]
  },
  {
   "cell_type": "code",
   "execution_count": 315,
   "metadata": {
    "scrolled": true
   },
   "outputs": [
    {
     "name": "stdout",
     "output_type": "stream",
     "text": [
      "T-Test for metric: f1-score, the p value = 0.108\n",
      "T-Test for metric: accuracy, the p value = 0.806\n",
      "T-Test for metric: cohen-kappa, the p value = 0.470\n",
      "T-Test for metric: precision, the p value = 0.755\n",
      "T-Test for metric: recall, the p value = 0.021\n",
      "T-Test for metric: specificity, the p value = 0.223\n"
     ]
    }
   ],
   "source": [
    "ttest(task_results1, task_results1,'LSTM_50_ENMO_HRV', 'LSTM_100_ENMO_HRV', ['f1-score', 'accuracy','cohen-kappa', 'precision', 'recall', 'specificity'])"
   ]
  },
  {
   "cell_type": "code",
   "execution_count": 316,
   "metadata": {
    "scrolled": true
   },
   "outputs": [
    {
     "name": "stdout",
     "output_type": "stream",
     "text": [
      "T-Test for metric: f1-score, the p value = 0.051\n",
      "T-Test for metric: accuracy, the p value = 0.078\n",
      "T-Test for metric: cohen-kappa, the p value = 0.033\n",
      "T-Test for metric: precision, the p value = 0.099\n",
      "T-Test for metric: recall, the p value = 0.059\n",
      "T-Test for metric: specificity, the p value = 0.068\n"
     ]
    }
   ],
   "source": [
    "ttest(task_results1, task_results1,'LSTM_50_ENMO_HRV', 'LSTM_20_ENMO_HRV', ['f1-score', 'accuracy','cohen-kappa', 'precision', 'recall', 'specificity'])"
   ]
  },
  {
   "cell_type": "code",
   "execution_count": 318,
   "metadata": {},
   "outputs": [
    {
     "name": "stdout",
     "output_type": "stream",
     "text": [
      "T-Test for metric: f1-score, the p value = 0.725\n",
      "T-Test for metric: accuracy, the p value = 0.177\n",
      "T-Test for metric: cohen-kappa, the p value = 0.966\n",
      "T-Test for metric: precision, the p value = 0.592\n",
      "T-Test for metric: recall, the p value = 0.126\n",
      "T-Test for metric: specificity, the p value = 0.720\n"
     ]
    }
   ],
   "source": [
    "ttest(task_results1, task_results1,'LSTM_50_ENMO_HRV', 'CNN_50_ENMO_HRV', ['f1-score', 'accuracy','cohen-kappa', 'precision', 'recall', 'specificity'])"
   ]
  },
  {
   "cell_type": "code",
   "execution_count": 9,
   "metadata": {},
   "outputs": [
    {
     "name": "stdout",
     "output_type": "stream",
     "text": [
      "T-Test for metric: f1-score, the p value = 0.138\n",
      "T-Test for metric: accuracy, the p value = 0.364\n",
      "T-Test for metric: cohen-kappa, the p value = nan\n",
      "T-Test for metric: precision, the p value = 0.031\n",
      "T-Test for metric: recall, the p value = 0.063\n",
      "T-Test for metric: specificity, the p value = 0.399\n"
     ]
    },
    {
     "name": "stderr",
     "output_type": "stream",
     "text": [
      "C:\\Users\\admin\\Anaconda3\\envs\\py36keras\\lib\\site-packages\\scipy\\stats\\_distn_infrastructure.py:877: RuntimeWarning: invalid value encountered in greater\n",
      "  return (self.a < x) & (x < self.b)\n",
      "C:\\Users\\admin\\Anaconda3\\envs\\py36keras\\lib\\site-packages\\scipy\\stats\\_distn_infrastructure.py:877: RuntimeWarning: invalid value encountered in less\n",
      "  return (self.a < x) & (x < self.b)\n",
      "C:\\Users\\admin\\Anaconda3\\envs\\py36keras\\lib\\site-packages\\scipy\\stats\\_distn_infrastructure.py:1831: RuntimeWarning: invalid value encountered in less_equal\n",
      "  cond2 = cond0 & (x <= self.a)\n"
     ]
    }
   ],
   "source": [
    "ttest(task_results1, task_results1,'LSTM_50_ENMO_HRV', 'CNN_100_ENMO_HRV', ['f1-score', 'accuracy','cohen-kappa', 'precision', 'recall', 'specificity'])"
   ]
  },
  {
   "cell_type": "markdown",
   "metadata": {},
   "source": [
    "### Compare between multi modality task2 vs task 1 best classifier metrics "
   ]
  },
  {
   "cell_type": "code",
   "execution_count": 323,
   "metadata": {},
   "outputs": [
    {
     "name": "stdout",
     "output_type": "stream",
     "text": [
      "test dataset size is: \n",
      "non ensemble\n",
      "dict_keys(['always_0', 'always_1', 'always_2', 'CNN_20_ENMO_HRV', 'CNN_50_ENMO_HRV', 'CNN_100_ENMO_HRV', 'LSTM_20_ENMO_HRV', 'LSTM_50_ENMO_HRV', 'LSTM_100_ENMO_HRV', 'SGD_hinge', 'SGD_log', 'SGD_perceptron', 'Random_forest_300', 'stages'])\n",
      "dict_keys(['always_0', 'always_1', 'CNN_20_ENMO_HRV', 'CNN_50_ENMO_HRV', 'CNN_100_ENMO_HRV', 'LSTM_20_ENMO_HRV', 'LSTM_50_ENMO_HRV', 'LSTM_100_ENMO_HRV', 'SGD_hinge', 'SGD_log', 'SGD_perceptron', 'Random_forest_300', 'stages'])\n"
     ]
    }
   ],
   "source": [
    "# setup the comparision\n",
    "num_classes1 = 3\n",
    "num_classes2 = 2\n",
    "feature_type1 = 'ENMO_HRV'\n",
    "feature_type2 = 'ENMO_HRV'\n",
    "result_folder1 = cfg.STAGE_OUTPUT_FOLDER_HRV30s[num_classes1]\n",
    "# data loading part for first group\n",
    "ENMO_HRV_PICKLE_RESULT_FILE1 = os.path.join(result_folder1, sub_folder, \"%d_stages_results_%s.pkl\"\n",
    "                                          % (num_classes1, feature_type1))\n",
    "with open(ENMO_HRV_PICKLE_RESULT_FILE1, \"rb\") as f:\n",
    "    task_results1 = pickle.load(f)\n",
    "\n",
    "# data loading part for second group\n",
    "result_folder2 = cfg.STAGE_OUTPUT_FOLDER_HRV30s[num_classes2]\n",
    "ENMO_HRV_PICKLE_RESULT_FILE2 = os.path.join(result_folder2, sub_folder, \"%d_stages_results_%s.pkl\"\n",
    "                                          % (num_classes2, feature_type2))\n",
    "with open(ENMO_HRV_PICKLE_RESULT_FILE2, \"rb\") as f:\n",
    "    task_results2 = pickle.load(f)\n",
    "print(\"test dataset size is: \")\n",
    "print(\"non ensemble\")\n",
    "print(task_results1.keys())\n",
    "print(task_results2.keys())"
   ]
  },
  {
   "cell_type": "code",
   "execution_count": 324,
   "metadata": {
    "scrolled": true
   },
   "outputs": [
    {
     "name": "stdout",
     "output_type": "stream",
     "text": [
      "T-Test for metric: f1-score, the p value = 0.000\n",
      "T-Test for metric: accuracy, the p value = 0.000\n",
      "T-Test for metric: cohen-kappa, the p value = 0.009\n",
      "T-Test for metric: precision, the p value = 0.000\n",
      "T-Test for metric: recall, the p value = 0.000\n",
      "T-Test for metric: specificity, the p value = 0.000\n"
     ]
    }
   ],
   "source": [
    "ttest(task_results1, task_results2,'LSTM_50_ENMO_HRV', 'LSTM_50_ENMO_HRV', ['f1-score', 'accuracy','cohen-kappa', 'precision', 'recall', 'specificity'])"
   ]
  },
  {
   "cell_type": "code",
   "execution_count": 325,
   "metadata": {
    "scrolled": false
   },
   "outputs": [
    {
     "name": "stdout",
     "output_type": "stream",
     "text": [
      "T-Test for metric: f1-score, the p value = 0.000\n",
      "T-Test for metric: accuracy, the p value = 0.000\n",
      "T-Test for metric: cohen-kappa, the p value = 0.004\n",
      "T-Test for metric: precision, the p value = 0.000\n",
      "T-Test for metric: recall, the p value = 0.000\n",
      "T-Test for metric: specificity, the p value = 0.000\n"
     ]
    }
   ],
   "source": [
    "ttest(task_results1, task_results2,'LSTM_100_ENMO_HRV', 'LSTM_100_ENMO_HRV', ['f1-score', 'accuracy','cohen-kappa', 'precision', 'recall', 'specificity'])"
   ]
  },
  {
   "cell_type": "code",
   "execution_count": 326,
   "metadata": {
    "scrolled": false
   },
   "outputs": [
    {
     "name": "stdout",
     "output_type": "stream",
     "text": [
      "T-Test for metric: f1-score, the p value = 0.000\n",
      "T-Test for metric: accuracy, the p value = 0.000\n",
      "T-Test for metric: cohen-kappa, the p value = 0.001\n",
      "T-Test for metric: precision, the p value = 0.000\n",
      "T-Test for metric: recall, the p value = 0.000\n",
      "T-Test for metric: specificity, the p value = 0.000\n"
     ]
    }
   ],
   "source": [
    "ttest(task_results1, task_results2,'LSTM_20_ENMO_HRV', 'LSTM_20_ENMO_HRV', ['f1-score', 'accuracy','cohen-kappa', 'precision', 'recall', 'specificity'])"
   ]
  },
  {
   "cell_type": "markdown",
   "metadata": {},
   "source": []
  },
  {
   "cell_type": "markdown",
   "metadata": {},
   "source": [
    "#### Compare between multi modality task3 best classifier vs the single modality on the best classifiers"
   ]
  },
  {
   "cell_type": "code",
   "execution_count": null,
   "metadata": {},
   "outputs": [],
   "source": []
  },
  {
   "cell_type": "code",
   "execution_count": 327,
   "metadata": {
    "scrolled": true
   },
   "outputs": [
    {
     "name": "stdout",
     "output_type": "stream",
     "text": [
      "test dataset size is: \n",
      "non ensemble\n",
      "dict_keys(['always_0', 'always_1', 'always_2', 'CNN_20_ENMO_HRV', 'CNN_50_ENMO_HRV', 'CNN_100_ENMO_HRV', 'LSTM_20_ENMO_HRV', 'LSTM_50_ENMO_HRV', 'LSTM_100_ENMO_HRV', 'SGD_hinge', 'SGD_log', 'SGD_perceptron', 'Random_forest_300', 'stages'])\n",
      "dict_keys(['always_0', 'always_1', 'always_2', 'CNN_20_HRV', 'CNN_50_HRV', 'CNN_100_HRV', 'LSTM_20_HRV', 'LSTM_50_HRV', 'LSTM_100_HRV', 'SGD_hinge', 'SGD_log', 'SGD_perceptron', 'Random_forest_300', 'stages'])\n"
     ]
    }
   ],
   "source": [
    "# setup the comparision\n",
    "num_classes1 = 3\n",
    "num_classes2 = 3\n",
    "feature_type1 = 'ENMO_HRV'\n",
    "feature_type2 = 'HRV'\n",
    "result_folder1 = cfg.STAGE_OUTPUT_FOLDER_HRV30s[num_classes1]\n",
    "# data loading part for first group\n",
    "ENMO_HRV_PICKLE_RESULT_FILE1 = os.path.join(result_folder1, sub_folder, \"%d_stages_results_%s.pkl\"\n",
    "                                          % (num_classes1, feature_type1))\n",
    "with open(ENMO_HRV_PICKLE_RESULT_FILE1, \"rb\") as f:\n",
    "    task_results1 = pickle.load(f)\n",
    "\n",
    "# data loading part for second group\n",
    "result_folder2 = cfg.STAGE_OUTPUT_FOLDER_HRV30s[num_classes2]\n",
    "ENMO_HRV_PICKLE_RESULT_FILE2 = os.path.join(result_folder2, sub_folder, \"%d_stages_results_%s.pkl\"\n",
    "                                          % (num_classes2, feature_type2))\n",
    "with open(ENMO_HRV_PICKLE_RESULT_FILE2, \"rb\") as f:\n",
    "    task_results2 = pickle.load(f)\n",
    "print(\"test dataset size is: \")\n",
    "print(\"non ensemble\")\n",
    "print(task_results1.keys())\n",
    "print(task_results2.keys())"
   ]
  },
  {
   "cell_type": "code",
   "execution_count": 329,
   "metadata": {
    "scrolled": false
   },
   "outputs": [
    {
     "name": "stdout",
     "output_type": "stream",
     "text": [
      "T-Test for metric: f1-score, the p value = 0.002\n",
      "T-Test for metric: accuracy, the p value = 0.002\n",
      "T-Test for metric: cohen-kappa, the p value = 0.000\n",
      "T-Test for metric: precision, the p value = 0.018\n",
      "T-Test for metric: recall, the p value = 0.003\n",
      "T-Test for metric: specificity, the p value = 0.001\n"
     ]
    }
   ],
   "source": [
    "# will combined sensing in three stages classification is better than single modality HRV? for the best classifer on each group?\n",
    "ttest(task_results1, task_results2,'LSTM_50_ENMO_HRV', 'LSTM_100_HRV', ['f1-score', 'accuracy','cohen-kappa', 'precision', 'recall', 'specificity'])"
   ]
  },
  {
   "cell_type": "markdown",
   "metadata": {},
   "source": [
    "### #### Non ensemble method: Task 3"
   ]
  },
  {
   "cell_type": "markdown",
   "metadata": {},
   "source": [
    "#### Compare between multi modality task3 best classifier vs the rest"
   ]
  },
  {
   "cell_type": "code",
   "execution_count": 11,
   "metadata": {
    "pycharm": {
     "is_executing": false
    }
   },
   "outputs": [
    {
     "name": "stdout",
     "output_type": "stream",
     "text": [
      "test dataset size is: \n",
      "non ensemble\n",
      "dict_keys(['always_0', 'always_1', 'always_2', 'always_3', 'CNN_20_ENMO_HRV', 'CNN_50_ENMO_HRV', 'CNN_100_ENMO_HRV', 'LSTM_20_ENMO_HRV', 'LSTM_50_ENMO_HRV', 'LSTM_100_ENMO_HRV', 'SGD_hinge', 'SGD_log', 'SGD_perceptron', 'Random_forest_300', 'stages'])\n",
      "dict_keys(['always_0', 'always_1', 'always_2', 'always_3', 'CNN_20_ENMO_HRV', 'CNN_50_ENMO_HRV', 'CNN_100_ENMO_HRV', 'LSTM_20_ENMO_HRV', 'LSTM_50_ENMO_HRV', 'LSTM_100_ENMO_HRV', 'SGD_hinge', 'SGD_log', 'SGD_perceptron', 'Random_forest_300', 'stages'])\n"
     ]
    }
   ],
   "source": [
    "# setup the comparision\n",
    "num_classes = 4\n",
    "feature_type1 = 'ENMO_HRV'\n",
    "feature_type2 = 'ENMO_HRV'\n",
    "result_folder = cfg.STAGE_OUTPUT_FOLDER_HRV30s[num_classes]\n",
    "# data loading part for task 2\n",
    "ENMO_HRV_PICKLE_RESULT_FILE1 = os.path.join(result_folder, sub_folder, \"%d_stages_results_%s.pkl\"\n",
    "                                          % (num_classes, feature_type1))\n",
    "with open(ENMO_HRV_PICKLE_RESULT_FILE1, \"rb\") as f:\n",
    "    task_results1 = pickle.load(f)\n",
    "\n",
    "# data loading part for ensemble\n",
    "ENMO_HRV_PICKLE_RESULT_FILE2 = os.path.join(result_folder, sub_folder, \"%d_stages_results_%s.pkl\"\n",
    "                                          % (num_classes, feature_type2))\n",
    "with open(ENMO_HRV_PICKLE_RESULT_FILE2, \"rb\") as f:\n",
    "    task_results2 = pickle.load(f)\n",
    "print(\"test dataset size is: \")\n",
    "print(\"non ensemble\")\n",
    "print(task_results1.keys())\n",
    "print(task_results2.keys())"
   ]
  },
  {
   "cell_type": "code",
   "execution_count": 331,
   "metadata": {},
   "outputs": [
    {
     "name": "stdout",
     "output_type": "stream",
     "text": [
      "T-Test for metric: f1-score, the p value = 0.462\n",
      "T-Test for metric: accuracy, the p value = 0.950\n",
      "T-Test for metric: cohen-kappa, the p value = 0.107\n",
      "T-Test for metric: precision, the p value = 0.053\n",
      "T-Test for metric: recall, the p value = 0.026\n",
      "T-Test for metric: specificity, the p value = 0.087\n"
     ]
    }
   ],
   "source": [
    "ttest(task_results1, task_results1,'LSTM_50_ENMO_HRV', 'LSTM_100_ENMO_HRV', ['f1-score', 'accuracy','cohen-kappa', 'precision', 'recall', 'specificity'])"
   ]
  },
  {
   "cell_type": "code",
   "execution_count": 332,
   "metadata": {},
   "outputs": [
    {
     "name": "stdout",
     "output_type": "stream",
     "text": [
      "T-Test for metric: f1-score, the p value = 0.344\n",
      "T-Test for metric: accuracy, the p value = 0.079\n",
      "T-Test for metric: cohen-kappa, the p value = 0.087\n",
      "T-Test for metric: precision, the p value = 0.918\n",
      "T-Test for metric: recall, the p value = 0.663\n",
      "T-Test for metric: specificity, the p value = 0.147\n"
     ]
    }
   ],
   "source": [
    "ttest(task_results1, task_results1,'LSTM_50_ENMO_HRV', 'CNN_100_ENMO_HRV', ['f1-score', 'accuracy','cohen-kappa', 'precision', 'recall', 'specificity'])"
   ]
  },
  {
   "cell_type": "code",
   "execution_count": 334,
   "metadata": {},
   "outputs": [
    {
     "name": "stdout",
     "output_type": "stream",
     "text": [
      "T-Test for metric: f1-score, the p value = 0.000\n",
      "T-Test for metric: accuracy, the p value = 0.007\n",
      "T-Test for metric: cohen-kappa, the p value = 0.003\n",
      "T-Test for metric: precision, the p value = 0.002\n",
      "T-Test for metric: recall, the p value = 0.000\n",
      "T-Test for metric: specificity, the p value = 0.001\n"
     ]
    }
   ],
   "source": [
    "ttest(task_results1, task_results1,'LSTM_50_ENMO_HRV', 'LSTM_20_ENMO_HRV', ['f1-score', 'accuracy','cohen-kappa', 'precision', 'recall', 'specificity'])"
   ]
  },
  {
   "cell_type": "code",
   "execution_count": 12,
   "metadata": {},
   "outputs": [
    {
     "name": "stdout",
     "output_type": "stream",
     "text": [
      "T-Test for metric: f1-score, the p value = 0.000\n",
      "T-Test for metric: accuracy, the p value = 0.000\n",
      "T-Test for metric: cohen-kappa, the p value = nan\n",
      "T-Test for metric: precision, the p value = 0.000\n",
      "T-Test for metric: recall, the p value = 0.000\n",
      "T-Test for metric: specificity, the p value = 0.000\n"
     ]
    }
   ],
   "source": [
    "ttest(task_results1, task_results1,'CNN_20_ENMO_HRV', 'Random_forest_300', ['f1-score', 'accuracy','cohen-kappa', 'precision', 'recall', 'specificity'])"
   ]
  },
  {
   "cell_type": "code",
   "execution_count": 336,
   "metadata": {},
   "outputs": [
    {
     "name": "stdout",
     "output_type": "stream",
     "text": [
      "T-Test for metric: f1-score, the p value = 0.000\n",
      "T-Test for metric: accuracy, the p value = 0.000\n",
      "T-Test for metric: cohen-kappa, the p value = 0.000\n",
      "T-Test for metric: precision, the p value = 0.000\n",
      "T-Test for metric: recall, the p value = 0.000\n",
      "T-Test for metric: specificity, the p value = 0.000\n"
     ]
    }
   ],
   "source": [
    "ttest(task_results1, task_results1,'LSTM_50_ENMO_HRV', 'CNN_20_ENMO_HRV', ['f1-score', 'accuracy','cohen-kappa', 'precision', 'recall', 'specificity'])"
   ]
  },
  {
   "cell_type": "markdown",
   "metadata": {},
   "source": [
    "#### Compare the 4 stages ENMO_HRV vs HRV"
   ]
  },
  {
   "cell_type": "code",
   "execution_count": 337,
   "metadata": {},
   "outputs": [
    {
     "name": "stdout",
     "output_type": "stream",
     "text": [
      "test dataset size is: \n",
      "non ensemble\n",
      "dict_keys(['always_0', 'always_1', 'always_2', 'always_3', 'CNN_20_ENMO_HRV', 'CNN_50_ENMO_HRV', 'CNN_100_ENMO_HRV', 'LSTM_20_ENMO_HRV', 'LSTM_50_ENMO_HRV', 'LSTM_100_ENMO_HRV', 'SGD_hinge', 'SGD_log', 'SGD_perceptron', 'Random_forest_300', 'stages'])\n",
      "dict_keys(['always_0', 'always_1', 'always_2', 'always_3', 'CNN_20_HRV', 'CNN_50_HRV', 'CNN_100_HRV', 'LSTM_20_HRV', 'LSTM_50_HRV', 'LSTM_100_HRV', 'SGD_hinge', 'SGD_log', 'SGD_perceptron', 'Random_forest_300', 'stages'])\n"
     ]
    }
   ],
   "source": [
    "# setup the comparision\n",
    "num_classes1 = 4\n",
    "num_classes2 = 4\n",
    "feature_type1 = 'ENMO_HRV'\n",
    "feature_type2 = 'HRV'\n",
    "result_folder1 = cfg.STAGE_OUTPUT_FOLDER_HRV30s[num_classes1]\n",
    "# data loading part for first group\n",
    "ENMO_HRV_PICKLE_RESULT_FILE1 = os.path.join(result_folder1, sub_folder, \"%d_stages_results_%s.pkl\"\n",
    "                                          % (num_classes1, feature_type1))\n",
    "with open(ENMO_HRV_PICKLE_RESULT_FILE1, \"rb\") as f:\n",
    "    task_results1 = pickle.load(f)\n",
    "\n",
    "# data loading part for second group\n",
    "result_folder2 = cfg.STAGE_OUTPUT_FOLDER_HRV30s[num_classes2]\n",
    "ENMO_HRV_PICKLE_RESULT_FILE2 = os.path.join(result_folder2, sub_folder, \"%d_stages_results_%s.pkl\"\n",
    "                                          % (num_classes2, feature_type2))\n",
    "with open(ENMO_HRV_PICKLE_RESULT_FILE2, \"rb\") as f:\n",
    "    task_results2 = pickle.load(f)\n",
    "print(\"test dataset size is: \")\n",
    "print(\"non ensemble\")\n",
    "print(task_results1.keys())\n",
    "print(task_results2.keys())"
   ]
  },
  {
   "cell_type": "code",
   "execution_count": 338,
   "metadata": {},
   "outputs": [
    {
     "name": "stdout",
     "output_type": "stream",
     "text": [
      "T-Test for metric: f1-score, the p value = 0.004\n",
      "T-Test for metric: accuracy, the p value = 0.000\n",
      "T-Test for metric: cohen-kappa, the p value = 0.000\n",
      "T-Test for metric: precision, the p value = 0.113\n",
      "T-Test for metric: recall, the p value = 0.001\n",
      "T-Test for metric: specificity, the p value = 0.000\n"
     ]
    }
   ],
   "source": [
    "# will combined sensing in 4 stages classification is better than single modality HRV? for the best classifer on each group?\n",
    "ttest(task_results1, task_results2,'LSTM_50_ENMO_HRV', 'LSTM_100_HRV', ['f1-score', 'accuracy','cohen-kappa', 'precision', 'recall', 'specificity'])"
   ]
  },
  {
   "cell_type": "markdown",
   "metadata": {},
   "source": [
    "### #### Non ensemble method: Task 4"
   ]
  },
  {
   "cell_type": "code",
   "execution_count": 339,
   "metadata": {},
   "outputs": [
    {
     "name": "stdout",
     "output_type": "stream",
     "text": [
      "test dataset size is: \n",
      "non ensemble\n",
      "dict_keys(['always_0', 'always_1', 'always_2', 'always_3', 'always_4', 'CNN_20_ENMO_HRV', 'CNN_50_ENMO_HRV', 'CNN_100_ENMO_HRV', 'LSTM_20_ENMO_HRV', 'LSTM_50_ENMO_HRV', 'LSTM_100_ENMO_HRV', 'SGD_hinge', 'SGD_log', 'SGD_perceptron', 'Random_forest_300', 'stages'])\n",
      "dict_keys(['always_0', 'always_1', 'always_2', 'always_3', 'always_4', 'CNN_20_ENMO_HRV', 'CNN_50_ENMO_HRV', 'CNN_100_ENMO_HRV', 'LSTM_20_ENMO_HRV', 'LSTM_50_ENMO_HRV', 'LSTM_100_ENMO_HRV', 'SGD_hinge', 'SGD_log', 'SGD_perceptron', 'Random_forest_300', 'stages'])\n"
     ]
    }
   ],
   "source": [
    "# setup the comparision\n",
    "num_classes = 5\n",
    "feature_type1 = 'ENMO_HRV'\n",
    "feature_type2 = 'ENMO_HRV'\n",
    "result_folder = cfg.STAGE_OUTPUT_FOLDER_HRV30s[num_classes]\n",
    "# data loading part for task 4\n",
    "ENMO_HRV_PICKLE_RESULT_FILE1 = os.path.join(result_folder, sub_folder, \"%d_stages_results_%s.pkl\"\n",
    "                                          % (num_classes, feature_type1))\n",
    "with open(ENMO_HRV_PICKLE_RESULT_FILE1, \"rb\") as f:\n",
    "    task_results1 = pickle.load(f)\n",
    "\n",
    "# data loading part for ensemble\n",
    "ENMO_HRV_PICKLE_RESULT_FILE2 = os.path.join(result_folder, sub_folder, \"%d_stages_results_%s.pkl\"\n",
    "                                          % (num_classes, feature_type2))\n",
    "with open(ENMO_HRV_PICKLE_RESULT_FILE2, \"rb\") as f:\n",
    "    task_results2 = pickle.load(f)\n",
    "print(\"test dataset size is: \")\n",
    "print(\"non ensemble\")\n",
    "print(task_results1.keys())\n",
    "print(task_results2.keys())"
   ]
  },
  {
   "cell_type": "code",
   "execution_count": 340,
   "metadata": {},
   "outputs": [
    {
     "name": "stdout",
     "output_type": "stream",
     "text": [
      "T-Test for metric: f1-score, the p value = 0.364\n",
      "T-Test for metric: accuracy, the p value = 0.928\n",
      "T-Test for metric: cohen-kappa, the p value = 0.550\n",
      "T-Test for metric: precision, the p value = 0.471\n",
      "T-Test for metric: recall, the p value = 0.655\n",
      "T-Test for metric: specificity, the p value = 0.866\n"
     ]
    }
   ],
   "source": [
    "ttest(task_results1, task_results1,'LSTM_50_ENMO_HRV', 'LSTM_100_ENMO_HRV', ['f1-score', 'accuracy','cohen-kappa', 'precision', 'recall', 'specificity'])"
   ]
  },
  {
   "cell_type": "code",
   "execution_count": 341,
   "metadata": {},
   "outputs": [
    {
     "name": "stdout",
     "output_type": "stream",
     "text": [
      "T-Test for metric: f1-score, the p value = 0.001\n",
      "T-Test for metric: accuracy, the p value = 0.432\n",
      "T-Test for metric: cohen-kappa, the p value = 0.940\n",
      "T-Test for metric: precision, the p value = 0.000\n",
      "T-Test for metric: recall, the p value = 0.005\n",
      "T-Test for metric: specificity, the p value = 0.520\n"
     ]
    }
   ],
   "source": [
    "ttest(task_results1, task_results1,'LSTM_50_ENMO_HRV', 'CNN_100_ENMO_HRV', ['f1-score', 'accuracy','cohen-kappa', 'precision', 'recall', 'specificity'])"
   ]
  },
  {
   "cell_type": "code",
   "execution_count": 342,
   "metadata": {},
   "outputs": [
    {
     "name": "stdout",
     "output_type": "stream",
     "text": [
      "T-Test for metric: f1-score, the p value = 0.254\n",
      "T-Test for metric: accuracy, the p value = 0.290\n",
      "T-Test for metric: cohen-kappa, the p value = 0.810\n",
      "T-Test for metric: precision, the p value = 0.083\n",
      "T-Test for metric: recall, the p value = 0.050\n",
      "T-Test for metric: specificity, the p value = 0.795\n"
     ]
    }
   ],
   "source": [
    "ttest(task_results1, task_results1,'LSTM_50_ENMO_HRV', 'CNN_50_ENMO_HRV', ['f1-score', 'accuracy','cohen-kappa', 'precision', 'recall', 'specificity'])"
   ]
  },
  {
   "cell_type": "code",
   "execution_count": 343,
   "metadata": {},
   "outputs": [
    {
     "name": "stdout",
     "output_type": "stream",
     "text": [
      "T-Test for metric: f1-score, the p value = 0.000\n",
      "T-Test for metric: accuracy, the p value = 0.000\n",
      "T-Test for metric: cohen-kappa, the p value = 0.000\n",
      "T-Test for metric: precision, the p value = 0.000\n",
      "T-Test for metric: recall, the p value = 0.000\n",
      "T-Test for metric: specificity, the p value = 0.000\n"
     ]
    }
   ],
   "source": [
    "ttest(task_results1, task_results1,'LSTM_50_ENMO_HRV', 'SGD_log', ['f1-score', 'accuracy','cohen-kappa', 'precision', 'recall', 'specificity'])"
   ]
  },
  {
   "cell_type": "code",
   "execution_count": 344,
   "metadata": {},
   "outputs": [
    {
     "name": "stdout",
     "output_type": "stream",
     "text": [
      "T-Test for metric: f1-score, the p value = 0.215\n",
      "T-Test for metric: accuracy, the p value = 0.120\n",
      "T-Test for metric: cohen-kappa, the p value = 0.107\n",
      "T-Test for metric: precision, the p value = 0.000\n",
      "T-Test for metric: recall, the p value = 0.891\n",
      "T-Test for metric: specificity, the p value = 0.381\n"
     ]
    }
   ],
   "source": [
    "ttest(task_results1, task_results1,'LSTM_50_ENMO_HRV', 'LSTM_20_ENMO_HRV', ['f1-score', 'accuracy','cohen-kappa', 'precision', 'recall', 'specificity'])"
   ]
  },
  {
   "cell_type": "code",
   "execution_count": 345,
   "metadata": {},
   "outputs": [
    {
     "name": "stdout",
     "output_type": "stream",
     "text": [
      "T-Test for metric: f1-score, the p value = 0.067\n",
      "T-Test for metric: accuracy, the p value = 0.001\n",
      "T-Test for metric: cohen-kappa, the p value = 0.013\n",
      "T-Test for metric: precision, the p value = 0.009\n",
      "T-Test for metric: recall, the p value = 0.632\n",
      "T-Test for metric: specificity, the p value = 0.055\n"
     ]
    }
   ],
   "source": [
    "ttest(task_results1, task_results1,'LSTM_50_ENMO_HRV', 'CNN_20_ENMO_HRV', ['f1-score', 'accuracy','cohen-kappa', 'precision', 'recall', 'specificity'])"
   ]
  },
  {
   "cell_type": "markdown",
   "metadata": {},
   "source": [
    "## This is the data science way to T test"
   ]
  },
  {
   "cell_type": "code",
   "execution_count": 5,
   "metadata": {},
   "outputs": [
    {
     "name": "stdout",
     "output_type": "stream",
     "text": [
      "test dataset size is: \n",
      "(348, 6)\n",
      "non ensemble\n",
      "dict_keys(['always_0', 'always_1', 'always_2', 'CNN_20_ENMO_HRV', 'CNN_50_ENMO_HRV', 'CNN_100_ENMO_HRV', 'LSTM_20_ENMO_HRV', 'LSTM_50_ENMO_HRV', 'LSTM_100_ENMO_HRV', 'SGD_hinge', 'SGD_log', 'SGD_perceptron', 'Random_forest_300', 'stages'])\n",
      "dict_keys(['stages', 'CNN_20', 'CNN_50', 'CNN_100', 'LSTM_20', 'LSTM_50', 'LSTM_100', 'max_ensemble', 'mean_ensemble'])\n"
     ]
    }
   ],
   "source": [
    "# setup the comparision\n",
    "num_classes = 3\n",
    "feature_type = 'ENMO_HRV'\n",
    "result_folder = cfg.STAGE_OUTPUT_FOLDER_HRV30s[num_classes]\n",
    "# data loading part for task 2\n",
    "ENMO_HRV_PICKLE_RESULT_FILE = os.path.join(result_folder, sub_folder, \"%d_stages_results_%s.pkl\"\n",
    "                                          % (num_classes, feature_type))\n",
    "with open(ENMO_HRV_PICKLE_RESULT_FILE, \"rb\") as f:\n",
    "    task_results = pickle.load(f)\n",
    "\n",
    "# data loading part for ensemble\n",
    "ENSEMBLE_PICKLE_RESULT_FILE = os.path.join(result_folder, \"ensemble_all\", \"%d_stages_ensemble_results_%s.pkl\"\n",
    "                                          % (num_classes, feature_type))\n",
    "with open(ENSEMBLE_PICKLE_RESULT_FILE, \"rb\") as f:\n",
    "    ensemble_results = pickle.load(f)\n",
    "print(\"test dataset size is: \")\n",
    "print(ensemble_results['mean_ensemble'].shape)\n",
    "print(\"non ensemble\")\n",
    "print(task_results.keys())\n",
    "print(ensemble_results.keys())"
   ]
  },
  {
   "cell_type": "markdown",
   "metadata": {},
   "source": [
    "## This is the T test for time deviation "
   ]
  },
  {
   "cell_type": "code",
   "execution_count": 6,
   "metadata": {},
   "outputs": [
    {
     "name": "stdout",
     "output_type": "stream",
     "text": [
      "test dataset size is: \n",
      "non ensemble\n",
      "dict_keys(['always_0', 'always_1', 'always_2', 'CNN_20_ENMO_HRV', 'CNN_50_ENMO_HRV', 'CNN_100_ENMO_HRV', 'LSTM_20_ENMO_HRV', 'LSTM_50_ENMO_HRV', 'LSTM_100_ENMO_HRV', 'SGD_hinge', 'SGD_log', 'SGD_perceptron', 'Random_forest_300', 'stages'])\n",
      "dict_keys(['always_0', 'always_1', 'always_2', 'CNN_20_ENMO_HRV', 'CNN_50_ENMO_HRV', 'CNN_100_ENMO_HRV', 'LSTM_20_ENMO_HRV', 'LSTM_50_ENMO_HRV', 'LSTM_100_ENMO_HRV', 'SGD_hinge', 'SGD_log', 'SGD_perceptron', 'Random_forest_300', 'stages'])\n"
     ]
    }
   ],
   "source": [
    "num_classes = 3\n",
    "feature_type1 = 'ENMO_HRV'\n",
    "feature_type2 = 'ENMO_HRV'\n",
    "result_folder = cfg.STAGE_OUTPUT_FOLDER_HRV30s[num_classes]\n",
    "# data loading part for task 4\n",
    "ENMO_HRV_PICKLE_RESULT_FILE1 = os.path.join(result_folder, ANALYSIS_SUB_FOLDER[\"recording_period\"], \"%d_stages_minutes_results_%s.pkl\"\n",
    "                                          % (num_classes, feature_type1))\n",
    "with open(ENMO_HRV_PICKLE_RESULT_FILE1, \"rb\") as f:\n",
    "    task_results1 = pickle.load(f)\n",
    "\n",
    "# data loading part for ensemble\n",
    "ENMO_HRV_PICKLE_RESULT_FILE2 = os.path.join(result_folder, ANALYSIS_SUB_FOLDER[\"recording_period\"], \"%d_stages_minutes_results_%s.pkl\"\n",
    "                                          % (num_classes, feature_type2))\n",
    "with open(ENMO_HRV_PICKLE_RESULT_FILE2, \"rb\") as f:\n",
    "    task_results2 = pickle.load(f)\n",
    "print(\"test dataset size is: \")\n",
    "print(\"non ensemble\")\n",
    "print(task_results1.keys())\n",
    "print(task_results2.keys())"
   ]
  },
  {
   "cell_type": "code",
   "execution_count": 7,
   "metadata": {},
   "outputs": [
    {
     "name": "stdout",
     "output_type": "stream",
     "text": [
      "T-Test for metric: 0, the p value = 0.000\n",
      "T-Test for metric: 1, the p value = 0.485\n",
      "T-Test for metric: 2, the p value = 0.000\n"
     ]
    }
   ],
   "source": [
    "ttest(task_results1, task_results1,'CNN_100_ENMO_HRV', 'LSTM_100_ENMO_HRV', ['0','1', '2'])"
   ]
  },
  {
   "cell_type": "code",
   "execution_count": 13,
   "metadata": {},
   "outputs": [
    {
     "name": "stdout",
     "output_type": "stream",
     "text": [
      "test dataset size is: \n",
      "non ensemble\n",
      "dict_keys(['always_0', 'always_1', 'always_2', 'always_3', 'CNN_20_ENMO_HRV', 'CNN_50_ENMO_HRV', 'CNN_100_ENMO_HRV', 'LSTM_20_ENMO_HRV', 'LSTM_50_ENMO_HRV', 'LSTM_100_ENMO_HRV', 'SGD_hinge', 'SGD_log', 'SGD_perceptron', 'Random_forest_300', 'stages'])\n",
      "dict_keys(['always_0', 'always_1', 'always_2', 'always_3', 'CNN_20_ENMO_HRV', 'CNN_50_ENMO_HRV', 'CNN_100_ENMO_HRV', 'LSTM_20_ENMO_HRV', 'LSTM_50_ENMO_HRV', 'LSTM_100_ENMO_HRV', 'SGD_hinge', 'SGD_log', 'SGD_perceptron', 'Random_forest_300', 'stages'])\n"
     ]
    }
   ],
   "source": [
    "num_classes = 4\n",
    "feature_type1 = 'ENMO_HRV'\n",
    "feature_type2 = 'ENMO_HRV'\n",
    "result_folder = cfg.STAGE_OUTPUT_FOLDER_HRV30s[num_classes]\n",
    "# data loading part for task 4\n",
    "ENMO_HRV_PICKLE_RESULT_FILE1 = os.path.join(result_folder, ANALYSIS_SUB_FOLDER[\"recording_period\"], \"%d_stages_minutes_results_%s.pkl\"\n",
    "                                          % (num_classes, feature_type1))\n",
    "with open(ENMO_HRV_PICKLE_RESULT_FILE1, \"rb\") as f:\n",
    "    task_results1 = pickle.load(f)\n",
    "\n",
    "# data loading part for ensemble\n",
    "ENMO_HRV_PICKLE_RESULT_FILE2 = os.path.join(result_folder, ANALYSIS_SUB_FOLDER[\"recording_period\"], \"%d_stages_minutes_results_%s.pkl\"\n",
    "                                          % (num_classes, feature_type2))\n",
    "with open(ENMO_HRV_PICKLE_RESULT_FILE2, \"rb\") as f:\n",
    "    task_results2 = pickle.load(f)\n",
    "print(\"test dataset size is: \")\n",
    "print(\"non ensemble\")\n",
    "print(task_results1.keys())\n",
    "print(task_results2.keys())"
   ]
  },
  {
   "cell_type": "code",
   "execution_count": 14,
   "metadata": {},
   "outputs": [
    {
     "name": "stdout",
     "output_type": "stream",
     "text": [
      "T-Test for metric: 0, the p value = 0.004\n",
      "T-Test for metric: 1, the p value = 0.558\n",
      "T-Test for metric: 2, the p value = 0.501\n",
      "T-Test for metric: 3, the p value = 0.002\n"
     ]
    }
   ],
   "source": [
    "ttest(task_results1, task_results1,'CNN_100_ENMO_HRV', 'LSTM_50_ENMO_HRV', ['0','1', '2','3'])"
   ]
  },
  {
   "cell_type": "code",
   "execution_count": null,
   "metadata": {},
   "outputs": [],
   "source": []
  }
 ],
 "metadata": {
  "hide_input": false,
  "kernelspec": {
   "display_name": "Python 3",
   "language": "python",
   "name": "python3"
  },
  "language_info": {
   "codemirror_mode": {
    "name": "ipython",
    "version": 3
   },
   "file_extension": ".py",
   "mimetype": "text/x-python",
   "name": "python",
   "nbconvert_exporter": "python",
   "pygments_lexer": "ipython3",
   "version": "3.7.7"
  },
  "varInspector": {
   "cols": {
    "lenName": 16,
    "lenType": 16,
    "lenVar": 40
   },
   "kernels_config": {
    "python": {
     "delete_cmd_postfix": "",
     "delete_cmd_prefix": "del ",
     "library": "var_list.py",
     "varRefreshCmd": "print(var_dic_list())"
    },
    "r": {
     "delete_cmd_postfix": ") ",
     "delete_cmd_prefix": "rm(",
     "library": "var_list.r",
     "varRefreshCmd": "cat(var_dic_list()) "
    }
   },
   "types_to_exclude": [
    "module",
    "function",
    "builtin_function_or_method",
    "instance",
    "_Feature"
   ],
   "window_display": false
  }
 },
 "nbformat": 4,
 "nbformat_minor": 2
}
